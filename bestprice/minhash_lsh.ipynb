{
 "cells": [
  {
   "cell_type": "code",
   "execution_count": 1,
   "metadata": {},
   "outputs": [],
   "source": [
    "import pandas as pd\n",
    "\n",
    "from datasketch import WeightedMinHashGenerator\n",
    "from datasketch import MinHashLSHForest"
   ]
  },
  {
   "cell_type": "code",
   "execution_count": 5,
   "metadata": {},
   "outputs": [],
   "source": [
    "# read the tdiff dataframe\n",
    "df_tfidf = pd.read_pickle('data/tfidfs/df_tfidf_brand_0-0.pkl')"
   ]
  },
  {
   "cell_type": "code",
   "execution_count": 7,
   "metadata": {},
   "outputs": [],
   "source": [
    "# create an extra column with the minhash id (m1, m2 etc)\n",
    "df_tfidf['Minhash_id'] = df_tfidf['doc_id'].apply(lambda x: 'm'+str(x))"
   ]
  },
  {
   "cell_type": "code",
   "execution_count": 8,
   "metadata": {},
   "outputs": [
    {
     "data": {
      "text/html": [
       "<div>\n",
       "<style scoped>\n",
       "    .dataframe tbody tr th:only-of-type {\n",
       "        vertical-align: middle;\n",
       "    }\n",
       "\n",
       "    .dataframe tbody tr th {\n",
       "        vertical-align: top;\n",
       "    }\n",
       "\n",
       "    .dataframe thead th {\n",
       "        text-align: right;\n",
       "    }\n",
       "</style>\n",
       "<table border=\"1\" class=\"dataframe\">\n",
       "  <thead>\n",
       "    <tr style=\"text-align: right;\">\n",
       "      <th></th>\n",
       "      <th>doc_id</th>\n",
       "      <th>term</th>\n",
       "      <th>term_id</th>\n",
       "      <th>tfidf</th>\n",
       "      <th>product_id</th>\n",
       "      <th>brand_name2</th>\n",
       "      <th>Category2</th>\n",
       "      <th>SubCategory2</th>\n",
       "      <th>Minhash_id</th>\n",
       "    </tr>\n",
       "  </thead>\n",
       "  <tbody>\n",
       "    <tr>\n",
       "      <td>0</td>\n",
       "      <td>0</td>\n",
       "      <td>[samsung_brand, galaxy, s10, 128gb, dual, mobi...</td>\n",
       "      <td>[28661, 19239, 27889, 1587, 14268, 22300, 22299]</td>\n",
       "      <td>[0.0, 0.3732597244316061, 0.557812813771961, 0...</td>\n",
       "      <td>2155531584</td>\n",
       "      <td>samsung_brand</td>\n",
       "      <td>mobiles_cat</td>\n",
       "      <td>mobile_phone_subcat</td>\n",
       "      <td>m0</td>\n",
       "    </tr>\n",
       "    <tr>\n",
       "      <td>1</td>\n",
       "      <td>1</td>\n",
       "      <td>[samsung_brand, galaxy, 128gb, dual, mobiles_c...</td>\n",
       "      <td>[28661, 19239, 1587, 14268, 22300, 22299, 8666...</td>\n",
       "      <td>[0.0, 0.3162877488300745, 0.30075305304392586,...</td>\n",
       "      <td>2155621215</td>\n",
       "      <td>samsung_brand</td>\n",
       "      <td>mobiles_cat</td>\n",
       "      <td>mobile_phone_subcat</td>\n",
       "      <td>m1</td>\n",
       "    </tr>\n",
       "  </tbody>\n",
       "</table>\n",
       "</div>"
      ],
      "text/plain": [
       "   doc_id                                               term  \\\n",
       "0       0  [samsung_brand, galaxy, s10, 128gb, dual, mobi...   \n",
       "1       1  [samsung_brand, galaxy, 128gb, dual, mobiles_c...   \n",
       "\n",
       "                                             term_id  \\\n",
       "0   [28661, 19239, 27889, 1587, 14268, 22300, 22299]   \n",
       "1  [28661, 19239, 1587, 14268, 22300, 22299, 8666...   \n",
       "\n",
       "                                               tfidf  product_id  \\\n",
       "0  [0.0, 0.3732597244316061, 0.557812813771961, 0...  2155531584   \n",
       "1  [0.0, 0.3162877488300745, 0.30075305304392586,...  2155621215   \n",
       "\n",
       "     brand_name2    Category2         SubCategory2 Minhash_id  \n",
       "0  samsung_brand  mobiles_cat  mobile_phone_subcat         m0  \n",
       "1  samsung_brand  mobiles_cat  mobile_phone_subcat         m1  "
      ]
     },
     "execution_count": 8,
     "metadata": {},
     "output_type": "execute_result"
    }
   ],
   "source": [
    "df_tfidf.head(2)"
   ]
  },
  {
   "cell_type": "markdown",
   "metadata": {},
   "source": [
    "## - Create the Weighted MinHash for each product"
   ]
  },
  {
   "cell_type": "code",
   "execution_count": 9,
   "metadata": {},
   "outputs": [],
   "source": [
    "mg = WeightedMinHashGenerator(dim=35405, sample_size=128, seed=12)\n",
    "def create_minhash(doc):\n",
    "    term_ids = doc['term_id']\n",
    "    tfidfs = doc['tfidf']\n",
    "    \n",
    "    tfidf_list = [0]*35405\n",
    "    \n",
    "    i = 0\n",
    "    for term_id in term_ids:\n",
    "        try:\n",
    "            tfidf_list[term_id] = tfidfs[i]\n",
    "        except Exception as e:\n",
    "            print('Error 1: ', e)\n",
    "            print('term_id', term_id)\n",
    "\n",
    "        i += 1\n",
    "        \n",
    "    #print('TF-IDF length is: ', len(tfidf_list))\n",
    "    m1 = mg.minhash(tfidf_list)\n",
    "    #print(tfidf_list)\n",
    "    return m1"
   ]
  },
  {
   "cell_type": "code",
   "execution_count": 10,
   "metadata": {},
   "outputs": [
    {
     "name": "stdout",
     "output_type": "stream",
     "text": [
      "TF-IDF length is:  35405\n",
      "Wall time: 53.9 ms\n"
     ]
    }
   ],
   "source": [
    "%%time\n",
    "\n",
    "# create a minhash for each row(product)\n",
    "df_tfidf['Minhash'] = df_tfidf[0:].apply(lambda x: create_minhash(x), axis=1)"
   ]
  },
  {
   "cell_type": "code",
   "execution_count": 7,
   "metadata": {},
   "outputs": [],
   "source": [
    "# create an extra column with the minhash id (m1, m2 etc)\n",
    "df_tfidf['Minhash_id'] = df_tfidf['doc_id'].apply(lambda x: 'm'+str(x))"
   ]
  },
  {
   "cell_type": "code",
   "execution_count": 8,
   "metadata": {},
   "outputs": [
    {
     "data": {
      "text/html": [
       "<div>\n",
       "<style scoped>\n",
       "    .dataframe tbody tr th:only-of-type {\n",
       "        vertical-align: middle;\n",
       "    }\n",
       "\n",
       "    .dataframe tbody tr th {\n",
       "        vertical-align: top;\n",
       "    }\n",
       "\n",
       "    .dataframe thead th {\n",
       "        text-align: right;\n",
       "    }\n",
       "</style>\n",
       "<table border=\"1\" class=\"dataframe\">\n",
       "  <thead>\n",
       "    <tr style=\"text-align: right;\">\n",
       "      <th></th>\n",
       "      <th>doc_id</th>\n",
       "      <th>term</th>\n",
       "      <th>term_id</th>\n",
       "      <th>tfidf</th>\n",
       "      <th>product_id</th>\n",
       "      <th>brand_name2</th>\n",
       "      <th>Category2</th>\n",
       "      <th>SubCategory2</th>\n",
       "      <th>Minhash_id</th>\n",
       "      <th>Minhash</th>\n",
       "    </tr>\n",
       "  </thead>\n",
       "  <tbody>\n",
       "    <tr>\n",
       "      <td>0</td>\n",
       "      <td>0</td>\n",
       "      <td>[samsung_brand, galaxy, s10, 128gb, dual, mobi...</td>\n",
       "      <td>[28661, 19239, 27889, 1587, 14268, 22300, 22299]</td>\n",
       "      <td>[0.0, 0.3732597244316061, 0.557812813771961, 0...</td>\n",
       "      <td>2155531584</td>\n",
       "      <td>samsung_brand</td>\n",
       "      <td>mobiles_cat</td>\n",
       "      <td>mobile_phone_subcat</td>\n",
       "      <td>m0</td>\n",
       "      <td>&lt;datasketch.weighted_minhash.WeightedMinHash o...</td>\n",
       "    </tr>\n",
       "    <tr>\n",
       "      <td>1</td>\n",
       "      <td>1</td>\n",
       "      <td>[samsung_brand, galaxy, 128gb, dual, mobiles_c...</td>\n",
       "      <td>[28661, 19239, 1587, 14268, 22300, 22299, 8666...</td>\n",
       "      <td>[0.0, 0.3162877488300745, 0.30075305304392586,...</td>\n",
       "      <td>2155621215</td>\n",
       "      <td>samsung_brand</td>\n",
       "      <td>mobiles_cat</td>\n",
       "      <td>mobile_phone_subcat</td>\n",
       "      <td>m1</td>\n",
       "      <td>&lt;datasketch.weighted_minhash.WeightedMinHash o...</td>\n",
       "    </tr>\n",
       "  </tbody>\n",
       "</table>\n",
       "</div>"
      ],
      "text/plain": [
       "   doc_id                                               term  \\\n",
       "0       0  [samsung_brand, galaxy, s10, 128gb, dual, mobi...   \n",
       "1       1  [samsung_brand, galaxy, 128gb, dual, mobiles_c...   \n",
       "\n",
       "                                             term_id  \\\n",
       "0   [28661, 19239, 27889, 1587, 14268, 22300, 22299]   \n",
       "1  [28661, 19239, 1587, 14268, 22300, 22299, 8666...   \n",
       "\n",
       "                                               tfidf  product_id  \\\n",
       "0  [0.0, 0.3732597244316061, 0.557812813771961, 0...  2155531584   \n",
       "1  [0.0, 0.3162877488300745, 0.30075305304392586,...  2155621215   \n",
       "\n",
       "     brand_name2    Category2         SubCategory2 Minhash_id  \\\n",
       "0  samsung_brand  mobiles_cat  mobile_phone_subcat         m0   \n",
       "1  samsung_brand  mobiles_cat  mobile_phone_subcat         m1   \n",
       "\n",
       "                                             Minhash  \n",
       "0  <datasketch.weighted_minhash.WeightedMinHash o...  \n",
       "1  <datasketch.weighted_minhash.WeightedMinHash o...  "
      ]
     },
     "execution_count": 8,
     "metadata": {},
     "output_type": "execute_result"
    }
   ],
   "source": [
    "df_tfidf.head(2)"
   ]
  },
  {
   "cell_type": "code",
   "execution_count": 5,
   "metadata": {},
   "outputs": [],
   "source": [
    "minhash_list = df_tfidf['Minhash']"
   ]
  },
  {
   "cell_type": "code",
   "execution_count": 6,
   "metadata": {},
   "outputs": [
    {
     "data": {
      "text/plain": [
       "29541"
      ]
     },
     "execution_count": 6,
     "metadata": {},
     "output_type": "execute_result"
    }
   ],
   "source": [
    "len(minhash_list)"
   ]
  },
  {
   "cell_type": "code",
   "execution_count": 11,
   "metadata": {},
   "outputs": [],
   "source": [
    "df_tfidf.to_pickle('data/minhashes/df_minhash_brand_0-0.pkl') # df_tfidf_brand_0-5"
   ]
  },
  {
   "cell_type": "code",
   "execution_count": 2,
   "metadata": {},
   "outputs": [],
   "source": [
    "df_tfidf = pd.read_pickle('data/minhashes/df_minhash_simple.pkl')"
   ]
  },
  {
   "cell_type": "markdown",
   "metadata": {},
   "source": [
    "## - Create the MinhashLSH forest"
   ]
  },
  {
   "cell_type": "code",
   "execution_count": 3,
   "metadata": {},
   "outputs": [],
   "source": [
    "# Create a MinHash LSH Forest with the same num_perm parameter\n",
    "forest = MinHashLSHForest(num_perm=128)"
   ]
  },
  {
   "cell_type": "code",
   "execution_count": 7,
   "metadata": {},
   "outputs": [],
   "source": [
    "i = 0\n",
    "for minhash in minhash_list:\n",
    "    # Add minhash into the index\n",
    "    forest.add(\"m\"+str(i), minhash)\n",
    "    i += 1"
   ]
  },
  {
   "cell_type": "code",
   "execution_count": 8,
   "metadata": {},
   "outputs": [],
   "source": [
    "# IMPORTANT: must call index() otherwise the keys won't be searchable\n",
    "forest.index()"
   ]
  },
  {
   "cell_type": "code",
   "execution_count": 9,
   "metadata": {},
   "outputs": [
    {
     "name": "stdout",
     "output_type": "stream",
     "text": [
      "True\n",
      "True\n"
     ]
    }
   ],
   "source": [
    "# Check for membership using the key\n",
    "print(\"m2\" in forest)\n",
    "print(\"m3\" in forest)"
   ]
  },
  {
   "cell_type": "markdown",
   "metadata": {},
   "source": [
    "## - Make recommendations"
   ]
  },
  {
   "cell_type": "code",
   "execution_count": 10,
   "metadata": {},
   "outputs": [],
   "source": [
    "def make_recs(doc_id, n_recs):\n",
    "    query = minhash_list[doc_id]\n",
    "    \n",
    "    # Using m1 as the query, retrieve top 10 keys that have the higest Jaccard\n",
    "    results = forest.query(query, n_recs)\n",
    "    \n",
    "    return results"
   ]
  },
  {
   "cell_type": "code",
   "execution_count": 11,
   "metadata": {},
   "outputs": [
    {
     "name": "stdout",
     "output_type": "stream",
     "text": [
      "Wall time: 1min 33s\n"
     ]
    }
   ],
   "source": [
    "%%time\n",
    "\n",
    "df_tfidf['recs'] = df_tfidf['doc_id'].apply(lambda x: make_recs(x, 10))\n",
    "#df_tfidf['recs_30'] = df_tfidf['doc_id'].apply(lambda x: make_recs(x, 30))"
   ]
  },
  {
   "cell_type": "markdown",
   "metadata": {},
   "source": [
    "## - Finalize the dataset"
   ]
  },
  {
   "cell_type": "code",
   "execution_count": 19,
   "metadata": {},
   "outputs": [],
   "source": [
    "# create a df with only the recs of each product\n",
    "df_recs = df_tfidf[['product_id', 'recs']]\n",
    "# expand each row to as many rows as the length of the recs list\n",
    "df_recs = df_recs.set_index('product_id').recs.apply(pd.Series).stack().reset_index(level=-1, drop=True).astype(str).reset_index()\n",
    "# rename the columns\n",
    "df_recs.columns = ['product_id', 'rec_m_id']"
   ]
  },
  {
   "cell_type": "code",
   "execution_count": 20,
   "metadata": {},
   "outputs": [],
   "source": [
    "# add the brand, category, subcategory of each recommended product\n",
    "df_recs = df_recs.merge(df_tfidf[['Minhash_id', 'brand_name2', 'Category2', 'SubCategory2']], left_on='rec_m_id', right_on='Minhash_id', how='left')"
   ]
  },
  {
   "cell_type": "code",
   "execution_count": 21,
   "metadata": {},
   "outputs": [],
   "source": [
    "# groupby each product and convert to lists\n",
    "df_recs = df_recs.groupby(['product_id'], as_index=False)['brand_name2', 'Category2', 'SubCategory2'].agg(lambda x: list(x))\n",
    "# rename columns\n",
    "df_recs.columns = ['product_id', 'Brands', 'Categories', 'Subcategories']"
   ]
  },
  {
   "cell_type": "code",
   "execution_count": 22,
   "metadata": {},
   "outputs": [],
   "source": [
    "# add the above info to the main dataset\n",
    "df_recs2 = df_tfidf.merge(df_recs, left_on='product_id', right_on='product_id', how='left')"
   ]
  },
  {
   "cell_type": "code",
   "execution_count": 23,
   "metadata": {},
   "outputs": [],
   "source": [
    "# create 3 columns with the number of uniique brands, categories, subcategories\n",
    "df_recs2['N_Brands'] = df_recs2['Brands'].apply(lambda x: len(set(x)))\n",
    "df_recs2['N_Categories'] = df_recs2['Categories'].apply(lambda x: len(set(x)))\n",
    "df_recs2['N_Subcategories'] = df_recs2['Subcategories'].apply(lambda x: len(set(x)))"
   ]
  },
  {
   "cell_type": "code",
   "execution_count": 24,
   "metadata": {},
   "outputs": [
    {
     "data": {
      "text/html": [
       "<div>\n",
       "<style scoped>\n",
       "    .dataframe tbody tr th:only-of-type {\n",
       "        vertical-align: middle;\n",
       "    }\n",
       "\n",
       "    .dataframe tbody tr th {\n",
       "        vertical-align: top;\n",
       "    }\n",
       "\n",
       "    .dataframe thead th {\n",
       "        text-align: right;\n",
       "    }\n",
       "</style>\n",
       "<table border=\"1\" class=\"dataframe\">\n",
       "  <thead>\n",
       "    <tr style=\"text-align: right;\">\n",
       "      <th></th>\n",
       "      <th>doc_id</th>\n",
       "      <th>term</th>\n",
       "      <th>term_id</th>\n",
       "      <th>tfidf</th>\n",
       "      <th>product_id</th>\n",
       "      <th>brand_name2</th>\n",
       "      <th>Category2</th>\n",
       "      <th>SubCategory2</th>\n",
       "      <th>Minhash_id</th>\n",
       "      <th>Minhash</th>\n",
       "      <th>recs</th>\n",
       "      <th>recs_30</th>\n",
       "      <th>Brands</th>\n",
       "      <th>Categories</th>\n",
       "      <th>Subcategories</th>\n",
       "      <th>N_Brands</th>\n",
       "      <th>N_Categories</th>\n",
       "      <th>N_Subcategories</th>\n",
       "    </tr>\n",
       "  </thead>\n",
       "  <tbody>\n",
       "    <tr>\n",
       "      <td>0</td>\n",
       "      <td>0</td>\n",
       "      <td>[samsung_brand, galaxy, s10, 128gb, dual, mobi...</td>\n",
       "      <td>[28661, 19239, 27889, 1587, 14268, 22300, 22299]</td>\n",
       "      <td>[0.3460158140661532, 0.3732597244316061, 0.557...</td>\n",
       "      <td>2155531584</td>\n",
       "      <td>samsung_brand</td>\n",
       "      <td>mobiles_cat</td>\n",
       "      <td>mobile_phone_subcat</td>\n",
       "      <td>m0</td>\n",
       "      <td>&lt;datasketch.weighted_minhash.WeightedMinHash o...</td>\n",
       "      <td>[m14, m3, m22, m16, m0, m12, m1, m15, m17, m23]</td>\n",
       "      <td>[m9, m16, m208, m7, m63, m65, m22, m0, m12, m1...</td>\n",
       "      <td>[samsung_brand, samsung_brand, oneplus_brand, ...</td>\n",
       "      <td>[mobiles_cat, mobiles_cat, mobiles_cat, mobile...</td>\n",
       "      <td>[mobile_phone_subcat, mobile_phone_subcat, mob...</td>\n",
       "      <td>7</td>\n",
       "      <td>1</td>\n",
       "      <td>1</td>\n",
       "    </tr>\n",
       "    <tr>\n",
       "      <td>1</td>\n",
       "      <td>1</td>\n",
       "      <td>[samsung_brand, galaxy, 128gb, dual, mobiles_c...</td>\n",
       "      <td>[28661, 19239, 1587, 14268, 22300, 22299, 8666...</td>\n",
       "      <td>[0.2932021745910131, 0.3162877488300745, 0.300...</td>\n",
       "      <td>2155621215</td>\n",
       "      <td>samsung_brand</td>\n",
       "      <td>mobiles_cat</td>\n",
       "      <td>mobile_phone_subcat</td>\n",
       "      <td>m1</td>\n",
       "      <td>&lt;datasketch.weighted_minhash.WeightedMinHash o...</td>\n",
       "      <td>[m3, m22, m0, m50, m12, m1, m17, m23, m210, m125]</td>\n",
       "      <td>[m208, m63, m65, m22, m0, m12, m165, m137, m20...</td>\n",
       "      <td>[oneplus_brand, huawei_brand, huawei_brand, sa...</td>\n",
       "      <td>[mobiles_cat, mobiles_cat, mobiles_cat, mobile...</td>\n",
       "      <td>[mobile_phone_subcat, mobile_phone_subcat, mob...</td>\n",
       "      <td>11</td>\n",
       "      <td>1</td>\n",
       "      <td>1</td>\n",
       "    </tr>\n",
       "  </tbody>\n",
       "</table>\n",
       "</div>"
      ],
      "text/plain": [
       "   doc_id                                               term  \\\n",
       "0       0  [samsung_brand, galaxy, s10, 128gb, dual, mobi...   \n",
       "1       1  [samsung_brand, galaxy, 128gb, dual, mobiles_c...   \n",
       "\n",
       "                                             term_id  \\\n",
       "0   [28661, 19239, 27889, 1587, 14268, 22300, 22299]   \n",
       "1  [28661, 19239, 1587, 14268, 22300, 22299, 8666...   \n",
       "\n",
       "                                               tfidf  product_id  \\\n",
       "0  [0.3460158140661532, 0.3732597244316061, 0.557...  2155531584   \n",
       "1  [0.2932021745910131, 0.3162877488300745, 0.300...  2155621215   \n",
       "\n",
       "     brand_name2    Category2         SubCategory2 Minhash_id  \\\n",
       "0  samsung_brand  mobiles_cat  mobile_phone_subcat         m0   \n",
       "1  samsung_brand  mobiles_cat  mobile_phone_subcat         m1   \n",
       "\n",
       "                                             Minhash  \\\n",
       "0  <datasketch.weighted_minhash.WeightedMinHash o...   \n",
       "1  <datasketch.weighted_minhash.WeightedMinHash o...   \n",
       "\n",
       "                                                recs  \\\n",
       "0    [m14, m3, m22, m16, m0, m12, m1, m15, m17, m23]   \n",
       "1  [m3, m22, m0, m50, m12, m1, m17, m23, m210, m125]   \n",
       "\n",
       "                                             recs_30  \\\n",
       "0  [m9, m16, m208, m7, m63, m65, m22, m0, m12, m1...   \n",
       "1  [m208, m63, m65, m22, m0, m12, m165, m137, m20...   \n",
       "\n",
       "                                              Brands  \\\n",
       "0  [samsung_brand, samsung_brand, oneplus_brand, ...   \n",
       "1  [oneplus_brand, huawei_brand, huawei_brand, sa...   \n",
       "\n",
       "                                          Categories  \\\n",
       "0  [mobiles_cat, mobiles_cat, mobiles_cat, mobile...   \n",
       "1  [mobiles_cat, mobiles_cat, mobiles_cat, mobile...   \n",
       "\n",
       "                                       Subcategories  N_Brands  N_Categories  \\\n",
       "0  [mobile_phone_subcat, mobile_phone_subcat, mob...         7             1   \n",
       "1  [mobile_phone_subcat, mobile_phone_subcat, mob...        11             1   \n",
       "\n",
       "   N_Subcategories  \n",
       "0                1  \n",
       "1                1  "
      ]
     },
     "execution_count": 24,
     "metadata": {},
     "output_type": "execute_result"
    }
   ],
   "source": [
    "df_recs2.head(2)"
   ]
  },
  {
   "cell_type": "code",
   "execution_count": 31,
   "metadata": {},
   "outputs": [
    {
     "data": {
      "text/plain": [
       "30"
      ]
     },
     "execution_count": 31,
     "metadata": {},
     "output_type": "execute_result"
    }
   ],
   "source": [
    "len(df_recs2.iloc[0][11])"
   ]
  },
  {
   "cell_type": "code",
   "execution_count": 18,
   "metadata": {},
   "outputs": [],
   "source": [
    "# data/recommendations\n",
    "df_recs2.to_pickle('data/recommendations/df_recos_simple_10.pkl')"
   ]
  },
  {
   "cell_type": "code",
   "execution_count": null,
   "metadata": {},
   "outputs": [],
   "source": []
  }
 ],
 "metadata": {
  "kernelspec": {
   "display_name": "Python 3",
   "language": "python",
   "name": "python3"
  },
  "language_info": {
   "codemirror_mode": {
    "name": "ipython",
    "version": 3
   },
   "file_extension": ".py",
   "mimetype": "text/x-python",
   "name": "python",
   "nbconvert_exporter": "python",
   "pygments_lexer": "ipython3",
   "version": "3.6.3"
  }
 },
 "nbformat": 4,
 "nbformat_minor": 2
}
