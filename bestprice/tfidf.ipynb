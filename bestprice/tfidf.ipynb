{
 "cells": [
  {
   "cell_type": "code",
   "execution_count": 1,
   "metadata": {},
   "outputs": [],
   "source": [
    "import pandas as pd\n",
    "from sklearn.feature_extraction.text import TfidfVectorizer\n",
    "# https://scikit-learn.org/stable/modules/generated/sklearn.feature_extraction.text.TfidfVectorizer.html\n",
    "\n",
    "# print non truncated column info in pandas dataframe\n",
    "pd.set_option('display.max_colwidth', -1)\n",
    "pd.set_option('display.max_columns', 500)"
   ]
  },
  {
   "cell_type": "code",
   "execution_count": 2,
   "metadata": {},
   "outputs": [],
   "source": [
    "# read the dataset\n",
    "df = pd.read_pickle('data/product_details/df_preproc.pkl')"
   ]
  },
  {
   "cell_type": "code",
   "execution_count": 3,
   "metadata": {},
   "outputs": [
    {
     "data": {
      "text/html": [
       "<div>\n",
       "<style scoped>\n",
       "    .dataframe tbody tr th:only-of-type {\n",
       "        vertical-align: middle;\n",
       "    }\n",
       "\n",
       "    .dataframe tbody tr th {\n",
       "        vertical-align: top;\n",
       "    }\n",
       "\n",
       "    .dataframe thead th {\n",
       "        text-align: right;\n",
       "    }\n",
       "</style>\n",
       "<table border=\"1\" class=\"dataframe\">\n",
       "  <thead>\n",
       "    <tr style=\"text-align: right;\">\n",
       "      <th></th>\n",
       "      <th>product_id</th>\n",
       "      <th>url</th>\n",
       "      <th>Title</th>\n",
       "      <th>Category2</th>\n",
       "      <th>SubCategory2</th>\n",
       "      <th>brand_name2</th>\n",
       "      <th>Title_lc2</th>\n",
       "    </tr>\n",
       "  </thead>\n",
       "  <tbody>\n",
       "    <tr>\n",
       "      <td>0</td>\n",
       "      <td>2155531584</td>\n",
       "      <td>https://www.bestprice.gr/item/2155531584/samsung-galaxy-s10-128gb-dual.html</td>\n",
       "      <td>Samsung Galaxy S10+ 128GB Dual</td>\n",
       "      <td>mobiles_cat</td>\n",
       "      <td>mobile_phone_subcat</td>\n",
       "      <td>samsung_brand</td>\n",
       "      <td>samsung_brand galaxy s10+ 128gb dual mobiles_cat mobile_phone_subcat</td>\n",
       "    </tr>\n",
       "    <tr>\n",
       "      <td>1</td>\n",
       "      <td>2155621215</td>\n",
       "      <td>https://www.bestprice.gr/item/2155621215/samsung-galaxy-a70-6gb-128gb-dual.html</td>\n",
       "      <td>Samsung Galaxy A70 6GB 128GB Dual</td>\n",
       "      <td>mobiles_cat</td>\n",
       "      <td>mobile_phone_subcat</td>\n",
       "      <td>samsung_brand</td>\n",
       "      <td>samsung_brand galaxy a70 6gb 128gb dual mobiles_cat mobile_phone_subcat</td>\n",
       "    </tr>\n",
       "  </tbody>\n",
       "</table>\n",
       "</div>"
      ],
      "text/plain": [
       "   product_id  \\\n",
       "0  2155531584   \n",
       "1  2155621215   \n",
       "\n",
       "                                                                               url  \\\n",
       "0  https://www.bestprice.gr/item/2155531584/samsung-galaxy-s10-128gb-dual.html       \n",
       "1  https://www.bestprice.gr/item/2155621215/samsung-galaxy-a70-6gb-128gb-dual.html   \n",
       "\n",
       "                               Title    Category2         SubCategory2  \\\n",
       "0  Samsung Galaxy S10+ 128GB Dual     mobiles_cat  mobile_phone_subcat   \n",
       "1  Samsung Galaxy A70 6GB 128GB Dual  mobiles_cat  mobile_phone_subcat   \n",
       "\n",
       "     brand_name2  \\\n",
       "0  samsung_brand   \n",
       "1  samsung_brand   \n",
       "\n",
       "                                                                 Title_lc2  \n",
       "0  samsung_brand galaxy s10+ 128gb dual mobiles_cat mobile_phone_subcat     \n",
       "1  samsung_brand galaxy a70 6gb 128gb dual mobiles_cat mobile_phone_subcat  "
      ]
     },
     "execution_count": 3,
     "metadata": {},
     "output_type": "execute_result"
    }
   ],
   "source": [
    "df.head(2)"
   ]
  },
  {
   "cell_type": "code",
   "execution_count": 4,
   "metadata": {},
   "outputs": [
    {
     "data": {
      "text/plain": [
       "(29541, 7)"
      ]
     },
     "execution_count": 4,
     "metadata": {},
     "output_type": "execute_result"
    }
   ],
   "source": [
    "df.shape"
   ]
  },
  {
   "cell_type": "code",
   "execution_count": 5,
   "metadata": {},
   "outputs": [
    {
     "data": {
      "text/plain": [
       "28293"
      ]
     },
     "execution_count": 5,
     "metadata": {},
     "output_type": "execute_result"
    }
   ],
   "source": [
    "df.Title_lc2.nunique()"
   ]
  },
  {
   "cell_type": "code",
   "execution_count": 6,
   "metadata": {},
   "outputs": [
    {
     "data": {
      "text/plain": [
       "29541"
      ]
     },
     "execution_count": 6,
     "metadata": {},
     "output_type": "execute_result"
    }
   ],
   "source": [
    "df.url.nunique()"
   ]
  },
  {
   "cell_type": "code",
   "execution_count": 7,
   "metadata": {},
   "outputs": [
    {
     "data": {
      "text/plain": [
       "28290"
      ]
     },
     "execution_count": 7,
     "metadata": {},
     "output_type": "execute_result"
    }
   ],
   "source": [
    "df.Title.nunique()"
   ]
  },
  {
   "cell_type": "code",
   "execution_count": 8,
   "metadata": {},
   "outputs": [],
   "source": [
    "# create a list of all preprocessed product titles\n",
    "corpus = df.Title_lc2.values.tolist()"
   ]
  },
  {
   "cell_type": "code",
   "execution_count": 9,
   "metadata": {},
   "outputs": [
    {
     "data": {
      "text/plain": [
       "29541"
      ]
     },
     "execution_count": 9,
     "metadata": {},
     "output_type": "execute_result"
    }
   ],
   "source": [
    "# the number of products\n",
    "len(corpus)"
   ]
  },
  {
   "cell_type": "code",
   "execution_count": 10,
   "metadata": {},
   "outputs": [],
   "source": [
    "# Convert the above corpus to a matrix of TF-IDF features.\n",
    "# https://scikit-learn.org/stable/modules/generated/sklearn.feature_extraction.text.TfidfVectorizer.html\n",
    "tf = TfidfVectorizer() \n",
    "tfidf_matrix = tf.fit_transform(corpus)"
   ]
  },
  {
   "cell_type": "code",
   "execution_count": 11,
   "metadata": {},
   "outputs": [],
   "source": [
    "# get a list of the unique terms in the corpus\n",
    "feature_names = tf.get_feature_names()"
   ]
  },
  {
   "cell_type": "code",
   "execution_count": 12,
   "metadata": {},
   "outputs": [
    {
     "data": {
      "text/plain": [
       "35405"
      ]
     },
     "execution_count": 12,
     "metadata": {},
     "output_type": "execute_result"
    }
   ],
   "source": [
    "len(feature_names)"
   ]
  },
  {
   "cell_type": "code",
   "execution_count": 13,
   "metadata": {},
   "outputs": [
    {
     "data": {
      "text/plain": [
       "['0035ng',\n",
       " '00360100',\n",
       " '003618',\n",
       " '0037x615',\n",
       " '003846',\n",
       " '003847',\n",
       " '0038ng',\n",
       " '0038x112',\n",
       " '0038x888',\n",
       " '003901']"
      ]
     },
     "execution_count": 13,
     "metadata": {},
     "output_type": "execute_result"
    }
   ],
   "source": [
    "feature_names[90:100]"
   ]
  },
  {
   "cell_type": "code",
   "execution_count": 14,
   "metadata": {},
   "outputs": [],
   "source": [
    "# transform the sparce matrix to a list of dicts\n",
    "# each dict corresponds to each term of a product title\n",
    "tfidf_list = []\n",
    "for doc in range(0,len(corpus)):\n",
    "    feature_index = tfidf_matrix[doc,:].nonzero()[1]\n",
    "    tfidf_scores = zip(feature_index, [tfidf_matrix[doc, x] for x in feature_index])\n",
    "\n",
    "    for i, w, s in [(i, feature_names[i], s) for (i, s) in tfidf_scores]:\n",
    "        doc_dict = {'doc_id':doc, 'term_id':i, 'term':w, 'tfidf':s}\n",
    "        tfidf_list.append(doc_dict)"
   ]
  },
  {
   "cell_type": "code",
   "execution_count": 15,
   "metadata": {},
   "outputs": [
    {
     "data": {
      "text/html": [
       "<div>\n",
       "<style scoped>\n",
       "    .dataframe tbody tr th:only-of-type {\n",
       "        vertical-align: middle;\n",
       "    }\n",
       "\n",
       "    .dataframe tbody tr th {\n",
       "        vertical-align: top;\n",
       "    }\n",
       "\n",
       "    .dataframe thead th {\n",
       "        text-align: right;\n",
       "    }\n",
       "</style>\n",
       "<table border=\"1\" class=\"dataframe\">\n",
       "  <thead>\n",
       "    <tr style=\"text-align: right;\">\n",
       "      <th></th>\n",
       "      <th>doc_id</th>\n",
       "      <th>term_id</th>\n",
       "      <th>term</th>\n",
       "      <th>tfidf</th>\n",
       "    </tr>\n",
       "  </thead>\n",
       "  <tbody>\n",
       "    <tr>\n",
       "      <td>0</td>\n",
       "      <td>0</td>\n",
       "      <td>28661</td>\n",
       "      <td>samsung_brand</td>\n",
       "      <td>0.346016</td>\n",
       "    </tr>\n",
       "    <tr>\n",
       "      <td>1</td>\n",
       "      <td>0</td>\n",
       "      <td>19239</td>\n",
       "      <td>galaxy</td>\n",
       "      <td>0.373260</td>\n",
       "    </tr>\n",
       "    <tr>\n",
       "      <td>2</td>\n",
       "      <td>0</td>\n",
       "      <td>27889</td>\n",
       "      <td>s10</td>\n",
       "      <td>0.557813</td>\n",
       "    </tr>\n",
       "    <tr>\n",
       "      <td>3</td>\n",
       "      <td>0</td>\n",
       "      <td>1587</td>\n",
       "      <td>128gb</td>\n",
       "      <td>0.354927</td>\n",
       "    </tr>\n",
       "    <tr>\n",
       "      <td>4</td>\n",
       "      <td>0</td>\n",
       "      <td>14268</td>\n",
       "      <td>dual</td>\n",
       "      <td>0.401626</td>\n",
       "    </tr>\n",
       "  </tbody>\n",
       "</table>\n",
       "</div>"
      ],
      "text/plain": [
       "   doc_id  term_id           term     tfidf\n",
       "0  0       28661    samsung_brand  0.346016\n",
       "1  0       19239    galaxy         0.373260\n",
       "2  0       27889    s10            0.557813\n",
       "3  0       1587     128gb          0.354927\n",
       "4  0       14268    dual           0.401626"
      ]
     },
     "execution_count": 15,
     "metadata": {},
     "output_type": "execute_result"
    }
   ],
   "source": [
    "# transform the list of dicts to a pandas dataframe\n",
    "df_tfidf = pd.DataFrame(tfidf_list)\n",
    "df_tfidf.head()"
   ]
  },
  {
   "cell_type": "markdown",
   "metadata": {},
   "source": [
    "## -- Set the weights for brand, category, subcategory"
   ]
  },
  {
   "cell_type": "code",
   "execution_count": 16,
   "metadata": {},
   "outputs": [],
   "source": [
    "# set the 3 weights\n",
    "brand_weight = 0.0\n",
    "category_weight = 1.0\n",
    "subcategory_weight = 1.0"
   ]
  },
  {
   "cell_type": "code",
   "execution_count": 17,
   "metadata": {},
   "outputs": [
    {
     "data": {
      "text/html": [
       "<div>\n",
       "<style scoped>\n",
       "    .dataframe tbody tr th:only-of-type {\n",
       "        vertical-align: middle;\n",
       "    }\n",
       "\n",
       "    .dataframe tbody tr th {\n",
       "        vertical-align: top;\n",
       "    }\n",
       "\n",
       "    .dataframe thead th {\n",
       "        text-align: right;\n",
       "    }\n",
       "</style>\n",
       "<table border=\"1\" class=\"dataframe\">\n",
       "  <thead>\n",
       "    <tr style=\"text-align: right;\">\n",
       "      <th></th>\n",
       "      <th>term</th>\n",
       "      <th>weight</th>\n",
       "    </tr>\n",
       "  </thead>\n",
       "  <tbody>\n",
       "    <tr>\n",
       "      <td>0</td>\n",
       "      <td>samsung_brand</td>\n",
       "      <td>0.0</td>\n",
       "    </tr>\n",
       "    <tr>\n",
       "      <td>1</td>\n",
       "      <td>xiaomi_brand</td>\n",
       "      <td>0.0</td>\n",
       "    </tr>\n",
       "    <tr>\n",
       "      <td>2</td>\n",
       "      <td>huawei_brand</td>\n",
       "      <td>0.0</td>\n",
       "    </tr>\n",
       "    <tr>\n",
       "      <td>3</td>\n",
       "      <td>apple_brand</td>\n",
       "      <td>0.0</td>\n",
       "    </tr>\n",
       "    <tr>\n",
       "      <td>4</td>\n",
       "      <td>nokia_brand</td>\n",
       "      <td>0.0</td>\n",
       "    </tr>\n",
       "    <tr>\n",
       "      <td>...</td>\n",
       "      <td>...</td>\n",
       "      <td>...</td>\n",
       "    </tr>\n",
       "    <tr>\n",
       "      <td>18</td>\n",
       "      <td>compact_subcat</td>\n",
       "      <td>1.0</td>\n",
       "    </tr>\n",
       "    <tr>\n",
       "      <td>19</td>\n",
       "      <td>dslr_subcat</td>\n",
       "      <td>1.0</td>\n",
       "    </tr>\n",
       "    <tr>\n",
       "      <td>20</td>\n",
       "      <td>analog_subcat</td>\n",
       "      <td>1.0</td>\n",
       "    </tr>\n",
       "    <tr>\n",
       "      <td>21</td>\n",
       "      <td>photograph_cases_subcat</td>\n",
       "      <td>1.0</td>\n",
       "    </tr>\n",
       "    <tr>\n",
       "      <td>22</td>\n",
       "      <td>photograph_battery_subcat</td>\n",
       "      <td>1.0</td>\n",
       "    </tr>\n",
       "  </tbody>\n",
       "</table>\n",
       "<p>544 rows × 2 columns</p>\n",
       "</div>"
      ],
      "text/plain": [
       "                         term  weight\n",
       "0   samsung_brand              0.0   \n",
       "1   xiaomi_brand               0.0   \n",
       "2   huawei_brand               0.0   \n",
       "3   apple_brand                0.0   \n",
       "4   nokia_brand                0.0   \n",
       "..          ...                ...   \n",
       "18  compact_subcat             1.0   \n",
       "19  dslr_subcat                1.0   \n",
       "20  analog_subcat              1.0   \n",
       "21  photograph_cases_subcat    1.0   \n",
       "22  photograph_battery_subcat  1.0   \n",
       "\n",
       "[544 rows x 2 columns]"
      ]
     },
     "execution_count": 17,
     "metadata": {},
     "output_type": "execute_result"
    }
   ],
   "source": [
    "# create a df for the weights of the 3 kind of terms\n",
    "\n",
    "df_brand_weights = pd.DataFrame({'term':list(df.brand_name2.unique()), \n",
    "                                 'weight':brand_weight})\n",
    "\n",
    "df_category_weights = pd.DataFrame({'term':list(df.Category2.unique()), \n",
    "                                 'weight':category_weight})\n",
    "\n",
    "df_subcategory_weights = pd.DataFrame({'term':list(df.SubCategory2.unique()), \n",
    "                                 'weight':subcategory_weight})\n",
    "\n",
    "df_weights = pd.concat([df_brand_weights, df_category_weights, df_subcategory_weights], axis=0)\n",
    "\n",
    "df_weights"
   ]
  },
  {
   "cell_type": "code",
   "execution_count": 18,
   "metadata": {},
   "outputs": [],
   "source": [
    "# merge the main 'df_tfidf' with the above df\n",
    "df_tfidf = df_tfidf.merge(df_weights, left_on='term', right_on='term', how='left')\n",
    "# set the weight of all the other terms to 1\n",
    "df_tfidf = df_tfidf.fillna(1)"
   ]
  },
  {
   "cell_type": "code",
   "execution_count": 19,
   "metadata": {},
   "outputs": [
    {
     "data": {
      "text/html": [
       "<div>\n",
       "<style scoped>\n",
       "    .dataframe tbody tr th:only-of-type {\n",
       "        vertical-align: middle;\n",
       "    }\n",
       "\n",
       "    .dataframe tbody tr th {\n",
       "        vertical-align: top;\n",
       "    }\n",
       "\n",
       "    .dataframe thead th {\n",
       "        text-align: right;\n",
       "    }\n",
       "</style>\n",
       "<table border=\"1\" class=\"dataframe\">\n",
       "  <thead>\n",
       "    <tr style=\"text-align: right;\">\n",
       "      <th></th>\n",
       "      <th>doc_id</th>\n",
       "      <th>term_id</th>\n",
       "      <th>term</th>\n",
       "      <th>tfidf</th>\n",
       "      <th>weight</th>\n",
       "    </tr>\n",
       "  </thead>\n",
       "  <tbody>\n",
       "    <tr>\n",
       "      <td>0</td>\n",
       "      <td>0</td>\n",
       "      <td>28661</td>\n",
       "      <td>samsung_brand</td>\n",
       "      <td>0.346016</td>\n",
       "      <td>0.0</td>\n",
       "    </tr>\n",
       "    <tr>\n",
       "      <td>1</td>\n",
       "      <td>0</td>\n",
       "      <td>19239</td>\n",
       "      <td>galaxy</td>\n",
       "      <td>0.373260</td>\n",
       "      <td>1.0</td>\n",
       "    </tr>\n",
       "    <tr>\n",
       "      <td>2</td>\n",
       "      <td>0</td>\n",
       "      <td>27889</td>\n",
       "      <td>s10</td>\n",
       "      <td>0.557813</td>\n",
       "      <td>1.0</td>\n",
       "    </tr>\n",
       "    <tr>\n",
       "      <td>3</td>\n",
       "      <td>0</td>\n",
       "      <td>1587</td>\n",
       "      <td>128gb</td>\n",
       "      <td>0.354927</td>\n",
       "      <td>1.0</td>\n",
       "    </tr>\n",
       "    <tr>\n",
       "      <td>4</td>\n",
       "      <td>0</td>\n",
       "      <td>14268</td>\n",
       "      <td>dual</td>\n",
       "      <td>0.401626</td>\n",
       "      <td>1.0</td>\n",
       "    </tr>\n",
       "    <tr>\n",
       "      <td>5</td>\n",
       "      <td>0</td>\n",
       "      <td>22300</td>\n",
       "      <td>mobiles_cat</td>\n",
       "      <td>0.187396</td>\n",
       "      <td>1.0</td>\n",
       "    </tr>\n",
       "    <tr>\n",
       "      <td>6</td>\n",
       "      <td>0</td>\n",
       "      <td>22299</td>\n",
       "      <td>mobile_phone_subcat</td>\n",
       "      <td>0.327722</td>\n",
       "      <td>1.0</td>\n",
       "    </tr>\n",
       "    <tr>\n",
       "      <td>7</td>\n",
       "      <td>1</td>\n",
       "      <td>28661</td>\n",
       "      <td>samsung_brand</td>\n",
       "      <td>0.293202</td>\n",
       "      <td>0.0</td>\n",
       "    </tr>\n",
       "    <tr>\n",
       "      <td>8</td>\n",
       "      <td>1</td>\n",
       "      <td>19239</td>\n",
       "      <td>galaxy</td>\n",
       "      <td>0.316288</td>\n",
       "      <td>1.0</td>\n",
       "    </tr>\n",
       "    <tr>\n",
       "      <td>9</td>\n",
       "      <td>1</td>\n",
       "      <td>1587</td>\n",
       "      <td>128gb</td>\n",
       "      <td>0.300753</td>\n",
       "      <td>1.0</td>\n",
       "    </tr>\n",
       "    <tr>\n",
       "      <td>10</td>\n",
       "      <td>1</td>\n",
       "      <td>14268</td>\n",
       "      <td>dual</td>\n",
       "      <td>0.340324</td>\n",
       "      <td>1.0</td>\n",
       "    </tr>\n",
       "    <tr>\n",
       "      <td>11</td>\n",
       "      <td>1</td>\n",
       "      <td>22300</td>\n",
       "      <td>mobiles_cat</td>\n",
       "      <td>0.158793</td>\n",
       "      <td>1.0</td>\n",
       "    </tr>\n",
       "  </tbody>\n",
       "</table>\n",
       "</div>"
      ],
      "text/plain": [
       "    doc_id  term_id                 term     tfidf  weight\n",
       "0   0       28661    samsung_brand        0.346016  0.0   \n",
       "1   0       19239    galaxy               0.373260  1.0   \n",
       "2   0       27889    s10                  0.557813  1.0   \n",
       "3   0       1587     128gb                0.354927  1.0   \n",
       "4   0       14268    dual                 0.401626  1.0   \n",
       "5   0       22300    mobiles_cat          0.187396  1.0   \n",
       "6   0       22299    mobile_phone_subcat  0.327722  1.0   \n",
       "7   1       28661    samsung_brand        0.293202  0.0   \n",
       "8   1       19239    galaxy               0.316288  1.0   \n",
       "9   1       1587     128gb                0.300753  1.0   \n",
       "10  1       14268    dual                 0.340324  1.0   \n",
       "11  1       22300    mobiles_cat          0.158793  1.0   "
      ]
     },
     "execution_count": 19,
     "metadata": {},
     "output_type": "execute_result"
    }
   ],
   "source": [
    "df_tfidf.head(12)"
   ]
  },
  {
   "cell_type": "code",
   "execution_count": 20,
   "metadata": {},
   "outputs": [],
   "source": [
    "df_tfidf['tfidf'] = df_tfidf['tfidf'] * df_tfidf['weight']"
   ]
  },
  {
   "cell_type": "code",
   "execution_count": 21,
   "metadata": {},
   "outputs": [
    {
     "data": {
      "text/html": [
       "<div>\n",
       "<style scoped>\n",
       "    .dataframe tbody tr th:only-of-type {\n",
       "        vertical-align: middle;\n",
       "    }\n",
       "\n",
       "    .dataframe tbody tr th {\n",
       "        vertical-align: top;\n",
       "    }\n",
       "\n",
       "    .dataframe thead th {\n",
       "        text-align: right;\n",
       "    }\n",
       "</style>\n",
       "<table border=\"1\" class=\"dataframe\">\n",
       "  <thead>\n",
       "    <tr style=\"text-align: right;\">\n",
       "      <th></th>\n",
       "      <th>doc_id</th>\n",
       "      <th>term_id</th>\n",
       "      <th>term</th>\n",
       "      <th>tfidf</th>\n",
       "      <th>weight</th>\n",
       "    </tr>\n",
       "  </thead>\n",
       "  <tbody>\n",
       "    <tr>\n",
       "      <td>0</td>\n",
       "      <td>0</td>\n",
       "      <td>28661</td>\n",
       "      <td>samsung_brand</td>\n",
       "      <td>0.000000</td>\n",
       "      <td>0.0</td>\n",
       "    </tr>\n",
       "    <tr>\n",
       "      <td>1</td>\n",
       "      <td>0</td>\n",
       "      <td>19239</td>\n",
       "      <td>galaxy</td>\n",
       "      <td>0.373260</td>\n",
       "      <td>1.0</td>\n",
       "    </tr>\n",
       "    <tr>\n",
       "      <td>2</td>\n",
       "      <td>0</td>\n",
       "      <td>27889</td>\n",
       "      <td>s10</td>\n",
       "      <td>0.557813</td>\n",
       "      <td>1.0</td>\n",
       "    </tr>\n",
       "    <tr>\n",
       "      <td>3</td>\n",
       "      <td>0</td>\n",
       "      <td>1587</td>\n",
       "      <td>128gb</td>\n",
       "      <td>0.354927</td>\n",
       "      <td>1.0</td>\n",
       "    </tr>\n",
       "    <tr>\n",
       "      <td>4</td>\n",
       "      <td>0</td>\n",
       "      <td>14268</td>\n",
       "      <td>dual</td>\n",
       "      <td>0.401626</td>\n",
       "      <td>1.0</td>\n",
       "    </tr>\n",
       "    <tr>\n",
       "      <td>5</td>\n",
       "      <td>0</td>\n",
       "      <td>22300</td>\n",
       "      <td>mobiles_cat</td>\n",
       "      <td>0.187396</td>\n",
       "      <td>1.0</td>\n",
       "    </tr>\n",
       "    <tr>\n",
       "      <td>6</td>\n",
       "      <td>0</td>\n",
       "      <td>22299</td>\n",
       "      <td>mobile_phone_subcat</td>\n",
       "      <td>0.327722</td>\n",
       "      <td>1.0</td>\n",
       "    </tr>\n",
       "    <tr>\n",
       "      <td>7</td>\n",
       "      <td>1</td>\n",
       "      <td>28661</td>\n",
       "      <td>samsung_brand</td>\n",
       "      <td>0.000000</td>\n",
       "      <td>0.0</td>\n",
       "    </tr>\n",
       "    <tr>\n",
       "      <td>8</td>\n",
       "      <td>1</td>\n",
       "      <td>19239</td>\n",
       "      <td>galaxy</td>\n",
       "      <td>0.316288</td>\n",
       "      <td>1.0</td>\n",
       "    </tr>\n",
       "    <tr>\n",
       "      <td>9</td>\n",
       "      <td>1</td>\n",
       "      <td>1587</td>\n",
       "      <td>128gb</td>\n",
       "      <td>0.300753</td>\n",
       "      <td>1.0</td>\n",
       "    </tr>\n",
       "    <tr>\n",
       "      <td>10</td>\n",
       "      <td>1</td>\n",
       "      <td>14268</td>\n",
       "      <td>dual</td>\n",
       "      <td>0.340324</td>\n",
       "      <td>1.0</td>\n",
       "    </tr>\n",
       "    <tr>\n",
       "      <td>11</td>\n",
       "      <td>1</td>\n",
       "      <td>22300</td>\n",
       "      <td>mobiles_cat</td>\n",
       "      <td>0.158793</td>\n",
       "      <td>1.0</td>\n",
       "    </tr>\n",
       "  </tbody>\n",
       "</table>\n",
       "</div>"
      ],
      "text/plain": [
       "    doc_id  term_id                 term     tfidf  weight\n",
       "0   0       28661    samsung_brand        0.000000  0.0   \n",
       "1   0       19239    galaxy               0.373260  1.0   \n",
       "2   0       27889    s10                  0.557813  1.0   \n",
       "3   0       1587     128gb                0.354927  1.0   \n",
       "4   0       14268    dual                 0.401626  1.0   \n",
       "5   0       22300    mobiles_cat          0.187396  1.0   \n",
       "6   0       22299    mobile_phone_subcat  0.327722  1.0   \n",
       "7   1       28661    samsung_brand        0.000000  0.0   \n",
       "8   1       19239    galaxy               0.316288  1.0   \n",
       "9   1       1587     128gb                0.300753  1.0   \n",
       "10  1       14268    dual                 0.340324  1.0   \n",
       "11  1       22300    mobiles_cat          0.158793  1.0   "
      ]
     },
     "execution_count": 21,
     "metadata": {},
     "output_type": "execute_result"
    }
   ],
   "source": [
    "df_tfidf.head(12)"
   ]
  },
  {
   "cell_type": "code",
   "execution_count": 22,
   "metadata": {},
   "outputs": [
    {
     "data": {
      "text/plain": [
       "(298104, 5)"
      ]
     },
     "execution_count": 22,
     "metadata": {},
     "output_type": "execute_result"
    }
   ],
   "source": [
    "df_tfidf.shape"
   ]
  },
  {
   "cell_type": "code",
   "execution_count": 23,
   "metadata": {},
   "outputs": [
    {
     "name": "stdout",
     "output_type": "stream",
     "text": [
      "35404\n"
     ]
    }
   ],
   "source": [
    "# check the number of unique terms\n",
    "print(df_tfidf.term_id.max())"
   ]
  },
  {
   "cell_type": "code",
   "execution_count": 24,
   "metadata": {},
   "outputs": [],
   "source": [
    "# groupby each product to a row and convert the rest of the columns to lists\n",
    "df_tfidf2 = df_tfidf.groupby(['doc_id'], as_index=False)['term','term_id','tfidf'].agg(lambda x: list(x))"
   ]
  },
  {
   "cell_type": "code",
   "execution_count": 25,
   "metadata": {},
   "outputs": [],
   "source": [
    "# add a column with the product id\n",
    "df_tfidf2['product_id'] = df['product_id'].values.tolist()\n",
    "# add a column with the product brand\n",
    "df_tfidf2['brand_name2'] = df['brand_name2'].values.tolist()\n",
    "# add a column with the product categories\n",
    "df_tfidf2['Category2'] = df['Category2'].values.tolist()\n",
    "# add a column with the product subcategories\n",
    "df_tfidf2['SubCategory2'] = df['SubCategory2'].values.tolist()"
   ]
  },
  {
   "cell_type": "code",
   "execution_count": 26,
   "metadata": {},
   "outputs": [
    {
     "data": {
      "text/html": [
       "<div>\n",
       "<style scoped>\n",
       "    .dataframe tbody tr th:only-of-type {\n",
       "        vertical-align: middle;\n",
       "    }\n",
       "\n",
       "    .dataframe tbody tr th {\n",
       "        vertical-align: top;\n",
       "    }\n",
       "\n",
       "    .dataframe thead th {\n",
       "        text-align: right;\n",
       "    }\n",
       "</style>\n",
       "<table border=\"1\" class=\"dataframe\">\n",
       "  <thead>\n",
       "    <tr style=\"text-align: right;\">\n",
       "      <th></th>\n",
       "      <th>doc_id</th>\n",
       "      <th>term</th>\n",
       "      <th>term_id</th>\n",
       "      <th>tfidf</th>\n",
       "      <th>product_id</th>\n",
       "      <th>brand_name2</th>\n",
       "      <th>Category2</th>\n",
       "      <th>SubCategory2</th>\n",
       "    </tr>\n",
       "  </thead>\n",
       "  <tbody>\n",
       "    <tr>\n",
       "      <td>0</td>\n",
       "      <td>0</td>\n",
       "      <td>[samsung_brand, galaxy, s10, 128gb, dual, mobiles_cat, mobile_phone_subcat]</td>\n",
       "      <td>[28661, 19239, 27889, 1587, 14268, 22300, 22299]</td>\n",
       "      <td>[0.0, 0.3732597244316061, 0.557812813771961, 0.35492680989503356, 0.4016258522753795, 0.18739622639932324, 0.3277215099109148]</td>\n",
       "      <td>2155531584</td>\n",
       "      <td>samsung_brand</td>\n",
       "      <td>mobiles_cat</td>\n",
       "      <td>mobile_phone_subcat</td>\n",
       "    </tr>\n",
       "    <tr>\n",
       "      <td>1</td>\n",
       "      <td>1</td>\n",
       "      <td>[samsung_brand, galaxy, 128gb, dual, mobiles_cat, mobile_phone_subcat, a70, 6gb]</td>\n",
       "      <td>[28661, 19239, 1587, 14268, 22300, 22299, 8666, 6913]</td>\n",
       "      <td>[0.0, 0.3162877488300745, 0.30075305304392586, 0.340324252453377, 0.1587932656740559, 0.27770019594468515, 0.6095408653184142, 0.3658534986680371]</td>\n",
       "      <td>2155621215</td>\n",
       "      <td>samsung_brand</td>\n",
       "      <td>mobiles_cat</td>\n",
       "      <td>mobile_phone_subcat</td>\n",
       "    </tr>\n",
       "    <tr>\n",
       "      <td>2</td>\n",
       "      <td>2</td>\n",
       "      <td>[samsung_brand, galaxy, dual, mobiles_cat, mobile_phone_subcat, note, 10, 12gb, 256gb]</td>\n",
       "      <td>[28661, 19239, 14268, 22300, 22299, 22898, 754, 1600, 3289]</td>\n",
       "      <td>[0.0, 0.3342614341187884, 0.3596638602388183, 0.1678170112783347, 0.2934810661964935, 0.4725855288044311, 0.18646888268201767, 0.47143468747698397, 0.261234456911427]</td>\n",
       "      <td>2155742926</td>\n",
       "      <td>samsung_brand</td>\n",
       "      <td>mobiles_cat</td>\n",
       "      <td>mobile_phone_subcat</td>\n",
       "    </tr>\n",
       "    <tr>\n",
       "      <td>3</td>\n",
       "      <td>3</td>\n",
       "      <td>[samsung_brand, galaxy, s10, 128gb, dual, mobiles_cat, mobile_phone_subcat]</td>\n",
       "      <td>[28661, 19239, 27889, 1587, 14268, 22300, 22299]</td>\n",
       "      <td>[0.0, 0.3732597244316061, 0.557812813771961, 0.35492680989503356, 0.4016258522753795, 0.18739622639932324, 0.3277215099109148]</td>\n",
       "      <td>2155531583</td>\n",
       "      <td>samsung_brand</td>\n",
       "      <td>mobiles_cat</td>\n",
       "      <td>mobile_phone_subcat</td>\n",
       "    </tr>\n",
       "    <tr>\n",
       "      <td>4</td>\n",
       "      <td>4</td>\n",
       "      <td>[samsung_brand, galaxy, 128gb, dual, mobiles_cat, mobile_phone_subcat, s10e]</td>\n",
       "      <td>[28661, 19239, 1587, 14268, 22300, 22299, 27919]</td>\n",
       "      <td>[0.0, 0.3297602425424082, 0.3135638357286398, 0.354820597532478, 0.16555717379654225, 0.28952902636134675, 0.6799667840565736]</td>\n",
       "      <td>2155531585</td>\n",
       "      <td>samsung_brand</td>\n",
       "      <td>mobiles_cat</td>\n",
       "      <td>mobile_phone_subcat</td>\n",
       "    </tr>\n",
       "  </tbody>\n",
       "</table>\n",
       "</div>"
      ],
      "text/plain": [
       "   doc_id  \\\n",
       "0  0        \n",
       "1  1        \n",
       "2  2        \n",
       "3  3        \n",
       "4  4        \n",
       "\n",
       "                                                                                     term  \\\n",
       "0  [samsung_brand, galaxy, s10, 128gb, dual, mobiles_cat, mobile_phone_subcat]              \n",
       "1  [samsung_brand, galaxy, 128gb, dual, mobiles_cat, mobile_phone_subcat, a70, 6gb]         \n",
       "2  [samsung_brand, galaxy, dual, mobiles_cat, mobile_phone_subcat, note, 10, 12gb, 256gb]   \n",
       "3  [samsung_brand, galaxy, s10, 128gb, dual, mobiles_cat, mobile_phone_subcat]              \n",
       "4  [samsung_brand, galaxy, 128gb, dual, mobiles_cat, mobile_phone_subcat, s10e]             \n",
       "\n",
       "                                                       term_id  \\\n",
       "0  [28661, 19239, 27889, 1587, 14268, 22300, 22299]              \n",
       "1  [28661, 19239, 1587, 14268, 22300, 22299, 8666, 6913]         \n",
       "2  [28661, 19239, 14268, 22300, 22299, 22898, 754, 1600, 3289]   \n",
       "3  [28661, 19239, 27889, 1587, 14268, 22300, 22299]              \n",
       "4  [28661, 19239, 1587, 14268, 22300, 22299, 27919]              \n",
       "\n",
       "                                                                                                                                                                    tfidf  \\\n",
       "0  [0.0, 0.3732597244316061, 0.557812813771961, 0.35492680989503356, 0.4016258522753795, 0.18739622639932324, 0.3277215099109148]                                           \n",
       "1  [0.0, 0.3162877488300745, 0.30075305304392586, 0.340324252453377, 0.1587932656740559, 0.27770019594468515, 0.6095408653184142, 0.3658534986680371]                       \n",
       "2  [0.0, 0.3342614341187884, 0.3596638602388183, 0.1678170112783347, 0.2934810661964935, 0.4725855288044311, 0.18646888268201767, 0.47143468747698397, 0.261234456911427]   \n",
       "3  [0.0, 0.3732597244316061, 0.557812813771961, 0.35492680989503356, 0.4016258522753795, 0.18739622639932324, 0.3277215099109148]                                           \n",
       "4  [0.0, 0.3297602425424082, 0.3135638357286398, 0.354820597532478, 0.16555717379654225, 0.28952902636134675, 0.6799667840565736]                                           \n",
       "\n",
       "   product_id    brand_name2    Category2         SubCategory2  \n",
       "0  2155531584  samsung_brand  mobiles_cat  mobile_phone_subcat  \n",
       "1  2155621215  samsung_brand  mobiles_cat  mobile_phone_subcat  \n",
       "2  2155742926  samsung_brand  mobiles_cat  mobile_phone_subcat  \n",
       "3  2155531583  samsung_brand  mobiles_cat  mobile_phone_subcat  \n",
       "4  2155531585  samsung_brand  mobiles_cat  mobile_phone_subcat  "
      ]
     },
     "execution_count": 26,
     "metadata": {},
     "output_type": "execute_result"
    }
   ],
   "source": [
    "df_tfidf2.head()"
   ]
  },
  {
   "cell_type": "code",
   "execution_count": 27,
   "metadata": {},
   "outputs": [
    {
     "data": {
      "text/plain": [
       "(29541, 8)"
      ]
     },
     "execution_count": 27,
     "metadata": {},
     "output_type": "execute_result"
    }
   ],
   "source": [
    "df_tfidf2.shape"
   ]
  },
  {
   "cell_type": "code",
   "execution_count": 28,
   "metadata": {},
   "outputs": [],
   "source": [
    "# save the dataframe as pickle file\n",
    "df_tfidf2.to_pickle('data/tfidfs/df_tfidf_brand_0-0.pkl')"
   ]
  },
  {
   "cell_type": "code",
   "execution_count": null,
   "metadata": {},
   "outputs": [],
   "source": []
  }
 ],
 "metadata": {
  "kernelspec": {
   "display_name": "Python 3",
   "language": "python",
   "name": "python3"
  },
  "language_info": {
   "codemirror_mode": {
    "name": "ipython",
    "version": 3
   },
   "file_extension": ".py",
   "mimetype": "text/x-python",
   "name": "python",
   "nbconvert_exporter": "python",
   "pygments_lexer": "ipython3",
   "version": "3.6.3"
  }
 },
 "nbformat": 4,
 "nbformat_minor": 2
}
