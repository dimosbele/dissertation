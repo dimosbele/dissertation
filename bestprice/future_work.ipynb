{
 "cells": [
  {
   "cell_type": "code",
   "execution_count": 1,
   "metadata": {},
   "outputs": [],
   "source": [
    "import pandas as pd\n",
    "from random import randint, sample\n",
    "\n",
    "from datasketch import WeightedMinHashGenerator\n",
    "from datasketch import MinHashLSHForest"
   ]
  },
  {
   "cell_type": "code",
   "execution_count": 84,
   "metadata": {},
   "outputs": [],
   "source": [
    "# data/recommendations\n",
    "df_recs = pd.read_pickle('data/recommendations/df_recos_simple_30.pkl')"
   ]
  },
  {
   "cell_type": "code",
   "execution_count": 85,
   "metadata": {},
   "outputs": [],
   "source": [
    "df_recs['Ν_recs_1'] = df_recs['recs'].apply(lambda x: len(x))\n",
    "df_recs['Ν_recs_2'] = df_recs['recs_30'].apply(lambda x: len(x))"
   ]
  },
  {
   "cell_type": "code",
   "execution_count": 86,
   "metadata": {},
   "outputs": [],
   "source": [
    "df_recs = df_recs[df_recs.Ν_recs_1==10]\n",
    "df_recs = df_recs[df_recs.Ν_recs_2==30]"
   ]
  },
  {
   "cell_type": "code",
   "execution_count": 105,
   "metadata": {},
   "outputs": [
    {
     "data": {
      "text/plain": [
       "(28972, 20)"
      ]
     },
     "execution_count": 105,
     "metadata": {},
     "output_type": "execute_result"
    }
   ],
   "source": [
    "df_recs.shape"
   ]
  },
  {
   "cell_type": "code",
   "execution_count": 6,
   "metadata": {},
   "outputs": [
    {
     "data": {
      "text/html": [
       "<div>\n",
       "<style scoped>\n",
       "    .dataframe tbody tr th:only-of-type {\n",
       "        vertical-align: middle;\n",
       "    }\n",
       "\n",
       "    .dataframe tbody tr th {\n",
       "        vertical-align: top;\n",
       "    }\n",
       "\n",
       "    .dataframe thead th {\n",
       "        text-align: right;\n",
       "    }\n",
       "</style>\n",
       "<table border=\"1\" class=\"dataframe\">\n",
       "  <thead>\n",
       "    <tr style=\"text-align: right;\">\n",
       "      <th></th>\n",
       "      <th>doc_id</th>\n",
       "      <th>term</th>\n",
       "      <th>term_id</th>\n",
       "      <th>tfidf</th>\n",
       "      <th>product_id</th>\n",
       "      <th>brand_name2</th>\n",
       "      <th>Category2</th>\n",
       "      <th>SubCategory2</th>\n",
       "      <th>Minhash_id</th>\n",
       "      <th>Minhash</th>\n",
       "      <th>recs</th>\n",
       "      <th>recs_30</th>\n",
       "      <th>Brands</th>\n",
       "      <th>Categories</th>\n",
       "      <th>Subcategories</th>\n",
       "      <th>N_Brands</th>\n",
       "      <th>N_Categories</th>\n",
       "      <th>N_Subcategories</th>\n",
       "      <th>Ν_recs_1</th>\n",
       "      <th>Ν_recs_2</th>\n",
       "    </tr>\n",
       "  </thead>\n",
       "  <tbody>\n",
       "    <tr>\n",
       "      <td>0</td>\n",
       "      <td>0</td>\n",
       "      <td>[samsung_brand, galaxy, s10, 128gb, dual, mobi...</td>\n",
       "      <td>[28661, 19239, 27889, 1587, 14268, 22300, 22299]</td>\n",
       "      <td>[0.3460158140661532, 0.3732597244316061, 0.557...</td>\n",
       "      <td>2155531584</td>\n",
       "      <td>samsung_brand</td>\n",
       "      <td>mobiles_cat</td>\n",
       "      <td>mobile_phone_subcat</td>\n",
       "      <td>m0</td>\n",
       "      <td>&lt;datasketch.weighted_minhash.WeightedMinHash o...</td>\n",
       "      <td>[m14, m3, m22, m16, m0, m12, m1, m15, m17, m23]</td>\n",
       "      <td>[m9, m16, m208, m7, m63, m65, m22, m0, m12, m1...</td>\n",
       "      <td>[samsung_brand, samsung_brand, samsung_brand, ...</td>\n",
       "      <td>[mobiles_cat, mobiles_cat, mobiles_cat, mobile...</td>\n",
       "      <td>[mobile_phone_subcat, mobile_phone_subcat, mob...</td>\n",
       "      <td>1</td>\n",
       "      <td>1</td>\n",
       "      <td>1</td>\n",
       "      <td>10</td>\n",
       "      <td>30</td>\n",
       "    </tr>\n",
       "    <tr>\n",
       "      <td>1</td>\n",
       "      <td>1</td>\n",
       "      <td>[samsung_brand, galaxy, 128gb, dual, mobiles_c...</td>\n",
       "      <td>[28661, 19239, 1587, 14268, 22300, 22299, 8666...</td>\n",
       "      <td>[0.2932021745910131, 0.3162877488300745, 0.300...</td>\n",
       "      <td>2155621215</td>\n",
       "      <td>samsung_brand</td>\n",
       "      <td>mobiles_cat</td>\n",
       "      <td>mobile_phone_subcat</td>\n",
       "      <td>m1</td>\n",
       "      <td>&lt;datasketch.weighted_minhash.WeightedMinHash o...</td>\n",
       "      <td>[m3, m22, m0, m50, m12, m1, m17, m23, m210, m125]</td>\n",
       "      <td>[m208, m63, m65, m22, m0, m12, m165, m137, m20...</td>\n",
       "      <td>[samsung_brand, samsung_brand, samsung_brand, ...</td>\n",
       "      <td>[mobiles_cat, mobiles_cat, mobiles_cat, mobile...</td>\n",
       "      <td>[mobile_phone_subcat, mobile_phone_subcat, mob...</td>\n",
       "      <td>4</td>\n",
       "      <td>1</td>\n",
       "      <td>1</td>\n",
       "      <td>10</td>\n",
       "      <td>30</td>\n",
       "    </tr>\n",
       "  </tbody>\n",
       "</table>\n",
       "</div>"
      ],
      "text/plain": [
       "   doc_id                                               term  \\\n",
       "0       0  [samsung_brand, galaxy, s10, 128gb, dual, mobi...   \n",
       "1       1  [samsung_brand, galaxy, 128gb, dual, mobiles_c...   \n",
       "\n",
       "                                             term_id  \\\n",
       "0   [28661, 19239, 27889, 1587, 14268, 22300, 22299]   \n",
       "1  [28661, 19239, 1587, 14268, 22300, 22299, 8666...   \n",
       "\n",
       "                                               tfidf  product_id  \\\n",
       "0  [0.3460158140661532, 0.3732597244316061, 0.557...  2155531584   \n",
       "1  [0.2932021745910131, 0.3162877488300745, 0.300...  2155621215   \n",
       "\n",
       "     brand_name2    Category2         SubCategory2 Minhash_id  \\\n",
       "0  samsung_brand  mobiles_cat  mobile_phone_subcat         m0   \n",
       "1  samsung_brand  mobiles_cat  mobile_phone_subcat         m1   \n",
       "\n",
       "                                             Minhash  \\\n",
       "0  <datasketch.weighted_minhash.WeightedMinHash o...   \n",
       "1  <datasketch.weighted_minhash.WeightedMinHash o...   \n",
       "\n",
       "                                                recs  \\\n",
       "0    [m14, m3, m22, m16, m0, m12, m1, m15, m17, m23]   \n",
       "1  [m3, m22, m0, m50, m12, m1, m17, m23, m210, m125]   \n",
       "\n",
       "                                             recs_30  \\\n",
       "0  [m9, m16, m208, m7, m63, m65, m22, m0, m12, m1...   \n",
       "1  [m208, m63, m65, m22, m0, m12, m165, m137, m20...   \n",
       "\n",
       "                                              Brands  \\\n",
       "0  [samsung_brand, samsung_brand, samsung_brand, ...   \n",
       "1  [samsung_brand, samsung_brand, samsung_brand, ...   \n",
       "\n",
       "                                          Categories  \\\n",
       "0  [mobiles_cat, mobiles_cat, mobiles_cat, mobile...   \n",
       "1  [mobiles_cat, mobiles_cat, mobiles_cat, mobile...   \n",
       "\n",
       "                                       Subcategories  N_Brands  N_Categories  \\\n",
       "0  [mobile_phone_subcat, mobile_phone_subcat, mob...         1             1   \n",
       "1  [mobile_phone_subcat, mobile_phone_subcat, mob...         4             1   \n",
       "\n",
       "   N_Subcategories  Ν_recs_1  Ν_recs_2  \n",
       "0                1        10        30  \n",
       "1                1        10        30  "
      ]
     },
     "execution_count": 6,
     "metadata": {},
     "output_type": "execute_result"
    }
   ],
   "source": [
    "df_recs.head(2)"
   ]
  },
  {
   "cell_type": "markdown",
   "metadata": {},
   "source": [
    "## - Create the MinhashLSH forest"
   ]
  },
  {
   "cell_type": "code",
   "execution_count": 138,
   "metadata": {},
   "outputs": [],
   "source": [
    "def make_recs(doc_id, query, n_recs, minhash_list):\n",
    "    # Create a MinHash LSH Forest with the same num_perm parameter\n",
    "    forest = MinHashLSHForest(num_perm=128)\n",
    "\n",
    "    minhash_list = minhash_list\n",
    "    i = 0\n",
    "    for minhash in minhash_list:\n",
    "        # Add minhash into the index\n",
    "        forest.add(i, minhash)\n",
    "        #forest.add(minhash_ids_list[i], minhash)\n",
    "        i += 1\n",
    "\n",
    "    # IMPORTANT: must call index() otherwise the keys won't be searchable\n",
    "    forest.index()\n",
    "    \n",
    "    #print(len(minhash_list))\n",
    "    #print(doc_id)\n",
    "    # the query is the product of the first product page\n",
    "    #query = minhash_list[doc_id]\n",
    "    \n",
    "    # Using m1 as the query, retrieve top 10 keys that have the higest Jaccard\n",
    "    results = forest.query(query, n_recs)\n",
    "    \n",
    "    return results"
   ]
  },
  {
   "cell_type": "code",
   "execution_count": 139,
   "metadata": {},
   "outputs": [],
   "source": [
    "def second_page(x):\n",
    "    try:\n",
    "    \n",
    "        first_product_doc_id = x['doc_id']\n",
    "        first_product_minhash = x['Minhash']\n",
    "        #print('the ', first_product_minhash)\n",
    "        #print(first_product_doc_id)\n",
    "        first_product_recs = x['recs']\n",
    "        try:\n",
    "            first_product_recs.remove(x['Minhash_id'])\n",
    "        except:\n",
    "            pass\n",
    "        random_rec = sample(range(1, 9), 1)[0]\n",
    "        clicked_rec_m = first_product_recs[random_rec]\n",
    "        #print('clicked_rec_m = ', clicked_rec_m)\n",
    "\n",
    "        # find the doc_id of the clicked recommendation which is the product of the second product page\n",
    "        second_product_doc_id = df_recs[df_recs.Minhash_id==clicked_rec_m].iloc[0][0]\n",
    "        #print('second_product_doc_id =', second_product_doc_id)\n",
    "        # find the 30 recs of the clicked recommendation which is the product of the second product page\n",
    "        second_product_recs_30 = df_recs[df_recs.Minhash_id==clicked_rec_m].iloc[0][11]\n",
    "        #print('second_product_recs_30 = ', second_product_recs_30)\n",
    "\n",
    "        # find the Minhash signatures of the 30 recs\n",
    "        minhash_list = df_recs[df_recs.Minhash_id.isin(list(second_product_recs_30))]['Minhash'].tolist()\n",
    "        # find the Minhash ids signatures of the 30 recs\n",
    "        minhash_ids_list = df_recs[df_recs.Minhash_id.isin(list(second_product_recs_30))]['Minhash_id'].tolist()\n",
    "        #print(minhash_ids_list)\n",
    "        #print('Number of minhashsignatures: ', len(minhash_list))\n",
    "\n",
    "        # find the recommendations of the second product page\n",
    "        recs_10 = make_recs(first_product_doc_id, first_product_minhash, 10, minhash_list)\n",
    "        #print(recs_10)\n",
    "\n",
    "        final_recs = []\n",
    "        for rec in recs_10:\n",
    "            final_recs.append(minhash_ids_list[rec])\n",
    "\n",
    "        #print(final_recs)\n",
    "        return [clicked_rec_m, final_recs]\n",
    "    except:\n",
    "        #print('Error to None')\n",
    "        return None"
   ]
  },
  {
   "cell_type": "code",
   "execution_count": 160,
   "metadata": {},
   "outputs": [],
   "source": [
    "df_recs2 = df_recs.sample(10000)"
   ]
  },
  {
   "cell_type": "code",
   "execution_count": 161,
   "metadata": {},
   "outputs": [],
   "source": [
    "#df_recs2 = df_recs[100:101]"
   ]
  },
  {
   "cell_type": "code",
   "execution_count": null,
   "metadata": {},
   "outputs": [],
   "source": []
  },
  {
   "cell_type": "code",
   "execution_count": 162,
   "metadata": {},
   "outputs": [
    {
     "name": "stdout",
     "output_type": "stream",
     "text": [
      "Wall time: 4min 14s\n"
     ]
    }
   ],
   "source": [
    "%%time\n",
    "df_recs2['second_page_product-recs'] = df_recs2.apply(lambda x: second_page(x), axis=1)"
   ]
  },
  {
   "cell_type": "code",
   "execution_count": 164,
   "metadata": {},
   "outputs": [],
   "source": [
    "df_recs2 = df_recs2.dropna(subset = ['second_page_product-recs'])"
   ]
  },
  {
   "cell_type": "code",
   "execution_count": 165,
   "metadata": {},
   "outputs": [
    {
     "data": {
      "text/plain": [
       "(9957, 21)"
      ]
     },
     "execution_count": 165,
     "metadata": {},
     "output_type": "execute_result"
    }
   ],
   "source": [
    "df_recs2.shape"
   ]
  },
  {
   "cell_type": "code",
   "execution_count": 166,
   "metadata": {},
   "outputs": [],
   "source": [
    "df_recs2['second_page_product'] = df_recs2['second_page_product-recs'].apply(lambda x: x[0])\n",
    "df_recs2['second_page_recs'] = df_recs2['second_page_product-recs'].apply(lambda x: x[1])"
   ]
  },
  {
   "cell_type": "code",
   "execution_count": 167,
   "metadata": {},
   "outputs": [],
   "source": [
    "#df_recs = df_recs.dropna(subset = ['second_page_recs', 'second_page_product'])"
   ]
  },
  {
   "cell_type": "code",
   "execution_count": 168,
   "metadata": {},
   "outputs": [
    {
     "data": {
      "text/html": [
       "<div>\n",
       "<style scoped>\n",
       "    .dataframe tbody tr th:only-of-type {\n",
       "        vertical-align: middle;\n",
       "    }\n",
       "\n",
       "    .dataframe tbody tr th {\n",
       "        vertical-align: top;\n",
       "    }\n",
       "\n",
       "    .dataframe thead th {\n",
       "        text-align: right;\n",
       "    }\n",
       "</style>\n",
       "<table border=\"1\" class=\"dataframe\">\n",
       "  <thead>\n",
       "    <tr style=\"text-align: right;\">\n",
       "      <th></th>\n",
       "      <th>doc_id</th>\n",
       "      <th>term</th>\n",
       "      <th>term_id</th>\n",
       "      <th>tfidf</th>\n",
       "      <th>product_id</th>\n",
       "      <th>brand_name2</th>\n",
       "      <th>Category2</th>\n",
       "      <th>SubCategory2</th>\n",
       "      <th>Minhash_id</th>\n",
       "      <th>Minhash</th>\n",
       "      <th>...</th>\n",
       "      <th>Categories</th>\n",
       "      <th>Subcategories</th>\n",
       "      <th>N_Brands</th>\n",
       "      <th>N_Categories</th>\n",
       "      <th>N_Subcategories</th>\n",
       "      <th>Ν_recs_1</th>\n",
       "      <th>Ν_recs_2</th>\n",
       "      <th>second_page_product-recs</th>\n",
       "      <th>second_page_product</th>\n",
       "      <th>second_page_recs</th>\n",
       "    </tr>\n",
       "  </thead>\n",
       "  <tbody>\n",
       "    <tr>\n",
       "      <td>9773</td>\n",
       "      <td>9773</td>\n",
       "      <td>[15, laptop_pc_cat, laptop_cases_subcat, camel...</td>\n",
       "      <td>[1874, 21257, 21256, 12170, 8896, 21248]</td>\n",
       "      <td>[0.2372059371686326, 0.12173721374972295, 0.23...</td>\n",
       "      <td>2155467405</td>\n",
       "      <td>camel active_brand</td>\n",
       "      <td>laptop_pc_cat</td>\n",
       "      <td>laptop_cases_subcat</td>\n",
       "      <td>m9773</td>\n",
       "      <td>&lt;datasketch.weighted_minhash.WeightedMinHash o...</td>\n",
       "      <td>...</td>\n",
       "      <td>[laptop_pc_cat, laptop_pc_cat, laptop_pc_cat, ...</td>\n",
       "      <td>[laptop_cases_subcat, laptop_cases_subcat, lap...</td>\n",
       "      <td>3</td>\n",
       "      <td>1</td>\n",
       "      <td>2</td>\n",
       "      <td>10</td>\n",
       "      <td>30</td>\n",
       "      <td>[m9768, [m9229, m9759, m9762, m9764, m9766, m9...</td>\n",
       "      <td>m9768</td>\n",
       "      <td>[m9229, m9759, m9762, m9764, m9766, m9768, m97...</td>\n",
       "    </tr>\n",
       "    <tr>\n",
       "      <td>10710</td>\n",
       "      <td>10710</td>\n",
       "      <td>[10, pro, 2012, 13, 6000mah, power_brand, batt...</td>\n",
       "      <td>[754, 25683, 2684, 1622, 6467, 25613, 10632, 2...</td>\n",
       "      <td>[0.09660005906353689, 0.14397453962361087, 0.2...</td>\n",
       "      <td>26029598</td>\n",
       "      <td>2-power_brand</td>\n",
       "      <td>laptop_pc_cat</td>\n",
       "      <td>laptop_battery_subcat</td>\n",
       "      <td>m10710</td>\n",
       "      <td>&lt;datasketch.weighted_minhash.WeightedMinHash o...</td>\n",
       "      <td>...</td>\n",
       "      <td>[laptop_pc_cat, laptop_pc_cat, laptop_pc_cat, ...</td>\n",
       "      <td>[laptop_battery_subcat, laptop_battery_subcat,...</td>\n",
       "      <td>1</td>\n",
       "      <td>1</td>\n",
       "      <td>1</td>\n",
       "      <td>10</td>\n",
       "      <td>30</td>\n",
       "      <td>[m10919, [m10919, m11074, m11585]]</td>\n",
       "      <td>m10919</td>\n",
       "      <td>[m10919, m11074, m11585]</td>\n",
       "    </tr>\n",
       "  </tbody>\n",
       "</table>\n",
       "<p>2 rows × 23 columns</p>\n",
       "</div>"
      ],
      "text/plain": [
       "       doc_id                                               term  \\\n",
       "9773     9773  [15, laptop_pc_cat, laptop_cases_subcat, camel...   \n",
       "10710   10710  [10, pro, 2012, 13, 6000mah, power_brand, batt...   \n",
       "\n",
       "                                                 term_id  \\\n",
       "9773            [1874, 21257, 21256, 12170, 8896, 21248]   \n",
       "10710  [754, 25683, 2684, 1622, 6467, 25613, 10632, 2...   \n",
       "\n",
       "                                                   tfidf  product_id  \\\n",
       "9773   [0.2372059371686326, 0.12173721374972295, 0.23...  2155467405   \n",
       "10710  [0.09660005906353689, 0.14397453962361087, 0.2...    26029598   \n",
       "\n",
       "              brand_name2      Category2           SubCategory2 Minhash_id  \\\n",
       "9773   camel active_brand  laptop_pc_cat    laptop_cases_subcat      m9773   \n",
       "10710       2-power_brand  laptop_pc_cat  laptop_battery_subcat     m10710   \n",
       "\n",
       "                                                 Minhash  ...  \\\n",
       "9773   <datasketch.weighted_minhash.WeightedMinHash o...  ...   \n",
       "10710  <datasketch.weighted_minhash.WeightedMinHash o...  ...   \n",
       "\n",
       "                                              Categories  \\\n",
       "9773   [laptop_pc_cat, laptop_pc_cat, laptop_pc_cat, ...   \n",
       "10710  [laptop_pc_cat, laptop_pc_cat, laptop_pc_cat, ...   \n",
       "\n",
       "                                           Subcategories N_Brands  \\\n",
       "9773   [laptop_cases_subcat, laptop_cases_subcat, lap...        3   \n",
       "10710  [laptop_battery_subcat, laptop_battery_subcat,...        1   \n",
       "\n",
       "      N_Categories N_Subcategories  Ν_recs_1  Ν_recs_2  \\\n",
       "9773             1               2        10        30   \n",
       "10710            1               1        10        30   \n",
       "\n",
       "                                second_page_product-recs  second_page_product  \\\n",
       "9773   [m9768, [m9229, m9759, m9762, m9764, m9766, m9...                m9768   \n",
       "10710                 [m10919, [m10919, m11074, m11585]]               m10919   \n",
       "\n",
       "                                        second_page_recs  \n",
       "9773   [m9229, m9759, m9762, m9764, m9766, m9768, m97...  \n",
       "10710                           [m10919, m11074, m11585]  \n",
       "\n",
       "[2 rows x 23 columns]"
      ]
     },
     "execution_count": 168,
     "metadata": {},
     "output_type": "execute_result"
    }
   ],
   "source": [
    "df_recs2.head(2)"
   ]
  },
  {
   "cell_type": "code",
   "execution_count": 179,
   "metadata": {},
   "outputs": [
    {
     "data": {
      "text/plain": [
       "['m9229',\n",
       " 'm9759',\n",
       " 'm9762',\n",
       " 'm9764',\n",
       " 'm9766',\n",
       " 'm9768',\n",
       " 'm9769',\n",
       " 'm9773',\n",
       " 'm9962',\n",
       " 'm10479']"
      ]
     },
     "execution_count": 179,
     "metadata": {},
     "output_type": "execute_result"
    }
   ],
   "source": [
    "df_recs2.iloc[0][22]"
   ]
  },
  {
   "cell_type": "code",
   "execution_count": 194,
   "metadata": {},
   "outputs": [
    {
     "data": {
      "text/plain": [
       "7560"
      ]
     },
     "execution_count": 194,
     "metadata": {},
     "output_type": "execute_result"
    }
   ],
   "source": [
    "df_recs2.second_page_product.nunique()"
   ]
  },
  {
   "cell_type": "code",
   "execution_count": 199,
   "metadata": {},
   "outputs": [],
   "source": [
    "# create a df with only the recs of each product\n",
    "df_recs3 = df_recs2[['second_page_product', 'second_page_recs']]\n",
    "df_recs3 = df_recs3.drop_duplicates(subset=['second_page_product'], keep='first')\n",
    "# expand each row to as many rows as the length of the recs list\n",
    "df_recs3 = df_recs3.set_index('second_page_product').second_page_recs.apply(pd.Series).stack().reset_index(level=-1, drop=True).astype(str).reset_index()\n",
    "# rename the columns\n",
    "df_recs3.columns = ['second_page_product_m', 'rec_m_id']"
   ]
  },
  {
   "cell_type": "code",
   "execution_count": 200,
   "metadata": {},
   "outputs": [
    {
     "data": {
      "text/plain": [
       "(73034, 2)"
      ]
     },
     "execution_count": 200,
     "metadata": {},
     "output_type": "execute_result"
    }
   ],
   "source": [
    "df_recs3.shape"
   ]
  },
  {
   "cell_type": "code",
   "execution_count": 201,
   "metadata": {},
   "outputs": [
    {
     "data": {
      "text/html": [
       "<div>\n",
       "<style scoped>\n",
       "    .dataframe tbody tr th:only-of-type {\n",
       "        vertical-align: middle;\n",
       "    }\n",
       "\n",
       "    .dataframe tbody tr th {\n",
       "        vertical-align: top;\n",
       "    }\n",
       "\n",
       "    .dataframe thead th {\n",
       "        text-align: right;\n",
       "    }\n",
       "</style>\n",
       "<table border=\"1\" class=\"dataframe\">\n",
       "  <thead>\n",
       "    <tr style=\"text-align: right;\">\n",
       "      <th></th>\n",
       "      <th>second_page_product_m</th>\n",
       "      <th>rec_m_id</th>\n",
       "    </tr>\n",
       "  </thead>\n",
       "  <tbody>\n",
       "    <tr>\n",
       "      <td>0</td>\n",
       "      <td>m9768</td>\n",
       "      <td>m9229</td>\n",
       "    </tr>\n",
       "  </tbody>\n",
       "</table>\n",
       "</div>"
      ],
      "text/plain": [
       "  second_page_product_m rec_m_id\n",
       "0                 m9768    m9229"
      ]
     },
     "execution_count": 201,
     "metadata": {},
     "output_type": "execute_result"
    }
   ],
   "source": [
    "df_recs3.head(1)"
   ]
  },
  {
   "cell_type": "code",
   "execution_count": 202,
   "metadata": {},
   "outputs": [],
   "source": [
    "# add the brand, category, subcategory of each recommended product\n",
    "df_recs3 = df_recs3.merge(df_recs[['Minhash_id', 'brand_name2', 'Category2', 'SubCategory2']], left_on='rec_m_id', right_on='Minhash_id', how='left')"
   ]
  },
  {
   "cell_type": "code",
   "execution_count": 203,
   "metadata": {},
   "outputs": [
    {
     "data": {
      "text/plain": [
       "(73034, 6)"
      ]
     },
     "execution_count": 203,
     "metadata": {},
     "output_type": "execute_result"
    }
   ],
   "source": [
    "df_recs3.shape"
   ]
  },
  {
   "cell_type": "code",
   "execution_count": 204,
   "metadata": {},
   "outputs": [
    {
     "data": {
      "text/html": [
       "<div>\n",
       "<style scoped>\n",
       "    .dataframe tbody tr th:only-of-type {\n",
       "        vertical-align: middle;\n",
       "    }\n",
       "\n",
       "    .dataframe tbody tr th {\n",
       "        vertical-align: top;\n",
       "    }\n",
       "\n",
       "    .dataframe thead th {\n",
       "        text-align: right;\n",
       "    }\n",
       "</style>\n",
       "<table border=\"1\" class=\"dataframe\">\n",
       "  <thead>\n",
       "    <tr style=\"text-align: right;\">\n",
       "      <th></th>\n",
       "      <th>second_page_product_m</th>\n",
       "      <th>rec_m_id</th>\n",
       "      <th>Minhash_id</th>\n",
       "      <th>brand_name2</th>\n",
       "      <th>Category2</th>\n",
       "      <th>SubCategory2</th>\n",
       "    </tr>\n",
       "  </thead>\n",
       "  <tbody>\n",
       "    <tr>\n",
       "      <td>0</td>\n",
       "      <td>m9768</td>\n",
       "      <td>m9229</td>\n",
       "      <td>m9229</td>\n",
       "      <td>case logic_brand</td>\n",
       "      <td>laptop_pc_cat</td>\n",
       "      <td>laptop_cases_subcat</td>\n",
       "    </tr>\n",
       "  </tbody>\n",
       "</table>\n",
       "</div>"
      ],
      "text/plain": [
       "  second_page_product_m rec_m_id Minhash_id       brand_name2      Category2  \\\n",
       "0                 m9768    m9229      m9229  case logic_brand  laptop_pc_cat   \n",
       "\n",
       "          SubCategory2  \n",
       "0  laptop_cases_subcat  "
      ]
     },
     "execution_count": 204,
     "metadata": {},
     "output_type": "execute_result"
    }
   ],
   "source": [
    "df_recs3.head(1)"
   ]
  },
  {
   "cell_type": "code",
   "execution_count": 205,
   "metadata": {},
   "outputs": [
    {
     "data": {
      "text/plain": [
       "7560"
      ]
     },
     "execution_count": 205,
     "metadata": {},
     "output_type": "execute_result"
    }
   ],
   "source": [
    "df_recs3.second_page_product_m.nunique()"
   ]
  },
  {
   "cell_type": "code",
   "execution_count": 206,
   "metadata": {},
   "outputs": [],
   "source": [
    "# groupby each product and convert to lists\n",
    "df_recs3 = df_recs3.groupby(['second_page_product_m'], as_index=False)['brand_name2', 'Category2', 'SubCategory2'].agg(lambda x: list(x))\n",
    "# rename columns\n",
    "df_recs3.columns = ['second_page_product_m', 'Brands', 'Categories', 'Subcategories']"
   ]
  },
  {
   "cell_type": "code",
   "execution_count": 207,
   "metadata": {},
   "outputs": [
    {
     "data": {
      "text/plain": [
       "(7560, 4)"
      ]
     },
     "execution_count": 207,
     "metadata": {},
     "output_type": "execute_result"
    }
   ],
   "source": [
    "df_recs3.shape"
   ]
  },
  {
   "cell_type": "code",
   "execution_count": 208,
   "metadata": {},
   "outputs": [
    {
     "data": {
      "text/plain": [
       "['samsung_brand',\n",
       " 'samsung_brand',\n",
       " 'samsung_brand',\n",
       " 'samsung_brand',\n",
       " 'samsung_brand',\n",
       " 'xiaomi_brand',\n",
       " 'cubot_brand',\n",
       " 'meizu_brand',\n",
       " 'meizu_brand',\n",
       " 'meizu_brand']"
      ]
     },
     "execution_count": 208,
     "metadata": {},
     "output_type": "execute_result"
    }
   ],
   "source": [
    "df_recs3.iloc[0][1]"
   ]
  },
  {
   "cell_type": "code",
   "execution_count": 209,
   "metadata": {},
   "outputs": [],
   "source": [
    "# create 3 columns with the number of uniique brands, categories, subcategories\n",
    "df_recs3['N_Brands'] = df_recs3['Brands'].apply(lambda x: len(set(x)))\n",
    "df_recs3['N_Categories'] = df_recs3['Categories'].apply(lambda x: len(set(x)))\n",
    "df_recs3['N_Subcategories'] = df_recs3['Subcategories'].apply(lambda x: len(set(x)))"
   ]
  },
  {
   "cell_type": "code",
   "execution_count": 210,
   "metadata": {},
   "outputs": [
    {
     "data": {
      "text/html": [
       "<div>\n",
       "<style scoped>\n",
       "    .dataframe tbody tr th:only-of-type {\n",
       "        vertical-align: middle;\n",
       "    }\n",
       "\n",
       "    .dataframe tbody tr th {\n",
       "        vertical-align: top;\n",
       "    }\n",
       "\n",
       "    .dataframe thead th {\n",
       "        text-align: right;\n",
       "    }\n",
       "</style>\n",
       "<table border=\"1\" class=\"dataframe\">\n",
       "  <thead>\n",
       "    <tr style=\"text-align: right;\">\n",
       "      <th></th>\n",
       "      <th>second_page_product_m</th>\n",
       "      <th>Brands</th>\n",
       "      <th>Categories</th>\n",
       "      <th>Subcategories</th>\n",
       "      <th>N_Brands</th>\n",
       "      <th>N_Categories</th>\n",
       "      <th>N_Subcategories</th>\n",
       "    </tr>\n",
       "  </thead>\n",
       "  <tbody>\n",
       "    <tr>\n",
       "      <td>0</td>\n",
       "      <td>m10</td>\n",
       "      <td>[samsung_brand, samsung_brand, samsung_brand, ...</td>\n",
       "      <td>[mobiles_cat, mobiles_cat, mobiles_cat, mobile...</td>\n",
       "      <td>[mobile_phone_subcat, mobile_phone_subcat, mob...</td>\n",
       "      <td>4</td>\n",
       "      <td>1</td>\n",
       "      <td>1</td>\n",
       "    </tr>\n",
       "    <tr>\n",
       "      <td>1</td>\n",
       "      <td>m100</td>\n",
       "      <td>[nokia_brand, nokia_brand, nokia_brand, nokia_...</td>\n",
       "      <td>[mobiles_cat, mobiles_cat, mobiles_cat, mobile...</td>\n",
       "      <td>[mobile_phone_subcat, mobile_phone_subcat, mob...</td>\n",
       "      <td>1</td>\n",
       "      <td>1</td>\n",
       "      <td>2</td>\n",
       "    </tr>\n",
       "  </tbody>\n",
       "</table>\n",
       "</div>"
      ],
      "text/plain": [
       "  second_page_product_m                                             Brands  \\\n",
       "0                   m10  [samsung_brand, samsung_brand, samsung_brand, ...   \n",
       "1                  m100  [nokia_brand, nokia_brand, nokia_brand, nokia_...   \n",
       "\n",
       "                                          Categories  \\\n",
       "0  [mobiles_cat, mobiles_cat, mobiles_cat, mobile...   \n",
       "1  [mobiles_cat, mobiles_cat, mobiles_cat, mobile...   \n",
       "\n",
       "                                       Subcategories  N_Brands  N_Categories  \\\n",
       "0  [mobile_phone_subcat, mobile_phone_subcat, mob...         4             1   \n",
       "1  [mobile_phone_subcat, mobile_phone_subcat, mob...         1             1   \n",
       "\n",
       "   N_Subcategories  \n",
       "0                1  \n",
       "1                2  "
      ]
     },
     "execution_count": 210,
     "metadata": {},
     "output_type": "execute_result"
    }
   ],
   "source": [
    "df_recs3.head(2)"
   ]
  },
  {
   "cell_type": "code",
   "execution_count": 211,
   "metadata": {},
   "outputs": [
    {
     "data": {
      "text/plain": [
       "['samsung_brand',\n",
       " 'samsung_brand',\n",
       " 'samsung_brand',\n",
       " 'samsung_brand',\n",
       " 'samsung_brand',\n",
       " 'xiaomi_brand',\n",
       " 'cubot_brand',\n",
       " 'meizu_brand',\n",
       " 'meizu_brand',\n",
       " 'meizu_brand']"
      ]
     },
     "execution_count": 211,
     "metadata": {},
     "output_type": "execute_result"
    }
   ],
   "source": [
    "df_recs3.iloc[0][1]"
   ]
  },
  {
   "cell_type": "code",
   "execution_count": 212,
   "metadata": {},
   "outputs": [
    {
     "data": {
      "text/html": [
       "<div>\n",
       "<style scoped>\n",
       "    .dataframe tbody tr th:only-of-type {\n",
       "        vertical-align: middle;\n",
       "    }\n",
       "\n",
       "    .dataframe tbody tr th {\n",
       "        vertical-align: top;\n",
       "    }\n",
       "\n",
       "    .dataframe thead th {\n",
       "        text-align: right;\n",
       "    }\n",
       "</style>\n",
       "<table border=\"1\" class=\"dataframe\">\n",
       "  <thead>\n",
       "    <tr style=\"text-align: right;\">\n",
       "      <th></th>\n",
       "      <th>N_Brands</th>\n",
       "      <th>N_Categories</th>\n",
       "      <th>N_Subcategories</th>\n",
       "    </tr>\n",
       "  </thead>\n",
       "  <tbody>\n",
       "    <tr>\n",
       "      <td>count</td>\n",
       "      <td>7560.000000</td>\n",
       "      <td>7560.000000</td>\n",
       "      <td>7560.000000</td>\n",
       "    </tr>\n",
       "    <tr>\n",
       "      <td>mean</td>\n",
       "      <td>2.403571</td>\n",
       "      <td>1.115079</td>\n",
       "      <td>1.216534</td>\n",
       "    </tr>\n",
       "    <tr>\n",
       "      <td>std</td>\n",
       "      <td>1.895529</td>\n",
       "      <td>0.373745</td>\n",
       "      <td>0.555973</td>\n",
       "    </tr>\n",
       "    <tr>\n",
       "      <td>min</td>\n",
       "      <td>1.000000</td>\n",
       "      <td>1.000000</td>\n",
       "      <td>1.000000</td>\n",
       "    </tr>\n",
       "    <tr>\n",
       "      <td>25%</td>\n",
       "      <td>1.000000</td>\n",
       "      <td>1.000000</td>\n",
       "      <td>1.000000</td>\n",
       "    </tr>\n",
       "    <tr>\n",
       "      <td>50%</td>\n",
       "      <td>1.000000</td>\n",
       "      <td>1.000000</td>\n",
       "      <td>1.000000</td>\n",
       "    </tr>\n",
       "    <tr>\n",
       "      <td>75%</td>\n",
       "      <td>3.000000</td>\n",
       "      <td>1.000000</td>\n",
       "      <td>1.000000</td>\n",
       "    </tr>\n",
       "    <tr>\n",
       "      <td>max</td>\n",
       "      <td>10.000000</td>\n",
       "      <td>4.000000</td>\n",
       "      <td>8.000000</td>\n",
       "    </tr>\n",
       "  </tbody>\n",
       "</table>\n",
       "</div>"
      ],
      "text/plain": [
       "          N_Brands  N_Categories  N_Subcategories\n",
       "count  7560.000000   7560.000000      7560.000000\n",
       "mean      2.403571      1.115079         1.216534\n",
       "std       1.895529      0.373745         0.555973\n",
       "min       1.000000      1.000000         1.000000\n",
       "25%       1.000000      1.000000         1.000000\n",
       "50%       1.000000      1.000000         1.000000\n",
       "75%       3.000000      1.000000         1.000000\n",
       "max      10.000000      4.000000         8.000000"
      ]
     },
     "execution_count": 212,
     "metadata": {},
     "output_type": "execute_result"
    }
   ],
   "source": [
    "df_recs3.describe()"
   ]
  },
  {
   "cell_type": "code",
   "execution_count": 174,
   "metadata": {},
   "outputs": [
    {
     "data": {
      "text/html": [
       "<div>\n",
       "<style scoped>\n",
       "    .dataframe tbody tr th:only-of-type {\n",
       "        vertical-align: middle;\n",
       "    }\n",
       "\n",
       "    .dataframe tbody tr th {\n",
       "        vertical-align: top;\n",
       "    }\n",
       "\n",
       "    .dataframe thead th {\n",
       "        text-align: right;\n",
       "    }\n",
       "</style>\n",
       "<table border=\"1\" class=\"dataframe\">\n",
       "  <thead>\n",
       "    <tr style=\"text-align: right;\">\n",
       "      <th></th>\n",
       "      <th>N_Brands</th>\n",
       "      <th>N_Categories</th>\n",
       "      <th>N_Subcategories</th>\n",
       "    </tr>\n",
       "  </thead>\n",
       "  <tbody>\n",
       "    <tr>\n",
       "      <td>count</td>\n",
       "      <td>7560.000000</td>\n",
       "      <td>7560.000000</td>\n",
       "      <td>7560.000000</td>\n",
       "    </tr>\n",
       "    <tr>\n",
       "      <td>mean</td>\n",
       "      <td>2.538624</td>\n",
       "      <td>1.121958</td>\n",
       "      <td>1.232407</td>\n",
       "    </tr>\n",
       "    <tr>\n",
       "      <td>std</td>\n",
       "      <td>2.056508</td>\n",
       "      <td>0.383127</td>\n",
       "      <td>0.577693</td>\n",
       "    </tr>\n",
       "    <tr>\n",
       "      <td>min</td>\n",
       "      <td>1.000000</td>\n",
       "      <td>1.000000</td>\n",
       "      <td>1.000000</td>\n",
       "    </tr>\n",
       "    <tr>\n",
       "      <td>25%</td>\n",
       "      <td>1.000000</td>\n",
       "      <td>1.000000</td>\n",
       "      <td>1.000000</td>\n",
       "    </tr>\n",
       "    <tr>\n",
       "      <td>50%</td>\n",
       "      <td>2.000000</td>\n",
       "      <td>1.000000</td>\n",
       "      <td>1.000000</td>\n",
       "    </tr>\n",
       "    <tr>\n",
       "      <td>75%</td>\n",
       "      <td>4.000000</td>\n",
       "      <td>1.000000</td>\n",
       "      <td>1.000000</td>\n",
       "    </tr>\n",
       "    <tr>\n",
       "      <td>max</td>\n",
       "      <td>15.000000</td>\n",
       "      <td>4.000000</td>\n",
       "      <td>8.000000</td>\n",
       "    </tr>\n",
       "  </tbody>\n",
       "</table>\n",
       "</div>"
      ],
      "text/plain": [
       "          N_Brands  N_Categories  N_Subcategories\n",
       "count  7560.000000   7560.000000      7560.000000\n",
       "mean      2.538624      1.121958         1.232407\n",
       "std       2.056508      0.383127         0.577693\n",
       "min       1.000000      1.000000         1.000000\n",
       "25%       1.000000      1.000000         1.000000\n",
       "50%       2.000000      1.000000         1.000000\n",
       "75%       4.000000      1.000000         1.000000\n",
       "max      15.000000      4.000000         8.000000"
      ]
     },
     "execution_count": 174,
     "metadata": {},
     "output_type": "execute_result"
    }
   ],
   "source": [
    "df_recs3.describe()"
   ]
  },
  {
   "cell_type": "code",
   "execution_count": null,
   "metadata": {},
   "outputs": [],
   "source": []
  }
 ],
 "metadata": {
  "kernelspec": {
   "display_name": "Python 3",
   "language": "python",
   "name": "python3"
  },
  "language_info": {
   "codemirror_mode": {
    "name": "ipython",
    "version": 3
   },
   "file_extension": ".py",
   "mimetype": "text/x-python",
   "name": "python",
   "nbconvert_exporter": "python",
   "pygments_lexer": "ipython3",
   "version": "3.6.3"
  }
 },
 "nbformat": 4,
 "nbformat_minor": 2
}
