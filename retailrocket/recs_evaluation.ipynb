{
 "cells": [
  {
   "cell_type": "code",
   "execution_count": 5,
   "metadata": {},
   "outputs": [],
   "source": [
    "import pandas as pd\n",
    "import pickle"
   ]
  },
  {
   "cell_type": "code",
   "execution_count": 6,
   "metadata": {},
   "outputs": [],
   "source": [
    "# read the products with their details\n",
    "df_products = pd.read_pickle('data/final/product_details/df_product_details_retailrocket.pkl')\n",
    "# read our recommendations\n",
    "df_recs = pd.read_pickle('data/final/recommendations/df_recos_category_1-5_new.pkl')"
   ]
  },
  {
   "cell_type": "code",
   "execution_count": 7,
   "metadata": {},
   "outputs": [],
   "source": [
    "# read the retailrocket sessions\n",
    "df_recs_retailrocket = pd.read_pickle('data/final/sessions/df_sessions_retailrocket_window_size_1new.pkl')"
   ]
  },
  {
   "cell_type": "code",
   "execution_count": 8,
   "metadata": {},
   "outputs": [
    {
     "data": {
      "text/html": [
       "<div>\n",
       "<style scoped>\n",
       "    .dataframe tbody tr th:only-of-type {\n",
       "        vertical-align: middle;\n",
       "    }\n",
       "\n",
       "    .dataframe tbody tr th {\n",
       "        vertical-align: top;\n",
       "    }\n",
       "\n",
       "    .dataframe thead th {\n",
       "        text-align: right;\n",
       "    }\n",
       "</style>\n",
       "<table border=\"1\" class=\"dataframe\">\n",
       "  <thead>\n",
       "    <tr style=\"text-align: right;\">\n",
       "      <th></th>\n",
       "      <th>doc_id</th>\n",
       "      <th>term</th>\n",
       "      <th>term_id</th>\n",
       "      <th>tfidf</th>\n",
       "      <th>product_id</th>\n",
       "      <th>Category2</th>\n",
       "      <th>SubCategory2</th>\n",
       "      <th>Minhash_id</th>\n",
       "      <th>Minhash</th>\n",
       "      <th>recs</th>\n",
       "    </tr>\n",
       "  </thead>\n",
       "  <tbody>\n",
       "    <tr>\n",
       "      <td>0</td>\n",
       "      <td>0</td>\n",
       "      <td>[942411, 177151, 64816, 133116, 1128577, 22797...</td>\n",
       "      <td>[31663, 10456, 23415, 8984, 3499, 11863, 5346,...</td>\n",
       "      <td>[0.12998190993696945, 0.31411559559438207, 0.3...</td>\n",
       "      <td>291285</td>\n",
       "      <td>1426_cat</td>\n",
       "      <td>1589_subcat</td>\n",
       "      <td>m0</td>\n",
       "      <td>&lt;datasketch.weighted_minhash.WeightedMinHash o...</td>\n",
       "      <td>[m1410, m15433, m15949, m5758, m11035, m9664, ...</td>\n",
       "    </tr>\n",
       "  </tbody>\n",
       "</table>\n",
       "</div>"
      ],
      "text/plain": [
       "   doc_id                                               term  \\\n",
       "0       0  [942411, 177151, 64816, 133116, 1128577, 22797...   \n",
       "\n",
       "                                             term_id  \\\n",
       "0  [31663, 10456, 23415, 8984, 3499, 11863, 5346,...   \n",
       "\n",
       "                                               tfidf  product_id Category2  \\\n",
       "0  [0.12998190993696945, 0.31411559559438207, 0.3...      291285  1426_cat   \n",
       "\n",
       "  SubCategory2 Minhash_id                                            Minhash  \\\n",
       "0  1589_subcat         m0  <datasketch.weighted_minhash.WeightedMinHash o...   \n",
       "\n",
       "                                                recs  \n",
       "0  [m1410, m15433, m15949, m5758, m11035, m9664, ...  "
      ]
     },
     "execution_count": 8,
     "metadata": {},
     "output_type": "execute_result"
    }
   ],
   "source": [
    "df_recs.head(1)"
   ]
  },
  {
   "cell_type": "code",
   "execution_count": 9,
   "metadata": {},
   "outputs": [
    {
     "data": {
      "text/html": [
       "<div>\n",
       "<style scoped>\n",
       "    .dataframe tbody tr th:only-of-type {\n",
       "        vertical-align: middle;\n",
       "    }\n",
       "\n",
       "    .dataframe tbody tr th {\n",
       "        vertical-align: top;\n",
       "    }\n",
       "\n",
       "    .dataframe thead th {\n",
       "        text-align: right;\n",
       "    }\n",
       "</style>\n",
       "<table border=\"1\" class=\"dataframe\">\n",
       "  <thead>\n",
       "    <tr style=\"text-align: right;\">\n",
       "      <th></th>\n",
       "      <th>doc_id</th>\n",
       "      <th>term</th>\n",
       "      <th>term_id</th>\n",
       "      <th>tfidf</th>\n",
       "      <th>product_id</th>\n",
       "      <th>Category2</th>\n",
       "      <th>SubCategory2</th>\n",
       "      <th>Minhash_id</th>\n",
       "      <th>Minhash</th>\n",
       "      <th>recs</th>\n",
       "    </tr>\n",
       "  </thead>\n",
       "  <tbody>\n",
       "    <tr>\n",
       "      <td>0</td>\n",
       "      <td>0</td>\n",
       "      <td>[942411, 177151, 64816, 133116, 1128577, 22797...</td>\n",
       "      <td>[31663, 10456, 23415, 8984, 3499, 11863, 5346,...</td>\n",
       "      <td>[0.12998190993696945, 0.31411559559438207, 0.3...</td>\n",
       "      <td>291285</td>\n",
       "      <td>1426_cat</td>\n",
       "      <td>1589_subcat</td>\n",
       "      <td>m0</td>\n",
       "      <td>&lt;datasketch.weighted_minhash.WeightedMinHash o...</td>\n",
       "      <td>[m1410, m15433, m15949, m5758, m11035, m9664, ...</td>\n",
       "    </tr>\n",
       "    <tr>\n",
       "      <td>1</td>\n",
       "      <td>1</td>\n",
       "      <td>[1128577, 1249027, 820477, 72034, 912996, 4046...</td>\n",
       "      <td>[3499, 6766, 28250, 25483, 30830, 16813, 14118...</td>\n",
       "      <td>[0.15023119822454753, 0.13586146435157057, 0.2...</td>\n",
       "      <td>103012</td>\n",
       "      <td>561_cat</td>\n",
       "      <td>1483_subcat</td>\n",
       "      <td>m1</td>\n",
       "      <td>&lt;datasketch.weighted_minhash.WeightedMinHash o...</td>\n",
       "      <td>[m11393, m3882, m12858, m8269, m18731, m12519,...</td>\n",
       "    </tr>\n",
       "  </tbody>\n",
       "</table>\n",
       "</div>"
      ],
      "text/plain": [
       "   doc_id                                               term  \\\n",
       "0       0  [942411, 177151, 64816, 133116, 1128577, 22797...   \n",
       "1       1  [1128577, 1249027, 820477, 72034, 912996, 4046...   \n",
       "\n",
       "                                             term_id  \\\n",
       "0  [31663, 10456, 23415, 8984, 3499, 11863, 5346,...   \n",
       "1  [3499, 6766, 28250, 25483, 30830, 16813, 14118...   \n",
       "\n",
       "                                               tfidf  product_id Category2  \\\n",
       "0  [0.12998190993696945, 0.31411559559438207, 0.3...      291285  1426_cat   \n",
       "1  [0.15023119822454753, 0.13586146435157057, 0.2...      103012   561_cat   \n",
       "\n",
       "  SubCategory2 Minhash_id                                            Minhash  \\\n",
       "0  1589_subcat         m0  <datasketch.weighted_minhash.WeightedMinHash o...   \n",
       "1  1483_subcat         m1  <datasketch.weighted_minhash.WeightedMinHash o...   \n",
       "\n",
       "                                                recs  \n",
       "0  [m1410, m15433, m15949, m5758, m11035, m9664, ...  \n",
       "1  [m11393, m3882, m12858, m8269, m18731, m12519,...  "
      ]
     },
     "execution_count": 9,
     "metadata": {},
     "output_type": "execute_result"
    }
   ],
   "source": [
    "df_recs.head(2)"
   ]
  },
  {
   "cell_type": "code",
   "execution_count": 10,
   "metadata": {},
   "outputs": [
    {
     "data": {
      "text/html": [
       "<div>\n",
       "<style scoped>\n",
       "    .dataframe tbody tr th:only-of-type {\n",
       "        vertical-align: middle;\n",
       "    }\n",
       "\n",
       "    .dataframe tbody tr th {\n",
       "        vertical-align: top;\n",
       "    }\n",
       "\n",
       "    .dataframe thead th {\n",
       "        text-align: right;\n",
       "    }\n",
       "</style>\n",
       "<table border=\"1\" class=\"dataframe\">\n",
       "  <thead>\n",
       "    <tr style=\"text-align: right;\">\n",
       "      <th></th>\n",
       "      <th>product1</th>\n",
       "      <th>subcategory_p1</th>\n",
       "      <th>category_p1</th>\n",
       "      <th>product2</th>\n",
       "      <th>subcategory_p2</th>\n",
       "      <th>category_p2</th>\n",
       "      <th>N_products</th>\n",
       "    </tr>\n",
       "  </thead>\n",
       "  <tbody>\n",
       "    <tr>\n",
       "      <td>9</td>\n",
       "      <td>29</td>\n",
       "      <td>1051.0</td>\n",
       "      <td>955.0</td>\n",
       "      <td>[268335, 29, 442645]</td>\n",
       "      <td>[1051.0, 1051.0, 1051.0]</td>\n",
       "      <td>[955.0, 955.0, 955.0]</td>\n",
       "      <td>3</td>\n",
       "    </tr>\n",
       "    <tr>\n",
       "      <td>14</td>\n",
       "      <td>42</td>\n",
       "      <td>84.0</td>\n",
       "      <td>1308.0</td>\n",
       "      <td>[56782, 336121, 288265, 182676, 148123, 149550...</td>\n",
       "      <td>[1120.0, 84.0, 84.0, 959.0, 84.0, 84.0, 1135.0...</td>\n",
       "      <td>[250.0, 1308.0, 1308.0, 1095.0, 1308.0, 1308.0...</td>\n",
       "      <td>31</td>\n",
       "    </tr>\n",
       "  </tbody>\n",
       "</table>\n",
       "</div>"
      ],
      "text/plain": [
       "    product1  subcategory_p1  category_p1  \\\n",
       "9         29          1051.0        955.0   \n",
       "14        42            84.0       1308.0   \n",
       "\n",
       "                                             product2  \\\n",
       "9                                [268335, 29, 442645]   \n",
       "14  [56782, 336121, 288265, 182676, 148123, 149550...   \n",
       "\n",
       "                                       subcategory_p2  \\\n",
       "9                            [1051.0, 1051.0, 1051.0]   \n",
       "14  [1120.0, 84.0, 84.0, 959.0, 84.0, 84.0, 1135.0...   \n",
       "\n",
       "                                          category_p2  N_products  \n",
       "9                               [955.0, 955.0, 955.0]           3  \n",
       "14  [250.0, 1308.0, 1308.0, 1095.0, 1308.0, 1308.0...          31  "
      ]
     },
     "execution_count": 10,
     "metadata": {},
     "output_type": "execute_result"
    }
   ],
   "source": [
    "df_recs_retailrocket.head(2)"
   ]
  },
  {
   "cell_type": "code",
   "execution_count": 11,
   "metadata": {},
   "outputs": [
    {
     "data": {
      "text/plain": [
       "(14855, 7)"
      ]
     },
     "execution_count": 11,
     "metadata": {},
     "output_type": "execute_result"
    }
   ],
   "source": [
    "df_recs_retailrocket.shape"
   ]
  },
  {
   "cell_type": "code",
   "execution_count": 12,
   "metadata": {},
   "outputs": [],
   "source": [
    "# expand each row to as many rows as the length of the product2 list\n",
    "df_recs_retailrocket2 = df_recs_retailrocket.set_index('product1').product2.apply(pd.Series).stack().reset_index(level=-1, drop=True).astype(int).reset_index()\n",
    "# rename the columns\n",
    "df_recs_retailrocket2.columns = ['product_id', 'rec_id']\n",
    "\n",
    "# convert 'rec_id' to int\n",
    "#df_recs_retailrocket2['rec_id'] = df_recs_retailrocket2['rec_id'].astype('int')"
   ]
  },
  {
   "cell_type": "code",
   "execution_count": 13,
   "metadata": {},
   "outputs": [
    {
     "data": {
      "text/html": [
       "<div>\n",
       "<style scoped>\n",
       "    .dataframe tbody tr th:only-of-type {\n",
       "        vertical-align: middle;\n",
       "    }\n",
       "\n",
       "    .dataframe tbody tr th {\n",
       "        vertical-align: top;\n",
       "    }\n",
       "\n",
       "    .dataframe thead th {\n",
       "        text-align: right;\n",
       "    }\n",
       "</style>\n",
       "<table border=\"1\" class=\"dataframe\">\n",
       "  <thead>\n",
       "    <tr style=\"text-align: right;\">\n",
       "      <th></th>\n",
       "      <th>product_id</th>\n",
       "      <th>rec_id</th>\n",
       "    </tr>\n",
       "  </thead>\n",
       "  <tbody>\n",
       "    <tr>\n",
       "      <td>0</td>\n",
       "      <td>29</td>\n",
       "      <td>268335</td>\n",
       "    </tr>\n",
       "    <tr>\n",
       "      <td>1</td>\n",
       "      <td>29</td>\n",
       "      <td>29</td>\n",
       "    </tr>\n",
       "  </tbody>\n",
       "</table>\n",
       "</div>"
      ],
      "text/plain": [
       "   product_id  rec_id\n",
       "0          29  268335\n",
       "1          29      29"
      ]
     },
     "execution_count": 13,
     "metadata": {},
     "output_type": "execute_result"
    }
   ],
   "source": [
    "df_recs_retailrocket2.head(2)"
   ]
  },
  {
   "cell_type": "code",
   "execution_count": 14,
   "metadata": {},
   "outputs": [
    {
     "data": {
      "text/plain": [
       "(180776, 2)"
      ]
     },
     "execution_count": 14,
     "metadata": {},
     "output_type": "execute_result"
    }
   ],
   "source": [
    "df_recs_retailrocket2.shape"
   ]
  },
  {
   "cell_type": "code",
   "execution_count": 15,
   "metadata": {},
   "outputs": [],
   "source": [
    "# keep a matching between 'product_id' & 'Minhash_id'\n",
    "df_m = df_recs[['product_id', 'Minhash_id']]\n",
    "\n",
    "# convert 'product_id' to int\n",
    "#df_m['product_id'] = df_m['product_id'].astype('int')"
   ]
  },
  {
   "cell_type": "code",
   "execution_count": 16,
   "metadata": {},
   "outputs": [
    {
     "data": {
      "text/html": [
       "<div>\n",
       "<style scoped>\n",
       "    .dataframe tbody tr th:only-of-type {\n",
       "        vertical-align: middle;\n",
       "    }\n",
       "\n",
       "    .dataframe tbody tr th {\n",
       "        vertical-align: top;\n",
       "    }\n",
       "\n",
       "    .dataframe thead th {\n",
       "        text-align: right;\n",
       "    }\n",
       "</style>\n",
       "<table border=\"1\" class=\"dataframe\">\n",
       "  <thead>\n",
       "    <tr style=\"text-align: right;\">\n",
       "      <th></th>\n",
       "      <th>product_id</th>\n",
       "      <th>Minhash_id</th>\n",
       "    </tr>\n",
       "  </thead>\n",
       "  <tbody>\n",
       "    <tr>\n",
       "      <td>0</td>\n",
       "      <td>291285</td>\n",
       "      <td>m0</td>\n",
       "    </tr>\n",
       "  </tbody>\n",
       "</table>\n",
       "</div>"
      ],
      "text/plain": [
       "   product_id Minhash_id\n",
       "0      291285         m0"
      ]
     },
     "execution_count": 16,
     "metadata": {},
     "output_type": "execute_result"
    }
   ],
   "source": [
    "df_m.head(1)"
   ]
  },
  {
   "cell_type": "code",
   "execution_count": 17,
   "metadata": {},
   "outputs": [],
   "source": [
    "#df_recs_retailrocket2['rec_id'] = df_recs_retailrocket2['rec_id'].astype('str')\n",
    "#df_m['product_id'] = df_m['product_id'].astype('str')"
   ]
  },
  {
   "cell_type": "code",
   "execution_count": 18,
   "metadata": {},
   "outputs": [],
   "source": [
    "# add the 'Minhash_id' to each scraped recommendation\n",
    "df_recs_retailrocket2 = df_recs_retailrocket2.merge(df_m, left_on='rec_id', right_on='product_id', how='left')"
   ]
  },
  {
   "cell_type": "code",
   "execution_count": 19,
   "metadata": {},
   "outputs": [
    {
     "data": {
      "text/html": [
       "<div>\n",
       "<style scoped>\n",
       "    .dataframe tbody tr th:only-of-type {\n",
       "        vertical-align: middle;\n",
       "    }\n",
       "\n",
       "    .dataframe tbody tr th {\n",
       "        vertical-align: top;\n",
       "    }\n",
       "\n",
       "    .dataframe thead th {\n",
       "        text-align: right;\n",
       "    }\n",
       "</style>\n",
       "<table border=\"1\" class=\"dataframe\">\n",
       "  <thead>\n",
       "    <tr style=\"text-align: right;\">\n",
       "      <th></th>\n",
       "      <th>product_id_x</th>\n",
       "      <th>rec_id</th>\n",
       "      <th>product_id_y</th>\n",
       "      <th>Minhash_id</th>\n",
       "    </tr>\n",
       "  </thead>\n",
       "  <tbody>\n",
       "    <tr>\n",
       "      <td>0</td>\n",
       "      <td>29</td>\n",
       "      <td>268335</td>\n",
       "      <td>268335.0</td>\n",
       "      <td>m23525</td>\n",
       "    </tr>\n",
       "    <tr>\n",
       "      <td>1</td>\n",
       "      <td>29</td>\n",
       "      <td>29</td>\n",
       "      <td>29.0</td>\n",
       "      <td>m24287</td>\n",
       "    </tr>\n",
       "  </tbody>\n",
       "</table>\n",
       "</div>"
      ],
      "text/plain": [
       "   product_id_x  rec_id  product_id_y Minhash_id\n",
       "0            29  268335      268335.0     m23525\n",
       "1            29      29          29.0     m24287"
      ]
     },
     "execution_count": 19,
     "metadata": {},
     "output_type": "execute_result"
    }
   ],
   "source": [
    "df_recs_retailrocket2.head(2)"
   ]
  },
  {
   "cell_type": "code",
   "execution_count": 20,
   "metadata": {},
   "outputs": [
    {
     "data": {
      "text/plain": [
       "14855"
      ]
     },
     "execution_count": 20,
     "metadata": {},
     "output_type": "execute_result"
    }
   ],
   "source": [
    "df_recs_retailrocket2.product_id_x.nunique()"
   ]
  },
  {
   "cell_type": "code",
   "execution_count": 21,
   "metadata": {},
   "outputs": [
    {
     "data": {
      "text/plain": [
       "30099"
      ]
     },
     "execution_count": 21,
     "metadata": {},
     "output_type": "execute_result"
    }
   ],
   "source": [
    "df_recs_retailrocket2.rec_id.nunique()"
   ]
  },
  {
   "cell_type": "code",
   "execution_count": 22,
   "metadata": {},
   "outputs": [
    {
     "data": {
      "text/plain": [
       "14411"
      ]
     },
     "execution_count": 22,
     "metadata": {},
     "output_type": "execute_result"
    }
   ],
   "source": [
    "df_recs_retailrocket2.Minhash_id.nunique()"
   ]
  },
  {
   "cell_type": "code",
   "execution_count": 23,
   "metadata": {},
   "outputs": [],
   "source": [
    "# drop recommendations that we dont have details. So, they are from different categories maybe...\n",
    "df_recs_retailrocket3 = df_recs_retailrocket2.dropna()"
   ]
  },
  {
   "cell_type": "code",
   "execution_count": 24,
   "metadata": {},
   "outputs": [
    {
     "data": {
      "text/html": [
       "<div>\n",
       "<style scoped>\n",
       "    .dataframe tbody tr th:only-of-type {\n",
       "        vertical-align: middle;\n",
       "    }\n",
       "\n",
       "    .dataframe tbody tr th {\n",
       "        vertical-align: top;\n",
       "    }\n",
       "\n",
       "    .dataframe thead th {\n",
       "        text-align: right;\n",
       "    }\n",
       "</style>\n",
       "<table border=\"1\" class=\"dataframe\">\n",
       "  <thead>\n",
       "    <tr style=\"text-align: right;\">\n",
       "      <th></th>\n",
       "      <th>product_id_x</th>\n",
       "      <th>rec_id</th>\n",
       "      <th>product_id_y</th>\n",
       "      <th>Minhash_id</th>\n",
       "    </tr>\n",
       "  </thead>\n",
       "  <tbody>\n",
       "    <tr>\n",
       "      <td>0</td>\n",
       "      <td>29</td>\n",
       "      <td>268335</td>\n",
       "      <td>268335.0</td>\n",
       "      <td>m23525</td>\n",
       "    </tr>\n",
       "    <tr>\n",
       "      <td>1</td>\n",
       "      <td>29</td>\n",
       "      <td>29</td>\n",
       "      <td>29.0</td>\n",
       "      <td>m24287</td>\n",
       "    </tr>\n",
       "  </tbody>\n",
       "</table>\n",
       "</div>"
      ],
      "text/plain": [
       "   product_id_x  rec_id  product_id_y Minhash_id\n",
       "0            29  268335      268335.0     m23525\n",
       "1            29      29          29.0     m24287"
      ]
     },
     "execution_count": 24,
     "metadata": {},
     "output_type": "execute_result"
    }
   ],
   "source": [
    "df_recs_retailrocket3.head(2)"
   ]
  },
  {
   "cell_type": "code",
   "execution_count": 25,
   "metadata": {},
   "outputs": [
    {
     "data": {
      "text/plain": [
       "(146769, 4)"
      ]
     },
     "execution_count": 25,
     "metadata": {},
     "output_type": "execute_result"
    }
   ],
   "source": [
    "df_recs_retailrocket3.shape"
   ]
  },
  {
   "cell_type": "code",
   "execution_count": 26,
   "metadata": {},
   "outputs": [
    {
     "data": {
      "text/plain": [
       "14411"
      ]
     },
     "execution_count": 26,
     "metadata": {},
     "output_type": "execute_result"
    }
   ],
   "source": [
    "df_recs_retailrocket3.product_id_x.nunique()"
   ]
  },
  {
   "cell_type": "code",
   "execution_count": 27,
   "metadata": {},
   "outputs": [
    {
     "data": {
      "text/plain": [
       "14411"
      ]
     },
     "execution_count": 27,
     "metadata": {},
     "output_type": "execute_result"
    }
   ],
   "source": [
    "df_recs_retailrocket3.rec_id.nunique()"
   ]
  },
  {
   "cell_type": "code",
   "execution_count": 28,
   "metadata": {},
   "outputs": [
    {
     "data": {
      "text/html": [
       "<div>\n",
       "<style scoped>\n",
       "    .dataframe tbody tr th:only-of-type {\n",
       "        vertical-align: middle;\n",
       "    }\n",
       "\n",
       "    .dataframe tbody tr th {\n",
       "        vertical-align: top;\n",
       "    }\n",
       "\n",
       "    .dataframe thead th {\n",
       "        text-align: right;\n",
       "    }\n",
       "</style>\n",
       "<table border=\"1\" class=\"dataframe\">\n",
       "  <thead>\n",
       "    <tr style=\"text-align: right;\">\n",
       "      <th></th>\n",
       "      <th>product_id</th>\n",
       "      <th>retroc_recs</th>\n",
       "    </tr>\n",
       "  </thead>\n",
       "  <tbody>\n",
       "    <tr>\n",
       "      <td>0</td>\n",
       "      <td>29</td>\n",
       "      <td>[m23525, m24287, m17866]</td>\n",
       "    </tr>\n",
       "    <tr>\n",
       "      <td>1</td>\n",
       "      <td>42</td>\n",
       "      <td>[m24222, m2573, m15398, m11685, m21984, m21067...</td>\n",
       "    </tr>\n",
       "  </tbody>\n",
       "</table>\n",
       "</div>"
      ],
      "text/plain": [
       "   product_id                                        retroc_recs\n",
       "0          29                           [m23525, m24287, m17866]\n",
       "1          42  [m24222, m2573, m15398, m11685, m21984, m21067..."
      ]
     },
     "execution_count": 28,
     "metadata": {},
     "output_type": "execute_result"
    }
   ],
   "source": [
    "# group by product and convert recommendations to lists\n",
    "df_recs_retailrocket4 = df_recs_retailrocket3.groupby(['product_id_x'])['Minhash_id'].apply(list).reset_index(name='retroc_recs')\n",
    "df_recs_retailrocket4.columns = ['product_id', 'retroc_recs']\n",
    "df_recs_retailrocket4.head(2)"
   ]
  },
  {
   "cell_type": "code",
   "execution_count": 29,
   "metadata": {},
   "outputs": [
    {
     "data": {
      "text/plain": [
       "(14411, 2)"
      ]
     },
     "execution_count": 29,
     "metadata": {},
     "output_type": "execute_result"
    }
   ],
   "source": [
    "df_recs_retailrocket4.shape"
   ]
  },
  {
   "cell_type": "code",
   "execution_count": 30,
   "metadata": {},
   "outputs": [
    {
     "data": {
      "text/html": [
       "<div>\n",
       "<style scoped>\n",
       "    .dataframe tbody tr th:only-of-type {\n",
       "        vertical-align: middle;\n",
       "    }\n",
       "\n",
       "    .dataframe tbody tr th {\n",
       "        vertical-align: top;\n",
       "    }\n",
       "\n",
       "    .dataframe thead th {\n",
       "        text-align: right;\n",
       "    }\n",
       "</style>\n",
       "<table border=\"1\" class=\"dataframe\">\n",
       "  <thead>\n",
       "    <tr style=\"text-align: right;\">\n",
       "      <th></th>\n",
       "      <th>product_id</th>\n",
       "      <th>recs</th>\n",
       "    </tr>\n",
       "  </thead>\n",
       "  <tbody>\n",
       "    <tr>\n",
       "      <td>0</td>\n",
       "      <td>291285</td>\n",
       "      <td>[m1410, m15433, m15949, m5758, m11035, m9664, ...</td>\n",
       "    </tr>\n",
       "    <tr>\n",
       "      <td>1</td>\n",
       "      <td>103012</td>\n",
       "      <td>[m11393, m3882, m12858, m8269, m18731, m12519,...</td>\n",
       "    </tr>\n",
       "  </tbody>\n",
       "</table>\n",
       "</div>"
      ],
      "text/plain": [
       "   product_id                                               recs\n",
       "0      291285  [m1410, m15433, m15949, m5758, m11035, m9664, ...\n",
       "1      103012  [m11393, m3882, m12858, m8269, m18731, m12519,..."
      ]
     },
     "execution_count": 30,
     "metadata": {},
     "output_type": "execute_result"
    }
   ],
   "source": [
    "# keep only the same information of our recommendations\n",
    "df_recs = df_recs[['product_id', 'recs']]\n",
    "# convert 'product_id' to int\n",
    "df_recs['product_id'] = df_recs['product_id'].astype('int')\n",
    "\n",
    "df_recs.head(2)"
   ]
  },
  {
   "cell_type": "code",
   "execution_count": 31,
   "metadata": {},
   "outputs": [],
   "source": [
    "# create a df with all the recs(scraped & our) \n",
    "df_recs_all = df_recs_retailrocket4.merge(df_recs, left_on='product_id', right_on='product_id', how='left')"
   ]
  },
  {
   "cell_type": "code",
   "execution_count": 32,
   "metadata": {},
   "outputs": [
    {
     "data": {
      "text/html": [
       "<div>\n",
       "<style scoped>\n",
       "    .dataframe tbody tr th:only-of-type {\n",
       "        vertical-align: middle;\n",
       "    }\n",
       "\n",
       "    .dataframe tbody tr th {\n",
       "        vertical-align: top;\n",
       "    }\n",
       "\n",
       "    .dataframe thead th {\n",
       "        text-align: right;\n",
       "    }\n",
       "</style>\n",
       "<table border=\"1\" class=\"dataframe\">\n",
       "  <thead>\n",
       "    <tr style=\"text-align: right;\">\n",
       "      <th></th>\n",
       "      <th>product_id</th>\n",
       "      <th>retroc_recs</th>\n",
       "      <th>recs</th>\n",
       "    </tr>\n",
       "  </thead>\n",
       "  <tbody>\n",
       "    <tr>\n",
       "      <td>0</td>\n",
       "      <td>29</td>\n",
       "      <td>[m23525, m24287, m17866]</td>\n",
       "      <td>[m13992, m21228, m19021, m24287, m26898, m5464...</td>\n",
       "    </tr>\n",
       "    <tr>\n",
       "      <td>1</td>\n",
       "      <td>42</td>\n",
       "      <td>[m24222, m2573, m15398, m11685, m21984, m21067...</td>\n",
       "      <td>[m2809, m2406, m16289, m11526, m2636, m26916, ...</td>\n",
       "    </tr>\n",
       "  </tbody>\n",
       "</table>\n",
       "</div>"
      ],
      "text/plain": [
       "   product_id                                        retroc_recs  \\\n",
       "0          29                           [m23525, m24287, m17866]   \n",
       "1          42  [m24222, m2573, m15398, m11685, m21984, m21067...   \n",
       "\n",
       "                                                recs  \n",
       "0  [m13992, m21228, m19021, m24287, m26898, m5464...  \n",
       "1  [m2809, m2406, m16289, m11526, m2636, m26916, ...  "
      ]
     },
     "execution_count": 32,
     "metadata": {},
     "output_type": "execute_result"
    }
   ],
   "source": [
    "df_recs_all.head(2)"
   ]
  },
  {
   "cell_type": "code",
   "execution_count": 33,
   "metadata": {},
   "outputs": [
    {
     "data": {
      "text/plain": [
       "10"
      ]
     },
     "execution_count": 33,
     "metadata": {},
     "output_type": "execute_result"
    }
   ],
   "source": [
    "len(df_recs_all.iloc[0][2])"
   ]
  },
  {
   "cell_type": "code",
   "execution_count": 34,
   "metadata": {},
   "outputs": [],
   "source": [
    "# keep only the first 5 recommendation that we made\n",
    "df_recs_all['rec_top5'] = df_recs_all['recs'].apply(lambda x: x[0:10])"
   ]
  },
  {
   "cell_type": "code",
   "execution_count": 35,
   "metadata": {},
   "outputs": [],
   "source": [
    "# count how many recs are the same\n",
    "df_recs_all['N_commons'] = df_recs_all.apply(lambda x: len(set(x['retroc_recs']).intersection(set(x['rec_top5']))), axis=1)"
   ]
  },
  {
   "cell_type": "code",
   "execution_count": 36,
   "metadata": {},
   "outputs": [],
   "source": [
    "df_recs_all['N_recs_retroc'] = df_recs_all['retroc_recs'].apply(lambda x: len(x))"
   ]
  },
  {
   "cell_type": "code",
   "execution_count": 37,
   "metadata": {},
   "outputs": [],
   "source": [
    "# keep only products with length>=20\n",
    "#df_recs_all2 = df_recs_all[df_recs_all.N_recs_retroc>=10]"
   ]
  },
  {
   "cell_type": "code",
   "execution_count": 38,
   "metadata": {},
   "outputs": [],
   "source": [
    "# # save the list of product ids to a pickle file\n",
    "# eval_recs_productids = df_recs_all[df_recs_all.N_recs_retroc>=10].product_id.unique()\n",
    "# with open('data/final/recommendations/eval_recs_productids_new.pkl', 'wb') as f:\n",
    "#     pickle.dump(eval_recs_productids, f)\n",
    "\n",
    "# keep the same set of products in every scenario & window_size\n",
    "with open('data/final/recommendations/eval_recs_productids_new.pkl', 'rb') as f:\n",
    "    eval_recs_productids = pickle.load(f)\n",
    "# keep a specific set of 3973 products\n",
    "df_recs_all2 = df_recs_all[df_recs_all.product_id.isin(eval_recs_productids)]"
   ]
  },
  {
   "cell_type": "code",
   "execution_count": 39,
   "metadata": {},
   "outputs": [
    {
     "data": {
      "text/html": [
       "<div>\n",
       "<style scoped>\n",
       "    .dataframe tbody tr th:only-of-type {\n",
       "        vertical-align: middle;\n",
       "    }\n",
       "\n",
       "    .dataframe tbody tr th {\n",
       "        vertical-align: top;\n",
       "    }\n",
       "\n",
       "    .dataframe thead th {\n",
       "        text-align: right;\n",
       "    }\n",
       "</style>\n",
       "<table border=\"1\" class=\"dataframe\">\n",
       "  <thead>\n",
       "    <tr style=\"text-align: right;\">\n",
       "      <th></th>\n",
       "      <th>product_id</th>\n",
       "      <th>retroc_recs</th>\n",
       "      <th>recs</th>\n",
       "      <th>rec_top5</th>\n",
       "      <th>N_commons</th>\n",
       "      <th>N_recs_retroc</th>\n",
       "    </tr>\n",
       "  </thead>\n",
       "  <tbody>\n",
       "    <tr>\n",
       "      <td>1</td>\n",
       "      <td>42</td>\n",
       "      <td>[m24222, m2573, m15398, m11685, m21984, m21067...</td>\n",
       "      <td>[m2809, m2406, m16289, m11526, m2636, m26916, ...</td>\n",
       "      <td>[m2809, m2406, m16289, m11526, m2636, m26916, ...</td>\n",
       "      <td>1</td>\n",
       "      <td>20</td>\n",
       "    </tr>\n",
       "    <tr>\n",
       "      <td>3</td>\n",
       "      <td>147</td>\n",
       "      <td>[m16017, m6213, m20676, m18626, m24772, m13099...</td>\n",
       "      <td>[m16017, m27751, m20676, m22609, m21097, m625,...</td>\n",
       "      <td>[m16017, m27751, m20676, m22609, m21097, m625,...</td>\n",
       "      <td>6</td>\n",
       "      <td>37</td>\n",
       "    </tr>\n",
       "  </tbody>\n",
       "</table>\n",
       "</div>"
      ],
      "text/plain": [
       "   product_id                                        retroc_recs  \\\n",
       "1          42  [m24222, m2573, m15398, m11685, m21984, m21067...   \n",
       "3         147  [m16017, m6213, m20676, m18626, m24772, m13099...   \n",
       "\n",
       "                                                recs  \\\n",
       "1  [m2809, m2406, m16289, m11526, m2636, m26916, ...   \n",
       "3  [m16017, m27751, m20676, m22609, m21097, m625,...   \n",
       "\n",
       "                                            rec_top5  N_commons  N_recs_retroc  \n",
       "1  [m2809, m2406, m16289, m11526, m2636, m26916, ...          1             20  \n",
       "3  [m16017, m27751, m20676, m22609, m21097, m625,...          6             37  "
      ]
     },
     "execution_count": 39,
     "metadata": {},
     "output_type": "execute_result"
    }
   ],
   "source": [
    "df_recs_all2.head(2)"
   ]
  },
  {
   "cell_type": "code",
   "execution_count": 40,
   "metadata": {},
   "outputs": [
    {
     "data": {
      "text/plain": [
       "3973"
      ]
     },
     "execution_count": 40,
     "metadata": {},
     "output_type": "execute_result"
    }
   ],
   "source": [
    "n1 = df_recs_all2.shape[0]\n",
    "n1"
   ]
  },
  {
   "cell_type": "code",
   "execution_count": 41,
   "metadata": {},
   "outputs": [
    {
     "data": {
      "text/plain": [
       "3804"
      ]
     },
     "execution_count": 41,
     "metadata": {},
     "output_type": "execute_result"
    }
   ],
   "source": [
    "n2 = df_recs_all2[df_recs_all2.N_commons>0].shape[0]\n",
    "n2"
   ]
  },
  {
   "cell_type": "code",
   "execution_count": 42,
   "metadata": {},
   "outputs": [
    {
     "data": {
      "text/plain": [
       "95.7462874402215"
      ]
     },
     "execution_count": 42,
     "metadata": {},
     "output_type": "execute_result"
    }
   ],
   "source": [
    "100*(n2/n1)"
   ]
  },
  {
   "cell_type": "code",
   "execution_count": null,
   "metadata": {},
   "outputs": [],
   "source": []
  },
  {
   "cell_type": "markdown",
   "metadata": {},
   "source": [
    "### --- W_category = 0.5 ... 3.0"
   ]
  },
  {
   "cell_type": "code",
   "execution_count": null,
   "metadata": {},
   "outputs": [],
   "source": [
    "100*(n2/n1) # 3.0"
   ]
  },
  {
   "cell_type": "code",
   "execution_count": 638,
   "metadata": {},
   "outputs": [
    {
     "data": {
      "text/plain": [
       "94.78983136169141"
      ]
     },
     "execution_count": 638,
     "metadata": {},
     "output_type": "execute_result"
    }
   ],
   "source": [
    "100*(n2/n1) # 2.5"
   ]
  },
  {
   "cell_type": "code",
   "execution_count": 681,
   "metadata": {},
   "outputs": [
    {
     "data": {
      "text/plain": [
       "94.78983136169141"
      ]
     },
     "execution_count": 681,
     "metadata": {},
     "output_type": "execute_result"
    }
   ],
   "source": [
    "100*(n2/n1) # 2.0"
   ]
  },
  {
   "cell_type": "code",
   "execution_count": 719,
   "metadata": {},
   "outputs": [
    {
     "data": {
      "text/plain": [
       "77.62396174175686"
      ]
     },
     "execution_count": 719,
     "metadata": {},
     "output_type": "execute_result"
    }
   ],
   "source": [
    "100*(n2/n1) # 1.5"
   ]
  },
  {
   "cell_type": "code",
   "execution_count": 522,
   "metadata": {},
   "outputs": [
    {
     "data": {
      "text/plain": [
       "94.78983136169141"
      ]
     },
     "execution_count": 522,
     "metadata": {},
     "output_type": "execute_result"
    }
   ],
   "source": [
    "100*(n2/n1) # simple"
   ]
  },
  {
   "cell_type": "code",
   "execution_count": 560,
   "metadata": {},
   "outputs": [
    {
     "data": {
      "text/plain": [
       "94.71432167128114"
      ]
     },
     "execution_count": 560,
     "metadata": {},
     "output_type": "execute_result"
    }
   ],
   "source": [
    "100*(n2/n1) # 0.5"
   ]
  },
  {
   "cell_type": "markdown",
   "metadata": {},
   "source": [
    "### --- W_subcategory = 0.5 ... 3.0"
   ]
  },
  {
   "cell_type": "code",
   "execution_count": 408,
   "metadata": {},
   "outputs": [
    {
     "data": {
      "text/plain": [
       "94.68915177447772"
      ]
     },
     "execution_count": 408,
     "metadata": {},
     "output_type": "execute_result"
    }
   ],
   "source": [
    "100*(n2/n1) # 3.0"
   ]
  },
  {
   "cell_type": "code",
   "execution_count": 352,
   "metadata": {},
   "outputs": [
    {
     "data": {
      "text/plain": [
       "94.86534105210168"
      ]
     },
     "execution_count": 352,
     "metadata": {},
     "output_type": "execute_result"
    }
   ],
   "source": [
    "100*(n2/n1) # 2.5"
   ]
  },
  {
   "cell_type": "code",
   "execution_count": 314,
   "metadata": {},
   "outputs": [
    {
     "data": {
      "text/plain": [
       "94.86534105210168"
      ]
     },
     "execution_count": 314,
     "metadata": {},
     "output_type": "execute_result"
    }
   ],
   "source": [
    "100*(n2/n1) # 2.0"
   ]
  },
  {
   "cell_type": "code",
   "execution_count": 276,
   "metadata": {},
   "outputs": [
    {
     "data": {
      "text/plain": [
       "94.84017115529826"
      ]
     },
     "execution_count": 276,
     "metadata": {},
     "output_type": "execute_result"
    }
   ],
   "source": [
    "100*(n2/n1) # 1.5"
   ]
  },
  {
   "cell_type": "code",
   "execution_count": 236,
   "metadata": {},
   "outputs": [
    {
     "data": {
      "text/plain": [
       "94.78983136169141"
      ]
     },
     "execution_count": 236,
     "metadata": {},
     "output_type": "execute_result"
    }
   ],
   "source": [
    "100*(n2/n1) # simple"
   ]
  },
  {
   "cell_type": "code",
   "execution_count": 198,
   "metadata": {},
   "outputs": [
    {
     "data": {
      "text/plain": [
       "94.73949156808456"
      ]
     },
     "execution_count": 198,
     "metadata": {},
     "output_type": "execute_result"
    }
   ],
   "source": [
    "100*(n2/n1) # 0.5"
   ]
  },
  {
   "cell_type": "code",
   "execution_count": null,
   "metadata": {},
   "outputs": [],
   "source": []
  },
  {
   "cell_type": "code",
   "execution_count": 720,
   "metadata": {},
   "outputs": [
    {
     "data": {
      "text/html": [
       "<div>\n",
       "<style scoped>\n",
       "    .dataframe tbody tr th:only-of-type {\n",
       "        vertical-align: middle;\n",
       "    }\n",
       "\n",
       "    .dataframe tbody tr th {\n",
       "        vertical-align: top;\n",
       "    }\n",
       "\n",
       "    .dataframe thead th {\n",
       "        text-align: right;\n",
       "    }\n",
       "</style>\n",
       "<table border=\"1\" class=\"dataframe\">\n",
       "  <thead>\n",
       "    <tr style=\"text-align: right;\">\n",
       "      <th></th>\n",
       "      <th>product_id</th>\n",
       "      <th>N_commons</th>\n",
       "      <th>N_recs_retroc</th>\n",
       "    </tr>\n",
       "  </thead>\n",
       "  <tbody>\n",
       "    <tr>\n",
       "      <td>count</td>\n",
       "      <td>3973.000000</td>\n",
       "      <td>3973.000000</td>\n",
       "      <td>3973.000000</td>\n",
       "    </tr>\n",
       "    <tr>\n",
       "      <td>mean</td>\n",
       "      <td>234823.420337</td>\n",
       "      <td>1.576642</td>\n",
       "      <td>30.995721</td>\n",
       "    </tr>\n",
       "    <tr>\n",
       "      <td>std</td>\n",
       "      <td>132748.778598</td>\n",
       "      <td>1.419359</td>\n",
       "      <td>26.397863</td>\n",
       "    </tr>\n",
       "    <tr>\n",
       "      <td>min</td>\n",
       "      <td>42.000000</td>\n",
       "      <td>0.000000</td>\n",
       "      <td>10.000000</td>\n",
       "    </tr>\n",
       "    <tr>\n",
       "      <td>25%</td>\n",
       "      <td>122350.000000</td>\n",
       "      <td>1.000000</td>\n",
       "      <td>14.000000</td>\n",
       "    </tr>\n",
       "    <tr>\n",
       "      <td>50%</td>\n",
       "      <td>236949.000000</td>\n",
       "      <td>1.000000</td>\n",
       "      <td>21.000000</td>\n",
       "    </tr>\n",
       "    <tr>\n",
       "      <td>75%</td>\n",
       "      <td>349695.000000</td>\n",
       "      <td>2.000000</td>\n",
       "      <td>38.000000</td>\n",
       "    </tr>\n",
       "    <tr>\n",
       "      <td>max</td>\n",
       "      <td>466861.000000</td>\n",
       "      <td>9.000000</td>\n",
       "      <td>245.000000</td>\n",
       "    </tr>\n",
       "  </tbody>\n",
       "</table>\n",
       "</div>"
      ],
      "text/plain": [
       "          product_id    N_commons  N_recs_retroc\n",
       "count    3973.000000  3973.000000    3973.000000\n",
       "mean   234823.420337     1.576642      30.995721\n",
       "std    132748.778598     1.419359      26.397863\n",
       "min        42.000000     0.000000      10.000000\n",
       "25%    122350.000000     1.000000      14.000000\n",
       "50%    236949.000000     1.000000      21.000000\n",
       "75%    349695.000000     2.000000      38.000000\n",
       "max    466861.000000     9.000000     245.000000"
      ]
     },
     "execution_count": 720,
     "metadata": {},
     "output_type": "execute_result"
    }
   ],
   "source": [
    "df_recs_all2.describe()"
   ]
  },
  {
   "cell_type": "markdown",
   "metadata": {},
   "source": [
    "### -- W_subcategory = 3.0"
   ]
  },
  {
   "cell_type": "code",
   "execution_count": 380,
   "metadata": {},
   "outputs": [
    {
     "data": {
      "text/plain": [
       "88.50206138341731"
      ]
     },
     "execution_count": 380,
     "metadata": {},
     "output_type": "execute_result"
    }
   ],
   "source": [
    "100*(n2/n1) # window_size = 3 & df_recos_subcategory_3-0.pkl"
   ]
  },
  {
   "cell_type": "code",
   "execution_count": 304,
   "metadata": {},
   "outputs": [
    {
     "data": {
      "text/plain": [
       "87.31103985341274"
      ]
     },
     "execution_count": 304,
     "metadata": {},
     "output_type": "execute_result"
    }
   ],
   "source": [
    "100*(n2/n1) # window_size = 2 & df_recos_subcategory_3-0.pkl"
   ]
  },
  {
   "cell_type": "code",
   "execution_count": 342,
   "metadata": {},
   "outputs": [
    {
     "data": {
      "text/plain": [
       "84.88318827301879"
      ]
     },
     "execution_count": 342,
     "metadata": {},
     "output_type": "execute_result"
    }
   ],
   "source": [
    "100*(n2/n1) # window_size = 1 & df_recos_subcategory_3-0.pkl"
   ]
  },
  {
   "cell_type": "markdown",
   "metadata": {},
   "source": [
    "### -- W_subcategory = 2.5"
   ]
  },
  {
   "cell_type": "code",
   "execution_count": 228,
   "metadata": {},
   "outputs": [
    {
     "data": {
      "text/plain": [
       "87.40265689418231"
      ]
     },
     "execution_count": 228,
     "metadata": {},
     "output_type": "execute_result"
    }
   ],
   "source": [
    "100*(n2/n1) # window_size = 3 & df_recos_subcategory_2-5.pkl"
   ]
  },
  {
   "cell_type": "code",
   "execution_count": 190,
   "metadata": {},
   "outputs": [
    {
     "data": {
      "text/plain": [
       "86.16582684379294"
      ]
     },
     "execution_count": 190,
     "metadata": {},
     "output_type": "execute_result"
    }
   ],
   "source": [
    "100*(n2/n1) # window_size = 2 & df_recos_subcategory_2-5.pkl"
   ]
  },
  {
   "cell_type": "code",
   "execution_count": 152,
   "metadata": {},
   "outputs": [
    {
     "data": {
      "text/plain": [
       "83.82959230416857"
      ]
     },
     "execution_count": 152,
     "metadata": {},
     "output_type": "execute_result"
    }
   ],
   "source": [
    "100*(n2/n1) # window_size = 1 & df_recos_subcategory_2-5.pkl"
   ]
  },
  {
   "cell_type": "markdown",
   "metadata": {},
   "source": [
    "### -- W_subcategory = 2"
   ]
  },
  {
   "cell_type": "code",
   "execution_count": 114,
   "metadata": {},
   "outputs": [
    {
     "data": {
      "text/plain": [
       "87.31103985341274"
      ]
     },
     "execution_count": 114,
     "metadata": {},
     "output_type": "execute_result"
    }
   ],
   "source": [
    "100*(n2/n1) # window_size = 3 & df_recos_subcategory_2-0.pkl"
   ]
  },
  {
   "cell_type": "code",
   "execution_count": 76,
   "metadata": {},
   "outputs": [
    {
     "data": {
      "text/plain": [
       "86.34906092533211"
      ]
     },
     "execution_count": 76,
     "metadata": {},
     "output_type": "execute_result"
    }
   ],
   "source": [
    "100*(n2/n1) # window_size = 2 & df_recos_subcategory_2-0.pkl"
   ]
  },
  {
   "cell_type": "code",
   "execution_count": 38,
   "metadata": {},
   "outputs": [
    {
     "data": {
      "text/plain": [
       "83.737975263399"
      ]
     },
     "execution_count": 38,
     "metadata": {},
     "output_type": "execute_result"
    }
   ],
   "source": [
    "100*(n2/n1) # window_size = 1 & df_recos_subcategory_2-0.pkl"
   ]
  },
  {
   "cell_type": "markdown",
   "metadata": {},
   "source": [
    "### -- W_subcategory = 1-5"
   ]
  },
  {
   "cell_type": "code",
   "execution_count": 456,
   "metadata": {},
   "outputs": [
    {
     "data": {
      "text/plain": [
       "99.49610627576729"
      ]
     },
     "execution_count": 456,
     "metadata": {},
     "output_type": "execute_result"
    }
   ],
   "source": [
    "100*(n2/n1) # window_size = 3 & df_recos_subcategory_1-5.pkl"
   ]
  },
  {
   "cell_type": "code",
   "execution_count": 532,
   "metadata": {},
   "outputs": [
    {
     "data": {
      "text/plain": [
       "99.31287219422813"
      ]
     },
     "execution_count": 532,
     "metadata": {},
     "output_type": "execute_result"
    }
   ],
   "source": [
    "100*(n2/n1) # window_size = 2 & df_recos_subcategory_1-5.pkl"
   ]
  },
  {
   "cell_type": "code",
   "execution_count": 494,
   "metadata": {},
   "outputs": [
    {
     "data": {
      "text/plain": [
       "98.57993586807147"
      ]
     },
     "execution_count": 494,
     "metadata": {},
     "output_type": "execute_result"
    }
   ],
   "source": [
    "100*(n2/n1) # window_size = 1 & df_recos_subcategory_1-5.pkl"
   ]
  },
  {
   "cell_type": "markdown",
   "metadata": {},
   "source": [
    "### -- W_subcategory = 0-5"
   ]
  },
  {
   "cell_type": "code",
   "execution_count": 271,
   "metadata": {},
   "outputs": [
    {
     "data": {
      "text/plain": [
       "85.8909757214842"
      ]
     },
     "execution_count": 271,
     "metadata": {},
     "output_type": "execute_result"
    }
   ],
   "source": [
    "100*(n2/n1) # window_size = 3 & df_recos_subcategory_0-5.pkl"
   ]
  },
  {
   "cell_type": "code",
   "execution_count": 233,
   "metadata": {},
   "outputs": [
    {
     "data": {
      "text/plain": [
       "84.88318827301879"
      ]
     },
     "execution_count": 233,
     "metadata": {},
     "output_type": "execute_result"
    }
   ],
   "source": [
    "100*(n2/n1) # window_size = 2 & df_recos_subcategory_0-5.pkl"
   ]
  },
  {
   "cell_type": "code",
   "execution_count": 570,
   "metadata": {},
   "outputs": [
    {
     "data": {
      "text/plain": [
       "98.57993586807147"
      ]
     },
     "execution_count": 570,
     "metadata": {},
     "output_type": "execute_result"
    }
   ],
   "source": [
    "100*(n2/n1) # window_size = 1 & df_recos_subcategory_0-5.pkl"
   ]
  },
  {
   "cell_type": "markdown",
   "metadata": {},
   "source": [
    "### -- Simple version"
   ]
  },
  {
   "cell_type": "code",
   "execution_count": 157,
   "metadata": {},
   "outputs": [
    {
     "data": {
      "text/plain": [
       "86.4406779661017"
      ]
     },
     "execution_count": 157,
     "metadata": {},
     "output_type": "execute_result"
    }
   ],
   "source": [
    "100*(n2/n1) # window_size = 3 & simple tfidf"
   ]
  },
  {
   "cell_type": "code",
   "execution_count": 119,
   "metadata": {},
   "outputs": [
    {
     "data": {
      "text/plain": [
       "85.43289051763628"
      ]
     },
     "execution_count": 119,
     "metadata": {},
     "output_type": "execute_result"
    }
   ],
   "source": [
    "100*(n2/n1) # window_size = 2 & simple tfidf"
   ]
  },
  {
   "cell_type": "code",
   "execution_count": 39,
   "metadata": {},
   "outputs": [
    {
     "data": {
      "text/plain": [
       "82.91342189647274"
      ]
     },
     "execution_count": 39,
     "metadata": {},
     "output_type": "execute_result"
    }
   ],
   "source": [
    "100*(n2/n1) # window_size = 1 & simple tfidf"
   ]
  },
  {
   "cell_type": "code",
   "execution_count": null,
   "metadata": {},
   "outputs": [],
   "source": []
  },
  {
   "cell_type": "code",
   "execution_count": null,
   "metadata": {},
   "outputs": [],
   "source": []
  }
 ],
 "metadata": {
  "kernelspec": {
   "display_name": "Python 3",
   "language": "python",
   "name": "python3"
  },
  "language_info": {
   "codemirror_mode": {
    "name": "ipython",
    "version": 3
   },
   "file_extension": ".py",
   "mimetype": "text/x-python",
   "name": "python",
   "nbconvert_exporter": "python",
   "pygments_lexer": "ipython3",
   "version": "3.6.3"
  }
 },
 "nbformat": 4,
 "nbformat_minor": 2
}
