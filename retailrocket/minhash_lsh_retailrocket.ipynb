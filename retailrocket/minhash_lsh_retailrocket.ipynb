{
 "cells": [
  {
   "cell_type": "code",
   "execution_count": 1,
   "metadata": {},
   "outputs": [],
   "source": [
    "import pandas as pd\n",
    "\n",
    "from datasketch import WeightedMinHashGenerator\n",
    "from datasketch import MinHashLSHForest"
   ]
  },
  {
   "cell_type": "code",
   "execution_count": 51,
   "metadata": {},
   "outputs": [],
   "source": [
    "#!pip3 install datasketch --user"
   ]
  },
  {
   "cell_type": "code",
   "execution_count": 52,
   "metadata": {},
   "outputs": [],
   "source": [
    "# read the tdiff dataframe\n",
    "df_tfidf = pd.read_pickle('data/final/tfidfs/df_tfidf_category_2-5.pkl')"
   ]
  },
  {
   "cell_type": "code",
   "execution_count": 53,
   "metadata": {},
   "outputs": [],
   "source": [
    "# create an extra column with the minhash id (m1, m2 etc)\n",
    "df_tfidf['Minhash_id'] = df_tfidf['doc_id'].apply(lambda x: 'm'+str(x))"
   ]
  },
  {
   "cell_type": "code",
   "execution_count": 54,
   "metadata": {},
   "outputs": [
    {
     "data": {
      "text/html": [
       "<div>\n",
       "<style scoped>\n",
       "    .dataframe tbody tr th:only-of-type {\n",
       "        vertical-align: middle;\n",
       "    }\n",
       "\n",
       "    .dataframe tbody tr th {\n",
       "        vertical-align: top;\n",
       "    }\n",
       "\n",
       "    .dataframe thead th {\n",
       "        text-align: right;\n",
       "    }\n",
       "</style>\n",
       "<table border=\"1\" class=\"dataframe\">\n",
       "  <thead>\n",
       "    <tr style=\"text-align: right;\">\n",
       "      <th></th>\n",
       "      <th>doc_id</th>\n",
       "      <th>term</th>\n",
       "      <th>term_id</th>\n",
       "      <th>tfidf</th>\n",
       "      <th>product_id</th>\n",
       "      <th>Category2</th>\n",
       "      <th>SubCategory2</th>\n",
       "      <th>Minhash_id</th>\n",
       "    </tr>\n",
       "  </thead>\n",
       "  <tbody>\n",
       "    <tr>\n",
       "      <td>0</td>\n",
       "      <td>0</td>\n",
       "      <td>[942411, 177151, 64816, 133116, 1128577, 22797...</td>\n",
       "      <td>[31663, 10456, 23415, 8984, 3499, 11863, 5346,...</td>\n",
       "      <td>[0.12998190993696945, 0.31411559559438207, 0.3...</td>\n",
       "      <td>291285</td>\n",
       "      <td>1426_cat</td>\n",
       "      <td>1589_subcat</td>\n",
       "      <td>m0</td>\n",
       "    </tr>\n",
       "    <tr>\n",
       "      <td>1</td>\n",
       "      <td>1</td>\n",
       "      <td>[1128577, 1249027, 820477, 72034, 912996, 4046...</td>\n",
       "      <td>[3499, 6766, 28250, 25483, 30830, 16813, 14118...</td>\n",
       "      <td>[0.15023119822454753, 0.13586146435157057, 0.2...</td>\n",
       "      <td>103012</td>\n",
       "      <td>561_cat</td>\n",
       "      <td>1483_subcat</td>\n",
       "      <td>m1</td>\n",
       "    </tr>\n",
       "  </tbody>\n",
       "</table>\n",
       "</div>"
      ],
      "text/plain": [
       "   doc_id                                               term  \\\n",
       "0       0  [942411, 177151, 64816, 133116, 1128577, 22797...   \n",
       "1       1  [1128577, 1249027, 820477, 72034, 912996, 4046...   \n",
       "\n",
       "                                             term_id  \\\n",
       "0  [31663, 10456, 23415, 8984, 3499, 11863, 5346,...   \n",
       "1  [3499, 6766, 28250, 25483, 30830, 16813, 14118...   \n",
       "\n",
       "                                               tfidf  product_id Category2  \\\n",
       "0  [0.12998190993696945, 0.31411559559438207, 0.3...      291285  1426_cat   \n",
       "1  [0.15023119822454753, 0.13586146435157057, 0.2...      103012   561_cat   \n",
       "\n",
       "  SubCategory2 Minhash_id  \n",
       "0  1589_subcat         m0  \n",
       "1  1483_subcat         m1  "
      ]
     },
     "execution_count": 54,
     "metadata": {},
     "output_type": "execute_result"
    }
   ],
   "source": [
    "df_tfidf.head(2)"
   ]
  },
  {
   "cell_type": "code",
   "execution_count": 55,
   "metadata": {},
   "outputs": [
    {
     "data": {
      "text/html": [
       "<div>\n",
       "<style scoped>\n",
       "    .dataframe tbody tr th:only-of-type {\n",
       "        vertical-align: middle;\n",
       "    }\n",
       "\n",
       "    .dataframe tbody tr th {\n",
       "        vertical-align: top;\n",
       "    }\n",
       "\n",
       "    .dataframe thead th {\n",
       "        text-align: right;\n",
       "    }\n",
       "</style>\n",
       "<table border=\"1\" class=\"dataframe\">\n",
       "  <thead>\n",
       "    <tr style=\"text-align: right;\">\n",
       "      <th></th>\n",
       "      <th>doc_id</th>\n",
       "      <th>term</th>\n",
       "      <th>term_id</th>\n",
       "      <th>tfidf</th>\n",
       "      <th>product_id</th>\n",
       "      <th>Category2</th>\n",
       "      <th>SubCategory2</th>\n",
       "      <th>Minhash_id</th>\n",
       "    </tr>\n",
       "  </thead>\n",
       "  <tbody>\n",
       "    <tr>\n",
       "      <td>0</td>\n",
       "      <td>0</td>\n",
       "      <td>[942411, 177151, 64816, 133116, 1128577, 22797...</td>\n",
       "      <td>[31663, 10456, 23415, 8984, 3499, 11863, 5346,...</td>\n",
       "      <td>[0.12998190993696945, 0.31411559559438207, 0.3...</td>\n",
       "      <td>291285</td>\n",
       "      <td>1426_cat</td>\n",
       "      <td>1589_subcat</td>\n",
       "      <td>m0</td>\n",
       "    </tr>\n",
       "    <tr>\n",
       "      <td>1</td>\n",
       "      <td>1</td>\n",
       "      <td>[1128577, 1249027, 820477, 72034, 912996, 4046...</td>\n",
       "      <td>[3499, 6766, 28250, 25483, 30830, 16813, 14118...</td>\n",
       "      <td>[0.15023119822454753, 0.13586146435157057, 0.2...</td>\n",
       "      <td>103012</td>\n",
       "      <td>561_cat</td>\n",
       "      <td>1483_subcat</td>\n",
       "      <td>m1</td>\n",
       "    </tr>\n",
       "  </tbody>\n",
       "</table>\n",
       "</div>"
      ],
      "text/plain": [
       "   doc_id                                               term  \\\n",
       "0       0  [942411, 177151, 64816, 133116, 1128577, 22797...   \n",
       "1       1  [1128577, 1249027, 820477, 72034, 912996, 4046...   \n",
       "\n",
       "                                             term_id  \\\n",
       "0  [31663, 10456, 23415, 8984, 3499, 11863, 5346,...   \n",
       "1  [3499, 6766, 28250, 25483, 30830, 16813, 14118...   \n",
       "\n",
       "                                               tfidf  product_id Category2  \\\n",
       "0  [0.12998190993696945, 0.31411559559438207, 0.3...      291285  1426_cat   \n",
       "1  [0.15023119822454753, 0.13586146435157057, 0.2...      103012   561_cat   \n",
       "\n",
       "  SubCategory2 Minhash_id  \n",
       "0  1589_subcat         m0  \n",
       "1  1483_subcat         m1  "
      ]
     },
     "execution_count": 55,
     "metadata": {},
     "output_type": "execute_result"
    }
   ],
   "source": [
    "df_tfidf.head(2)"
   ]
  },
  {
   "cell_type": "markdown",
   "metadata": {},
   "source": [
    "## - Create the Weighted MinHash for each product"
   ]
  },
  {
   "cell_type": "code",
   "execution_count": 56,
   "metadata": {},
   "outputs": [],
   "source": [
    "mg = WeightedMinHashGenerator(dim=46150, sample_size=128, seed=12)\n",
    "def create_minhash(doc):\n",
    "    term_ids = doc['term_id']\n",
    "    tfidfs = doc['tfidf']\n",
    "    \n",
    "    tfidf_list = [0]*46150\n",
    "    \n",
    "    i = 0\n",
    "    for term_id in term_ids:\n",
    "        try:\n",
    "            tfidf_list[term_id] = tfidfs[i]\n",
    "        except Exception as e:\n",
    "            print('Error 1: ', e)\n",
    "            print('term_id', term_id)\n",
    "\n",
    "        i += 1\n",
    "        \n",
    "    \n",
    "    m1 = mg.minhash(tfidf_list)\n",
    "    #print(tfidf_list)\n",
    "    return m1"
   ]
  },
  {
   "cell_type": "code",
   "execution_count": 57,
   "metadata": {},
   "outputs": [
    {
     "name": "stdout",
     "output_type": "stream",
     "text": [
      "Wall time: 26min 31s\n"
     ]
    }
   ],
   "source": [
    "%%time\n",
    "\n",
    "# create a minhash for each row(product)\n",
    "df_tfidf['Minhash'] = df_tfidf[0:].apply(lambda x: create_minhash(x), axis=1)"
   ]
  },
  {
   "cell_type": "code",
   "execution_count": 58,
   "metadata": {},
   "outputs": [],
   "source": [
    "# create an extra column with the minhash id (m1, m2 etc)\n",
    "df_tfidf['Minhash_id'] = df_tfidf['doc_id'].apply(lambda x: 'm'+str(x))"
   ]
  },
  {
   "cell_type": "code",
   "execution_count": 59,
   "metadata": {},
   "outputs": [
    {
     "data": {
      "text/html": [
       "<div>\n",
       "<style scoped>\n",
       "    .dataframe tbody tr th:only-of-type {\n",
       "        vertical-align: middle;\n",
       "    }\n",
       "\n",
       "    .dataframe tbody tr th {\n",
       "        vertical-align: top;\n",
       "    }\n",
       "\n",
       "    .dataframe thead th {\n",
       "        text-align: right;\n",
       "    }\n",
       "</style>\n",
       "<table border=\"1\" class=\"dataframe\">\n",
       "  <thead>\n",
       "    <tr style=\"text-align: right;\">\n",
       "      <th></th>\n",
       "      <th>doc_id</th>\n",
       "      <th>term</th>\n",
       "      <th>term_id</th>\n",
       "      <th>tfidf</th>\n",
       "      <th>product_id</th>\n",
       "      <th>Category2</th>\n",
       "      <th>SubCategory2</th>\n",
       "      <th>Minhash_id</th>\n",
       "      <th>Minhash</th>\n",
       "    </tr>\n",
       "  </thead>\n",
       "  <tbody>\n",
       "    <tr>\n",
       "      <td>0</td>\n",
       "      <td>0</td>\n",
       "      <td>[942411, 177151, 64816, 133116, 1128577, 22797...</td>\n",
       "      <td>[31663, 10456, 23415, 8984, 3499, 11863, 5346,...</td>\n",
       "      <td>[0.12998190993696945, 0.31411559559438207, 0.3...</td>\n",
       "      <td>291285</td>\n",
       "      <td>1426_cat</td>\n",
       "      <td>1589_subcat</td>\n",
       "      <td>m0</td>\n",
       "      <td>&lt;datasketch.weighted_minhash.WeightedMinHash o...</td>\n",
       "    </tr>\n",
       "    <tr>\n",
       "      <td>1</td>\n",
       "      <td>1</td>\n",
       "      <td>[1128577, 1249027, 820477, 72034, 912996, 4046...</td>\n",
       "      <td>[3499, 6766, 28250, 25483, 30830, 16813, 14118...</td>\n",
       "      <td>[0.15023119822454753, 0.13586146435157057, 0.2...</td>\n",
       "      <td>103012</td>\n",
       "      <td>561_cat</td>\n",
       "      <td>1483_subcat</td>\n",
       "      <td>m1</td>\n",
       "      <td>&lt;datasketch.weighted_minhash.WeightedMinHash o...</td>\n",
       "    </tr>\n",
       "  </tbody>\n",
       "</table>\n",
       "</div>"
      ],
      "text/plain": [
       "   doc_id                                               term  \\\n",
       "0       0  [942411, 177151, 64816, 133116, 1128577, 22797...   \n",
       "1       1  [1128577, 1249027, 820477, 72034, 912996, 4046...   \n",
       "\n",
       "                                             term_id  \\\n",
       "0  [31663, 10456, 23415, 8984, 3499, 11863, 5346,...   \n",
       "1  [3499, 6766, 28250, 25483, 30830, 16813, 14118...   \n",
       "\n",
       "                                               tfidf  product_id Category2  \\\n",
       "0  [0.12998190993696945, 0.31411559559438207, 0.3...      291285  1426_cat   \n",
       "1  [0.15023119822454753, 0.13586146435157057, 0.2...      103012   561_cat   \n",
       "\n",
       "  SubCategory2 Minhash_id                                            Minhash  \n",
       "0  1589_subcat         m0  <datasketch.weighted_minhash.WeightedMinHash o...  \n",
       "1  1483_subcat         m1  <datasketch.weighted_minhash.WeightedMinHash o...  "
      ]
     },
     "execution_count": 59,
     "metadata": {},
     "output_type": "execute_result"
    }
   ],
   "source": [
    "df_tfidf.head(2)"
   ]
  },
  {
   "cell_type": "code",
   "execution_count": 60,
   "metadata": {},
   "outputs": [],
   "source": [
    "minhash_list = df_tfidf['Minhash']"
   ]
  },
  {
   "cell_type": "code",
   "execution_count": 61,
   "metadata": {},
   "outputs": [
    {
     "data": {
      "text/plain": [
       "28241"
      ]
     },
     "execution_count": 61,
     "metadata": {},
     "output_type": "execute_result"
    }
   ],
   "source": [
    "len(minhash_list)"
   ]
  },
  {
   "cell_type": "code",
   "execution_count": 62,
   "metadata": {},
   "outputs": [],
   "source": [
    "df_tfidf.to_pickle('data/final/minhashes/df_minhash_category_1-5.pkl')"
   ]
  },
  {
   "cell_type": "markdown",
   "metadata": {},
   "source": [
    "## - Create the MinhashLSH forest"
   ]
  },
  {
   "cell_type": "code",
   "execution_count": 2,
   "metadata": {},
   "outputs": [],
   "source": [
    "df_tfidf = pd.read_pickle('data/final/minhashes/df_minhash_category_1-5.pkl')\n",
    "minhash_list = df_tfidf['Minhash']"
   ]
  },
  {
   "cell_type": "code",
   "execution_count": 3,
   "metadata": {},
   "outputs": [],
   "source": [
    "# Create a MinHash LSH Forest with the same num_perm parameter\n",
    "forest = MinHashLSHForest(num_perm=128)"
   ]
  },
  {
   "cell_type": "code",
   "execution_count": 4,
   "metadata": {},
   "outputs": [],
   "source": [
    "i = 0\n",
    "for minhash in minhash_list:\n",
    "    # Add minhash into the index\n",
    "    forest.add(\"m\"+str(i), minhash)\n",
    "    i += 1"
   ]
  },
  {
   "cell_type": "code",
   "execution_count": 5,
   "metadata": {},
   "outputs": [],
   "source": [
    "# IMPORTANT: must call index() otherwise the keys won't be searchable\n",
    "forest.index()"
   ]
  },
  {
   "cell_type": "code",
   "execution_count": 6,
   "metadata": {},
   "outputs": [
    {
     "name": "stdout",
     "output_type": "stream",
     "text": [
      "True\n",
      "True\n"
     ]
    }
   ],
   "source": [
    "# Check for membership using the key\n",
    "print(\"m2\" in forest)\n",
    "print(\"m3\" in forest)"
   ]
  },
  {
   "cell_type": "markdown",
   "metadata": {},
   "source": [
    "## - Make recommendations"
   ]
  },
  {
   "cell_type": "code",
   "execution_count": 7,
   "metadata": {},
   "outputs": [],
   "source": [
    "def make_recs(doc_id):\n",
    "    query = minhash_list[doc_id]\n",
    "    \n",
    "    # Using m1 as the query, retrieve top 2 keys that have the higest Jaccard\n",
    "    results = forest.query(query, 10)\n",
    "    \n",
    "    return results"
   ]
  },
  {
   "cell_type": "code",
   "execution_count": 8,
   "metadata": {},
   "outputs": [
    {
     "name": "stdout",
     "output_type": "stream",
     "text": [
      "Wall time: 1min 24s\n"
     ]
    }
   ],
   "source": [
    "%%time\n",
    "\n",
    "df_tfidf['recs'] = df_tfidf['doc_id'].apply(lambda x: make_recs(x))"
   ]
  },
  {
   "cell_type": "code",
   "execution_count": 9,
   "metadata": {},
   "outputs": [
    {
     "data": {
      "text/html": [
       "<div>\n",
       "<style scoped>\n",
       "    .dataframe tbody tr th:only-of-type {\n",
       "        vertical-align: middle;\n",
       "    }\n",
       "\n",
       "    .dataframe tbody tr th {\n",
       "        vertical-align: top;\n",
       "    }\n",
       "\n",
       "    .dataframe thead th {\n",
       "        text-align: right;\n",
       "    }\n",
       "</style>\n",
       "<table border=\"1\" class=\"dataframe\">\n",
       "  <thead>\n",
       "    <tr style=\"text-align: right;\">\n",
       "      <th></th>\n",
       "      <th>doc_id</th>\n",
       "      <th>term</th>\n",
       "      <th>term_id</th>\n",
       "      <th>tfidf</th>\n",
       "      <th>product_id</th>\n",
       "      <th>Category2</th>\n",
       "      <th>SubCategory2</th>\n",
       "      <th>Minhash_id</th>\n",
       "      <th>Minhash</th>\n",
       "      <th>recs</th>\n",
       "    </tr>\n",
       "  </thead>\n",
       "  <tbody>\n",
       "    <tr>\n",
       "      <td>0</td>\n",
       "      <td>0</td>\n",
       "      <td>[942411, 177151, 64816, 133116, 1128577, 22797...</td>\n",
       "      <td>[31663, 10456, 23415, 8984, 3499, 11863, 5346,...</td>\n",
       "      <td>[0.12998190993696945, 0.31411559559438207, 0.3...</td>\n",
       "      <td>291285</td>\n",
       "      <td>1426_cat</td>\n",
       "      <td>1589_subcat</td>\n",
       "      <td>m0</td>\n",
       "      <td>&lt;datasketch.weighted_minhash.WeightedMinHash o...</td>\n",
       "      <td>[m1410, m15433, m15949, m5758, m11035, m9664, ...</td>\n",
       "    </tr>\n",
       "    <tr>\n",
       "      <td>1</td>\n",
       "      <td>1</td>\n",
       "      <td>[1128577, 1249027, 820477, 72034, 912996, 4046...</td>\n",
       "      <td>[3499, 6766, 28250, 25483, 30830, 16813, 14118...</td>\n",
       "      <td>[0.15023119822454753, 0.13586146435157057, 0.2...</td>\n",
       "      <td>103012</td>\n",
       "      <td>561_cat</td>\n",
       "      <td>1483_subcat</td>\n",
       "      <td>m1</td>\n",
       "      <td>&lt;datasketch.weighted_minhash.WeightedMinHash o...</td>\n",
       "      <td>[m11393, m3882, m12858, m8269, m18731, m12519,...</td>\n",
       "    </tr>\n",
       "  </tbody>\n",
       "</table>\n",
       "</div>"
      ],
      "text/plain": [
       "   doc_id                                               term  \\\n",
       "0       0  [942411, 177151, 64816, 133116, 1128577, 22797...   \n",
       "1       1  [1128577, 1249027, 820477, 72034, 912996, 4046...   \n",
       "\n",
       "                                             term_id  \\\n",
       "0  [31663, 10456, 23415, 8984, 3499, 11863, 5346,...   \n",
       "1  [3499, 6766, 28250, 25483, 30830, 16813, 14118...   \n",
       "\n",
       "                                               tfidf  product_id Category2  \\\n",
       "0  [0.12998190993696945, 0.31411559559438207, 0.3...      291285  1426_cat   \n",
       "1  [0.15023119822454753, 0.13586146435157057, 0.2...      103012   561_cat   \n",
       "\n",
       "  SubCategory2 Minhash_id                                            Minhash  \\\n",
       "0  1589_subcat         m0  <datasketch.weighted_minhash.WeightedMinHash o...   \n",
       "1  1483_subcat         m1  <datasketch.weighted_minhash.WeightedMinHash o...   \n",
       "\n",
       "                                                recs  \n",
       "0  [m1410, m15433, m15949, m5758, m11035, m9664, ...  \n",
       "1  [m11393, m3882, m12858, m8269, m18731, m12519,...  "
      ]
     },
     "execution_count": 9,
     "metadata": {},
     "output_type": "execute_result"
    }
   ],
   "source": [
    "df_tfidf.head(2)"
   ]
  },
  {
   "cell_type": "code",
   "execution_count": 10,
   "metadata": {},
   "outputs": [
    {
     "data": {
      "text/plain": [
       "(28241, 10)"
      ]
     },
     "execution_count": 10,
     "metadata": {},
     "output_type": "execute_result"
    }
   ],
   "source": [
    "df_tfidf.shape"
   ]
  },
  {
   "cell_type": "code",
   "execution_count": 11,
   "metadata": {},
   "outputs": [],
   "source": [
    "df_tfidf.to_pickle('data/final/recommendations/df_recos_category_1-5_new.pkl')"
   ]
  },
  {
   "cell_type": "code",
   "execution_count": null,
   "metadata": {},
   "outputs": [],
   "source": []
  }
 ],
 "metadata": {
  "kernelspec": {
   "display_name": "Python 3",
   "language": "python",
   "name": "python3"
  },
  "language_info": {
   "codemirror_mode": {
    "name": "ipython",
    "version": 3
   },
   "file_extension": ".py",
   "mimetype": "text/x-python",
   "name": "python",
   "nbconvert_exporter": "python",
   "pygments_lexer": "ipython3",
   "version": "3.6.3"
  }
 },
 "nbformat": 4,
 "nbformat_minor": 2
}
