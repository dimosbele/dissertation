{
 "cells": [
  {
   "cell_type": "code",
   "execution_count": 1,
   "metadata": {},
   "outputs": [],
   "source": [
    "import pandas as pd\n",
    "#!pip3 install --upgrade pandas\n",
    "import datetime\n",
    "\n",
    "# print non truncated column info in pandas dataframe\n",
    "pd.set_option('display.max_colwidth', -1)\n",
    "pd.set_option('display.max_columns', 500)"
   ]
  },
  {
   "cell_type": "markdown",
   "metadata": {},
   "source": [
    "## -- Categories"
   ]
  },
  {
   "cell_type": "code",
   "execution_count": 2,
   "metadata": {},
   "outputs": [],
   "source": [
    "# read the categories tree\n",
    "df_cat_tree = pd.read_csv('data/category_tree.csv')"
   ]
  },
  {
   "cell_type": "code",
   "execution_count": 3,
   "metadata": {},
   "outputs": [
    {
     "data": {
      "text/html": [
       "<div>\n",
       "<style scoped>\n",
       "    .dataframe tbody tr th:only-of-type {\n",
       "        vertical-align: middle;\n",
       "    }\n",
       "\n",
       "    .dataframe tbody tr th {\n",
       "        vertical-align: top;\n",
       "    }\n",
       "\n",
       "    .dataframe thead th {\n",
       "        text-align: right;\n",
       "    }\n",
       "</style>\n",
       "<table border=\"1\" class=\"dataframe\">\n",
       "  <thead>\n",
       "    <tr style=\"text-align: right;\">\n",
       "      <th></th>\n",
       "      <th>categoryid</th>\n",
       "      <th>parentid</th>\n",
       "    </tr>\n",
       "  </thead>\n",
       "  <tbody>\n",
       "    <tr>\n",
       "      <td>0</td>\n",
       "      <td>1016</td>\n",
       "      <td>213.0</td>\n",
       "    </tr>\n",
       "    <tr>\n",
       "      <td>1</td>\n",
       "      <td>809</td>\n",
       "      <td>169.0</td>\n",
       "    </tr>\n",
       "    <tr>\n",
       "      <td>2</td>\n",
       "      <td>570</td>\n",
       "      <td>9.0</td>\n",
       "    </tr>\n",
       "  </tbody>\n",
       "</table>\n",
       "</div>"
      ],
      "text/plain": [
       "   categoryid  parentid\n",
       "0  1016        213.0   \n",
       "1  809         169.0   \n",
       "2  570         9.0     "
      ]
     },
     "execution_count": 3,
     "metadata": {},
     "output_type": "execute_result"
    }
   ],
   "source": [
    "df_cat_tree.head(3)"
   ]
  },
  {
   "cell_type": "code",
   "execution_count": 4,
   "metadata": {},
   "outputs": [
    {
     "data": {
      "text/plain": [
       "(1669, 2)"
      ]
     },
     "execution_count": 4,
     "metadata": {},
     "output_type": "execute_result"
    }
   ],
   "source": [
    "df_cat_tree.shape"
   ]
  },
  {
   "cell_type": "code",
   "execution_count": 5,
   "metadata": {},
   "outputs": [],
   "source": [
    "#df_cat_tree = df_cat_tree.drop_duplicates(subset='categoryid', keep='first')"
   ]
  },
  {
   "cell_type": "code",
   "execution_count": 6,
   "metadata": {},
   "outputs": [
    {
     "data": {
      "text/plain": [
       "1669"
      ]
     },
     "execution_count": 6,
     "metadata": {},
     "output_type": "execute_result"
    }
   ],
   "source": [
    "df_cat_tree.categoryid.nunique()"
   ]
  },
  {
   "cell_type": "code",
   "execution_count": 7,
   "metadata": {},
   "outputs": [
    {
     "data": {
      "text/plain": [
       "362"
      ]
     },
     "execution_count": 7,
     "metadata": {},
     "output_type": "execute_result"
    }
   ],
   "source": [
    "df_cat_tree.parentid.nunique()"
   ]
  },
  {
   "cell_type": "code",
   "execution_count": 8,
   "metadata": {},
   "outputs": [],
   "source": [
    "df_cat_tree['categoryid'] = df_cat_tree['categoryid'].astype('int')"
   ]
  },
  {
   "cell_type": "markdown",
   "metadata": {},
   "source": [
    "## -- Events"
   ]
  },
  {
   "cell_type": "code",
   "execution_count": 9,
   "metadata": {},
   "outputs": [],
   "source": [
    "# read the events (views, addtocart & buy)\n",
    "df_events = pd.read_csv('data/events.csv')"
   ]
  },
  {
   "cell_type": "markdown",
   "metadata": {},
   "source": [
    "### --- Create the sessions"
   ]
  },
  {
   "cell_type": "code",
   "execution_count": 10,
   "metadata": {},
   "outputs": [],
   "source": [
    "# keep only view events\n",
    "df_view = df_events[df_events.event=='view']"
   ]
  },
  {
   "cell_type": "code",
   "execution_count": 11,
   "metadata": {},
   "outputs": [
    {
     "name": "stderr",
     "output_type": "stream",
     "text": [
      "C:\\Users\\Dimos\\Anaconda3\\lib\\site-packages\\ipykernel_launcher.py:2: SettingWithCopyWarning: \n",
      "A value is trying to be set on a copy of a slice from a DataFrame.\n",
      "Try using .loc[row_indexer,col_indexer] = value instead\n",
      "\n",
      "See the caveats in the documentation: http://pandas.pydata.org/pandas-docs/stable/user_guide/indexing.html#returning-a-view-versus-a-copy\n",
      "  \n"
     ]
    }
   ],
   "source": [
    "# create a column with the real timestamp\n",
    "df_view['timestamp_real'] = df_view['timestamp'].apply(lambda x: datetime.datetime.fromtimestamp(x//1000.0))"
   ]
  },
  {
   "cell_type": "code",
   "execution_count": 12,
   "metadata": {},
   "outputs": [
    {
     "name": "stderr",
     "output_type": "stream",
     "text": [
      "C:\\Users\\Dimos\\Anaconda3\\lib\\site-packages\\ipykernel_launcher.py:2: SettingWithCopyWarning: \n",
      "A value is trying to be set on a copy of a slice from a DataFrame.\n",
      "Try using .loc[row_indexer,col_indexer] = value instead\n",
      "\n",
      "See the caveats in the documentation: http://pandas.pydata.org/pandas-docs/stable/user_guide/indexing.html#returning-a-view-versus-a-copy\n",
      "  \n"
     ]
    }
   ],
   "source": [
    "# create a column with the yearly number of the day\n",
    "df_view['day_yearly'] = df_view['timestamp_real'].apply(lambda x: x.isocalendar()[1]*x.isocalendar()[2])"
   ]
  },
  {
   "cell_type": "code",
   "execution_count": 13,
   "metadata": {},
   "outputs": [],
   "source": [
    "# sort by date\n",
    "df_view = df_view.sort_values(by=['day_yearly', 'timestamp_real'],ascending=True)"
   ]
  },
  {
   "cell_type": "code",
   "execution_count": 14,
   "metadata": {},
   "outputs": [
    {
     "data": {
      "text/html": [
       "<div>\n",
       "<style scoped>\n",
       "    .dataframe tbody tr th:only-of-type {\n",
       "        vertical-align: middle;\n",
       "    }\n",
       "\n",
       "    .dataframe tbody tr th {\n",
       "        vertical-align: top;\n",
       "    }\n",
       "\n",
       "    .dataframe thead th {\n",
       "        text-align: right;\n",
       "    }\n",
       "</style>\n",
       "<table border=\"1\" class=\"dataframe\">\n",
       "  <thead>\n",
       "    <tr style=\"text-align: right;\">\n",
       "      <th></th>\n",
       "      <th>timestamp</th>\n",
       "      <th>visitorid</th>\n",
       "      <th>event</th>\n",
       "      <th>itemid</th>\n",
       "      <th>transactionid</th>\n",
       "      <th>timestamp_real</th>\n",
       "      <th>day_yearly</th>\n",
       "    </tr>\n",
       "  </thead>\n",
       "  <tbody>\n",
       "    <tr>\n",
       "      <td>1476946</td>\n",
       "      <td>1430686807392</td>\n",
       "      <td>167772</td>\n",
       "      <td>view</td>\n",
       "      <td>215503</td>\n",
       "      <td>NaN</td>\n",
       "      <td>2015-05-04 00:00:07</td>\n",
       "      <td>19</td>\n",
       "    </tr>\n",
       "    <tr>\n",
       "      <td>1472454</td>\n",
       "      <td>1430686822425</td>\n",
       "      <td>648236</td>\n",
       "      <td>view</td>\n",
       "      <td>239419</td>\n",
       "      <td>NaN</td>\n",
       "      <td>2015-05-04 00:00:22</td>\n",
       "      <td>19</td>\n",
       "    </tr>\n",
       "  </tbody>\n",
       "</table>\n",
       "</div>"
      ],
      "text/plain": [
       "             timestamp  visitorid event  itemid  transactionid  \\\n",
       "1476946  1430686807392  167772     view  215503 NaN              \n",
       "1472454  1430686822425  648236     view  239419 NaN              \n",
       "\n",
       "             timestamp_real  day_yearly  \n",
       "1476946 2015-05-04 00:00:07  19          \n",
       "1472454 2015-05-04 00:00:22  19          "
      ]
     },
     "execution_count": 14,
     "metadata": {},
     "output_type": "execute_result"
    }
   ],
   "source": [
    "df_view.head(2)"
   ]
  },
  {
   "cell_type": "code",
   "execution_count": 23,
   "metadata": {},
   "outputs": [
    {
     "data": {
      "text/plain": [
       "(2664312, 7)"
      ]
     },
     "execution_count": 23,
     "metadata": {},
     "output_type": "execute_result"
    }
   ],
   "source": [
    "df_view.shape"
   ]
  },
  {
   "cell_type": "code",
   "execution_count": 24,
   "metadata": {},
   "outputs": [],
   "source": [
    "# group all products that each visitor viewed per day\n",
    "df_sessions = df_view.groupby(['visitorid', 'day_yearly'],as_index=False)['itemid','timestamp_real'].agg(lambda x: list(x))"
   ]
  },
  {
   "cell_type": "code",
   "execution_count": 25,
   "metadata": {},
   "outputs": [],
   "source": [
    "# create a column with the number of views for each visitor id per day\n",
    "df_sessions['N_views'] = df_sessions['itemid'].apply(lambda x: len(x))"
   ]
  },
  {
   "cell_type": "code",
   "execution_count": 26,
   "metadata": {},
   "outputs": [
    {
     "data": {
      "text/html": [
       "<div>\n",
       "<style scoped>\n",
       "    .dataframe tbody tr th:only-of-type {\n",
       "        vertical-align: middle;\n",
       "    }\n",
       "\n",
       "    .dataframe tbody tr th {\n",
       "        vertical-align: top;\n",
       "    }\n",
       "\n",
       "    .dataframe thead th {\n",
       "        text-align: right;\n",
       "    }\n",
       "</style>\n",
       "<table border=\"1\" class=\"dataframe\">\n",
       "  <thead>\n",
       "    <tr style=\"text-align: right;\">\n",
       "      <th></th>\n",
       "      <th>visitorid</th>\n",
       "      <th>day_yearly</th>\n",
       "      <th>N_views</th>\n",
       "    </tr>\n",
       "  </thead>\n",
       "  <tbody>\n",
       "    <tr>\n",
       "      <td>count</td>\n",
       "      <td>1.646142e+06</td>\n",
       "      <td>1.646142e+06</td>\n",
       "      <td>1.646142e+06</td>\n",
       "    </tr>\n",
       "    <tr>\n",
       "      <td>mean</td>\n",
       "      <td>7.041208e+05</td>\n",
       "      <td>1.068037e+02</td>\n",
       "      <td>1.618519e+00</td>\n",
       "    </tr>\n",
       "    <tr>\n",
       "      <td>std</td>\n",
       "      <td>4.064136e+05</td>\n",
       "      <td>5.914570e+01</td>\n",
       "      <td>2.927082e+00</td>\n",
       "    </tr>\n",
       "    <tr>\n",
       "      <td>min</td>\n",
       "      <td>0.000000e+00</td>\n",
       "      <td>1.900000e+01</td>\n",
       "      <td>1.000000e+00</td>\n",
       "    </tr>\n",
       "    <tr>\n",
       "      <td>25%</td>\n",
       "      <td>3.521992e+05</td>\n",
       "      <td>5.800000e+01</td>\n",
       "      <td>1.000000e+00</td>\n",
       "    </tr>\n",
       "    <tr>\n",
       "      <td>50%</td>\n",
       "      <td>7.044630e+05</td>\n",
       "      <td>1.000000e+02</td>\n",
       "      <td>1.000000e+00</td>\n",
       "    </tr>\n",
       "    <tr>\n",
       "      <td>75%</td>\n",
       "      <td>1.056116e+06</td>\n",
       "      <td>1.480000e+02</td>\n",
       "      <td>1.000000e+00</td>\n",
       "    </tr>\n",
       "    <tr>\n",
       "      <td>max</td>\n",
       "      <td>1.407579e+06</td>\n",
       "      <td>2.590000e+02</td>\n",
       "      <td>3.510000e+02</td>\n",
       "    </tr>\n",
       "  </tbody>\n",
       "</table>\n",
       "</div>"
      ],
      "text/plain": [
       "          visitorid    day_yearly       N_views\n",
       "count  1.646142e+06  1.646142e+06  1.646142e+06\n",
       "mean   7.041208e+05  1.068037e+02  1.618519e+00\n",
       "std    4.064136e+05  5.914570e+01  2.927082e+00\n",
       "min    0.000000e+00  1.900000e+01  1.000000e+00\n",
       "25%    3.521992e+05  5.800000e+01  1.000000e+00\n",
       "50%    7.044630e+05  1.000000e+02  1.000000e+00\n",
       "75%    1.056116e+06  1.480000e+02  1.000000e+00\n",
       "max    1.407579e+06  2.590000e+02  3.510000e+02"
      ]
     },
     "execution_count": 26,
     "metadata": {},
     "output_type": "execute_result"
    }
   ],
   "source": [
    "df_sessions.describe()"
   ]
  },
  {
   "cell_type": "code",
   "execution_count": 27,
   "metadata": {},
   "outputs": [
    {
     "name": "stdout",
     "output_type": "stream",
     "text": [
      "The 76.54 % of the users viewed only 1 product and then left the site.\n"
     ]
    }
   ],
   "source": [
    "x0 = len(df_sessions[df_sessions.N_views==1])\n",
    "x_all = len(df_sessions)\n",
    "\n",
    "print('The', round(100*(x0/x_all),2), '% of the users viewed only 1 product and then left the site.')"
   ]
  },
  {
   "cell_type": "code",
   "execution_count": 28,
   "metadata": {},
   "outputs": [
    {
     "name": "stdout",
     "output_type": "stream",
     "text": [
      "The 13.02 % of the users viewed only 2 products and then left the site.\n"
     ]
    }
   ],
   "source": [
    "x1 = len(df_sessions[df_sessions.N_views==2])\n",
    "x_all = len(df_sessions)\n",
    "\n",
    "print('The', round(100*(x1/x_all),2), '% of the users viewed only 2 products and then left the site.')"
   ]
  },
  {
   "cell_type": "code",
   "execution_count": 29,
   "metadata": {},
   "outputs": [
    {
     "name": "stdout",
     "output_type": "stream",
     "text": [
      "The 4.53 % of the users viewed only 3 products and then left the site.\n"
     ]
    }
   ],
   "source": [
    "x2 = len(df_sessions[df_sessions.N_views==3])\n",
    "x_all = len(df_sessions)\n",
    "\n",
    "print('The', round(100*(x2/x_all),2), '% of the users viewed only 3 products and then left the site.')"
   ]
  },
  {
   "cell_type": "code",
   "execution_count": 30,
   "metadata": {},
   "outputs": [
    {
     "name": "stdout",
     "output_type": "stream",
     "text": [
      "The 5.91 % of the users viewed more than 3 products before leaving the site.\n"
     ]
    }
   ],
   "source": [
    "x3 = len(df_sessions[df_sessions.N_views>3])\n",
    "x_all = len(df_sessions)\n",
    "\n",
    "print('The', round(100*(x3/x_all),2), '% of the users viewed more than 3 products before leaving the site.')"
   ]
  },
  {
   "cell_type": "code",
   "execution_count": 31,
   "metadata": {},
   "outputs": [
    {
     "data": {
      "text/html": [
       "<div>\n",
       "<style scoped>\n",
       "    .dataframe tbody tr th:only-of-type {\n",
       "        vertical-align: middle;\n",
       "    }\n",
       "\n",
       "    .dataframe tbody tr th {\n",
       "        vertical-align: top;\n",
       "    }\n",
       "\n",
       "    .dataframe thead th {\n",
       "        text-align: right;\n",
       "    }\n",
       "</style>\n",
       "<table border=\"1\" class=\"dataframe\">\n",
       "  <thead>\n",
       "    <tr style=\"text-align: right;\">\n",
       "      <th></th>\n",
       "      <th>visitorid</th>\n",
       "      <th>day_yearly</th>\n",
       "      <th>itemid</th>\n",
       "      <th>timestamp_real</th>\n",
       "      <th>N_views</th>\n",
       "    </tr>\n",
       "  </thead>\n",
       "  <tbody>\n",
       "    <tr>\n",
       "      <td>0</td>\n",
       "      <td>0</td>\n",
       "      <td>185</td>\n",
       "      <td>[285930, 357564, 67045]</td>\n",
       "      <td>[2015-09-11 23:49:49, 2015-09-11 23:52:39, 2015-09-11 23:55:17]</td>\n",
       "      <td>3</td>\n",
       "    </tr>\n",
       "    <tr>\n",
       "      <td>1</td>\n",
       "      <td>1</td>\n",
       "      <td>132</td>\n",
       "      <td>[72028]</td>\n",
       "      <td>[2015-08-13 20:46:06]</td>\n",
       "      <td>1</td>\n",
       "    </tr>\n",
       "  </tbody>\n",
       "</table>\n",
       "</div>"
      ],
      "text/plain": [
       "   visitorid  day_yearly                   itemid  \\\n",
       "0  0          185         [285930, 357564, 67045]   \n",
       "1  1          132         [72028]                   \n",
       "\n",
       "                                                    timestamp_real  N_views  \n",
       "0  [2015-09-11 23:49:49, 2015-09-11 23:52:39, 2015-09-11 23:55:17]  3        \n",
       "1  [2015-08-13 20:46:06]                                            1        "
      ]
     },
     "execution_count": 31,
     "metadata": {},
     "output_type": "execute_result"
    }
   ],
   "source": [
    "df_sessions.head(2)"
   ]
  },
  {
   "cell_type": "code",
   "execution_count": 32,
   "metadata": {},
   "outputs": [],
   "source": [
    "df_sessions.to_pickle('data/final/df_sessions_new.pkl')"
   ]
  },
  {
   "cell_type": "markdown",
   "metadata": {},
   "source": [
    "### --- Create the links"
   ]
  },
  {
   "cell_type": "code",
   "execution_count": 33,
   "metadata": {},
   "outputs": [],
   "source": [
    "df_sessions = pd.read_pickle('data/final/df_sessions_new.pkl')"
   ]
  },
  {
   "cell_type": "code",
   "execution_count": 34,
   "metadata": {},
   "outputs": [],
   "source": [
    "# drop visitors with only 1 view\n",
    "df_sessions = df_sessions[df_sessions.N_views>1]"
   ]
  },
  {
   "cell_type": "code",
   "execution_count": 35,
   "metadata": {},
   "outputs": [
    {
     "data": {
      "text/plain": [
       "386240"
      ]
     },
     "execution_count": 35,
     "metadata": {},
     "output_type": "execute_result"
    }
   ],
   "source": [
    "sessions = df_sessions.itemid.to_list()\n",
    "len(sessions)"
   ]
  },
  {
   "cell_type": "code",
   "execution_count": 36,
   "metadata": {},
   "outputs": [],
   "source": [
    "# set the window size \n",
    "# e.g. window_size=1 means that only the next product is linked with the 'current' product\n",
    "# e.g. window_size=2 means that the next 2 products are linked with the 'current' product\n",
    "window_size = 1"
   ]
  },
  {
   "cell_type": "code",
   "execution_count": 37,
   "metadata": {},
   "outputs": [
    {
     "data": {
      "text/html": [
       "<div>\n",
       "<style scoped>\n",
       "    .dataframe tbody tr th:only-of-type {\n",
       "        vertical-align: middle;\n",
       "    }\n",
       "\n",
       "    .dataframe tbody tr th {\n",
       "        vertical-align: top;\n",
       "    }\n",
       "\n",
       "    .dataframe thead th {\n",
       "        text-align: right;\n",
       "    }\n",
       "</style>\n",
       "<table border=\"1\" class=\"dataframe\">\n",
       "  <thead>\n",
       "    <tr style=\"text-align: right;\">\n",
       "      <th></th>\n",
       "      <th>visitorid</th>\n",
       "      <th>day_yearly</th>\n",
       "      <th>itemid</th>\n",
       "      <th>timestamp_real</th>\n",
       "      <th>N_views</th>\n",
       "    </tr>\n",
       "  </thead>\n",
       "  <tbody>\n",
       "    <tr>\n",
       "      <td>0</td>\n",
       "      <td>0</td>\n",
       "      <td>185</td>\n",
       "      <td>[285930, 357564, 67045]</td>\n",
       "      <td>[2015-09-11 23:49:49, 2015-09-11 23:52:39, 2015-09-11 23:55:17]</td>\n",
       "      <td>3</td>\n",
       "    </tr>\n",
       "    <tr>\n",
       "      <td>2</td>\n",
       "      <td>2</td>\n",
       "      <td>160</td>\n",
       "      <td>[325215, 325215, 259884, 216305, 342816, 342816, 216305, 325215]</td>\n",
       "      <td>[2015-08-07 20:51:44, 2015-08-07 20:53:33, 2015-08-07 20:56:52, 2015-08-07 21:01:08, 2015-08-07 21:08:25, 2015-08-07 21:17:24, 2015-08-07 21:17:43, 2015-08-07 21:20:57]</td>\n",
       "      <td>8</td>\n",
       "    </tr>\n",
       "    <tr>\n",
       "      <td>7</td>\n",
       "      <td>6</td>\n",
       "      <td>245</td>\n",
       "      <td>[253615, 344723, 344723, 344723]</td>\n",
       "      <td>[2015-08-30 09:39:38, 2015-08-30 09:40:23, 2015-08-30 09:54:09, 2015-08-30 09:56:33]</td>\n",
       "      <td>4</td>\n",
       "    </tr>\n",
       "    <tr>\n",
       "      <td>8</td>\n",
       "      <td>7</td>\n",
       "      <td>80</td>\n",
       "      <td>[139394, 164941]</td>\n",
       "      <td>[2015-05-14 08:39:36, 2015-05-14 08:42:42]</td>\n",
       "      <td>2</td>\n",
       "    </tr>\n",
       "    <tr>\n",
       "      <td>15</td>\n",
       "      <td>13</td>\n",
       "      <td>100</td>\n",
       "      <td>[320589, 278689]</td>\n",
       "      <td>[2015-06-18 07:42:22, 2015-06-18 07:43:15]</td>\n",
       "      <td>2</td>\n",
       "    </tr>\n",
       "  </tbody>\n",
       "</table>\n",
       "</div>"
      ],
      "text/plain": [
       "    visitorid  day_yearly  \\\n",
       "0   0          185          \n",
       "2   2          160          \n",
       "7   6          245          \n",
       "8   7          80           \n",
       "15  13         100          \n",
       "\n",
       "                                                              itemid  \\\n",
       "0   [285930, 357564, 67045]                                            \n",
       "2   [325215, 325215, 259884, 216305, 342816, 342816, 216305, 325215]   \n",
       "7   [253615, 344723, 344723, 344723]                                   \n",
       "8   [139394, 164941]                                                   \n",
       "15  [320589, 278689]                                                   \n",
       "\n",
       "                                                                                                                                                              timestamp_real  \\\n",
       "0   [2015-09-11 23:49:49, 2015-09-11 23:52:39, 2015-09-11 23:55:17]                                                                                                            \n",
       "2   [2015-08-07 20:51:44, 2015-08-07 20:53:33, 2015-08-07 20:56:52, 2015-08-07 21:01:08, 2015-08-07 21:08:25, 2015-08-07 21:17:24, 2015-08-07 21:17:43, 2015-08-07 21:20:57]   \n",
       "7   [2015-08-30 09:39:38, 2015-08-30 09:40:23, 2015-08-30 09:54:09, 2015-08-30 09:56:33]                                                                                       \n",
       "8   [2015-05-14 08:39:36, 2015-05-14 08:42:42]                                                                                                                                 \n",
       "15  [2015-06-18 07:42:22, 2015-06-18 07:43:15]                                                                                                                                 \n",
       "\n",
       "    N_views  \n",
       "0   3        \n",
       "2   8        \n",
       "7   4        \n",
       "8   2        \n",
       "15  2        "
      ]
     },
     "execution_count": 37,
     "metadata": {},
     "output_type": "execute_result"
    }
   ],
   "source": [
    "df_sessions.head()"
   ]
  },
  {
   "cell_type": "code",
   "execution_count": 38,
   "metadata": {},
   "outputs": [],
   "source": [
    "links = []\n",
    "for session in sessions:\n",
    "    for i in range(len(session)-1):\n",
    "        for j in range(window_size):\n",
    "            try:\n",
    "                link = [session[i],session[i+1+j]]\n",
    "                links.append(link)\n",
    "            except:\n",
    "                pass\n",
    "        "
   ]
  },
  {
   "cell_type": "code",
   "execution_count": 39,
   "metadata": {},
   "outputs": [],
   "source": [
    "# covert list of lists to dataframe\n",
    "df_links1 = pd.DataFrame(links, columns=['product1', 'product2'])"
   ]
  },
  {
   "cell_type": "code",
   "execution_count": 40,
   "metadata": {},
   "outputs": [],
   "source": [
    "# covert list of lists to dataframe with the opposite sequence\n",
    "df_links2 = pd.DataFrame(links, columns=['product2', 'product1'])"
   ]
  },
  {
   "cell_type": "code",
   "execution_count": 41,
   "metadata": {},
   "outputs": [
    {
     "name": "stderr",
     "output_type": "stream",
     "text": [
      "C:\\Users\\Dimos\\Anaconda3\\lib\\site-packages\\ipykernel_launcher.py:2: FutureWarning: Sorting because non-concatenation axis is not aligned. A future version\n",
      "of pandas will change to not sort by default.\n",
      "\n",
      "To accept the future behavior, pass 'sort=False'.\n",
      "\n",
      "To retain the current behavior and silence the warning, pass 'sort=True'.\n",
      "\n",
      "  \n"
     ]
    }
   ],
   "source": [
    "# concat the 2 dataframes\n",
    "df_links = pd.concat([df_links1, df_links2], axis=0)"
   ]
  },
  {
   "cell_type": "code",
   "execution_count": 42,
   "metadata": {},
   "outputs": [],
   "source": [
    "# drop duplicates\n",
    "df_links = df_links.drop_duplicates(subset=['product1', 'product2'], keep='first')"
   ]
  },
  {
   "cell_type": "code",
   "execution_count": 43,
   "metadata": {},
   "outputs": [
    {
     "data": {
      "text/html": [
       "<div>\n",
       "<style scoped>\n",
       "    .dataframe tbody tr th:only-of-type {\n",
       "        vertical-align: middle;\n",
       "    }\n",
       "\n",
       "    .dataframe tbody tr th {\n",
       "        vertical-align: top;\n",
       "    }\n",
       "\n",
       "    .dataframe thead th {\n",
       "        text-align: right;\n",
       "    }\n",
       "</style>\n",
       "<table border=\"1\" class=\"dataframe\">\n",
       "  <thead>\n",
       "    <tr style=\"text-align: right;\">\n",
       "      <th></th>\n",
       "      <th>product1</th>\n",
       "      <th>product2</th>\n",
       "    </tr>\n",
       "  </thead>\n",
       "  <tbody>\n",
       "    <tr>\n",
       "      <td>0</td>\n",
       "      <td>285930</td>\n",
       "      <td>357564</td>\n",
       "    </tr>\n",
       "    <tr>\n",
       "      <td>1</td>\n",
       "      <td>357564</td>\n",
       "      <td>67045</td>\n",
       "    </tr>\n",
       "  </tbody>\n",
       "</table>\n",
       "</div>"
      ],
      "text/plain": [
       "   product1  product2\n",
       "0  285930    357564  \n",
       "1  357564    67045   "
      ]
     },
     "execution_count": 43,
     "metadata": {},
     "output_type": "execute_result"
    }
   ],
   "source": [
    "df_links.head(2)"
   ]
  },
  {
   "cell_type": "code",
   "execution_count": 44,
   "metadata": {},
   "outputs": [
    {
     "data": {
      "text/plain": [
       "(998750, 2)"
      ]
     },
     "execution_count": 44,
     "metadata": {},
     "output_type": "execute_result"
    }
   ],
   "source": [
    "df_links.shape"
   ]
  },
  {
   "cell_type": "markdown",
   "metadata": {},
   "source": [
    "#### ---- Add the category and subcategory of each product"
   ]
  },
  {
   "cell_type": "code",
   "execution_count": 45,
   "metadata": {},
   "outputs": [],
   "source": [
    "# read the item properties\n",
    "df_item_properties_part1 = pd.read_csv('data/item_properties_part1.csv')\n",
    "df_item_properties_part2 = pd.read_csv('data/item_properties_part2.csv')\n",
    "\n",
    "# join the 2 dfs\n",
    "df_item_properties = pd.concat([df_item_properties_part1, df_item_properties_part2])"
   ]
  },
  {
   "cell_type": "code",
   "execution_count": 46,
   "metadata": {},
   "outputs": [],
   "source": [
    "# create a df with the subcategory of each product\n",
    "df_categs = df_item_properties[df_item_properties.property=='categoryid']\n",
    "\n",
    "# keep only one row for each pair (itemid, property)\n",
    "df_categs = df_categs.drop_duplicates(subset=['itemid', 'property'], keep='first')\n",
    "\n",
    "# convert category_ids to int\n",
    "df_categs['value'] = df_categs['value'].astype('int')\n",
    "\n",
    "# add the parentid to each category\n",
    "df_categs = df_categs.merge(df_cat_tree, left_on='value', right_on='categoryid', how='left')\n",
    "\n",
    "# keep only specific columns\n",
    "df_categs = df_categs[['itemid', 'categoryid', 'parentid']]"
   ]
  },
  {
   "cell_type": "code",
   "execution_count": 47,
   "metadata": {},
   "outputs": [],
   "source": [
    "df_categs = df_categs.dropna(subset=['parentid'])\n",
    "df_categs['parentid'] = df_categs['parentid'].astype('int')"
   ]
  },
  {
   "cell_type": "code",
   "execution_count": 48,
   "metadata": {},
   "outputs": [
    {
     "data": {
      "text/html": [
       "<div>\n",
       "<style scoped>\n",
       "    .dataframe tbody tr th:only-of-type {\n",
       "        vertical-align: middle;\n",
       "    }\n",
       "\n",
       "    .dataframe tbody tr th {\n",
       "        vertical-align: top;\n",
       "    }\n",
       "\n",
       "    .dataframe thead th {\n",
       "        text-align: right;\n",
       "    }\n",
       "</style>\n",
       "<table border=\"1\" class=\"dataframe\">\n",
       "  <thead>\n",
       "    <tr style=\"text-align: right;\">\n",
       "      <th></th>\n",
       "      <th>itemid</th>\n",
       "      <th>categoryid</th>\n",
       "      <th>parentid</th>\n",
       "    </tr>\n",
       "  </thead>\n",
       "  <tbody>\n",
       "    <tr>\n",
       "      <td>0</td>\n",
       "      <td>460429</td>\n",
       "      <td>1338.0</td>\n",
       "      <td>1278</td>\n",
       "    </tr>\n",
       "    <tr>\n",
       "      <td>1</td>\n",
       "      <td>281245</td>\n",
       "      <td>1277.0</td>\n",
       "      <td>312</td>\n",
       "    </tr>\n",
       "  </tbody>\n",
       "</table>\n",
       "</div>"
      ],
      "text/plain": [
       "   itemid  categoryid  parentid\n",
       "0  460429  1338.0      1278    \n",
       "1  281245  1277.0      312     "
      ]
     },
     "execution_count": 48,
     "metadata": {},
     "output_type": "execute_result"
    }
   ],
   "source": [
    "df_categs.head(2)"
   ]
  },
  {
   "cell_type": "code",
   "execution_count": 49,
   "metadata": {},
   "outputs": [],
   "source": [
    "# add the category and subcategory of product 1\n",
    "df_links = df_links.merge(df_categs, left_on='product1', right_on='itemid', how='left')\n",
    "# drop 'itemid' column\n",
    "df_links = df_links.drop(['itemid'], axis=1)\n",
    "# rename columns\n",
    "df_links.columns = ['product1', 'product2', 'subcategory_p1', 'category_p1']"
   ]
  },
  {
   "cell_type": "code",
   "execution_count": 50,
   "metadata": {},
   "outputs": [],
   "source": [
    "# add the category and subcategory of product 2\n",
    "df_links = df_links.merge(df_categs, left_on='product2', right_on='itemid', how='left')\n",
    "# drop 'itemid' column\n",
    "df_links = df_links.drop(['itemid'], axis=1)\n",
    "# rename columns\n",
    "df_links.columns = ['product1', 'product2', 'subcategory_p1', 'category_p1', 'subcategory_p2', 'category_p2']"
   ]
  },
  {
   "cell_type": "code",
   "execution_count": 51,
   "metadata": {},
   "outputs": [
    {
     "data": {
      "text/html": [
       "<div>\n",
       "<style scoped>\n",
       "    .dataframe tbody tr th:only-of-type {\n",
       "        vertical-align: middle;\n",
       "    }\n",
       "\n",
       "    .dataframe tbody tr th {\n",
       "        vertical-align: top;\n",
       "    }\n",
       "\n",
       "    .dataframe thead th {\n",
       "        text-align: right;\n",
       "    }\n",
       "</style>\n",
       "<table border=\"1\" class=\"dataframe\">\n",
       "  <thead>\n",
       "    <tr style=\"text-align: right;\">\n",
       "      <th></th>\n",
       "      <th>product1</th>\n",
       "      <th>product2</th>\n",
       "      <th>subcategory_p1</th>\n",
       "      <th>category_p1</th>\n",
       "      <th>subcategory_p2</th>\n",
       "      <th>category_p2</th>\n",
       "    </tr>\n",
       "  </thead>\n",
       "  <tbody>\n",
       "    <tr>\n",
       "      <td>0</td>\n",
       "      <td>285930</td>\n",
       "      <td>357564</td>\n",
       "      <td>1188.0</td>\n",
       "      <td>1497.0</td>\n",
       "      <td>256.0</td>\n",
       "      <td>1257.0</td>\n",
       "    </tr>\n",
       "    <tr>\n",
       "      <td>1</td>\n",
       "      <td>357564</td>\n",
       "      <td>67045</td>\n",
       "      <td>256.0</td>\n",
       "      <td>1257.0</td>\n",
       "      <td>333.0</td>\n",
       "      <td>1497.0</td>\n",
       "    </tr>\n",
       "    <tr>\n",
       "      <td>2</td>\n",
       "      <td>325215</td>\n",
       "      <td>325215</td>\n",
       "      <td>299.0</td>\n",
       "      <td>73.0</td>\n",
       "      <td>299.0</td>\n",
       "      <td>73.0</td>\n",
       "    </tr>\n",
       "    <tr>\n",
       "      <td>3</td>\n",
       "      <td>325215</td>\n",
       "      <td>259884</td>\n",
       "      <td>299.0</td>\n",
       "      <td>73.0</td>\n",
       "      <td>299.0</td>\n",
       "      <td>73.0</td>\n",
       "    </tr>\n",
       "    <tr>\n",
       "      <td>4</td>\n",
       "      <td>259884</td>\n",
       "      <td>216305</td>\n",
       "      <td>299.0</td>\n",
       "      <td>73.0</td>\n",
       "      <td>299.0</td>\n",
       "      <td>73.0</td>\n",
       "    </tr>\n",
       "  </tbody>\n",
       "</table>\n",
       "</div>"
      ],
      "text/plain": [
       "   product1  product2  subcategory_p1  category_p1  subcategory_p2  \\\n",
       "0  285930    357564    1188.0          1497.0       256.0            \n",
       "1  357564    67045     256.0           1257.0       333.0            \n",
       "2  325215    325215    299.0           73.0         299.0            \n",
       "3  325215    259884    299.0           73.0         299.0            \n",
       "4  259884    216305    299.0           73.0         299.0            \n",
       "\n",
       "   category_p2  \n",
       "0  1257.0       \n",
       "1  1497.0       \n",
       "2  73.0         \n",
       "3  73.0         \n",
       "4  73.0         "
      ]
     },
     "execution_count": 51,
     "metadata": {},
     "output_type": "execute_result"
    }
   ],
   "source": [
    "df_links.head()"
   ]
  },
  {
   "cell_type": "code",
   "execution_count": 52,
   "metadata": {},
   "outputs": [
    {
     "data": {
      "text/plain": [
       "(998750, 6)"
      ]
     },
     "execution_count": 52,
     "metadata": {},
     "output_type": "execute_result"
    }
   ],
   "source": [
    "df_links.shape"
   ]
  },
  {
   "cell_type": "code",
   "execution_count": 53,
   "metadata": {},
   "outputs": [
    {
     "data": {
      "text/plain": [
       "143483"
      ]
     },
     "execution_count": 53,
     "metadata": {},
     "output_type": "execute_result"
    }
   ],
   "source": [
    "df_links.product1.nunique()"
   ]
  },
  {
   "cell_type": "code",
   "execution_count": 54,
   "metadata": {},
   "outputs": [
    {
     "data": {
      "text/plain": [
       "143483"
      ]
     },
     "execution_count": 54,
     "metadata": {},
     "output_type": "execute_result"
    }
   ],
   "source": [
    "df_links.product2.nunique()"
   ]
  },
  {
   "cell_type": "markdown",
   "metadata": {},
   "source": [
    "#### ---- Group all the views of each product in lists"
   ]
  },
  {
   "cell_type": "code",
   "execution_count": 55,
   "metadata": {},
   "outputs": [],
   "source": [
    "# for each product create a list with the 'views'\n",
    "df_links_groups = df_links.groupby(['product1', 'subcategory_p1', 'category_p1'], as_index=False)['product2', 'subcategory_p2', 'category_p2'].agg(lambda x: x.tolist())"
   ]
  },
  {
   "cell_type": "code",
   "execution_count": 56,
   "metadata": {},
   "outputs": [
    {
     "data": {
      "text/plain": [
       "(124366, 6)"
      ]
     },
     "execution_count": 56,
     "metadata": {},
     "output_type": "execute_result"
    }
   ],
   "source": [
    "df_links_groups.shape"
   ]
  },
  {
   "cell_type": "code",
   "execution_count": 57,
   "metadata": {},
   "outputs": [],
   "source": [
    "# create a column with the number of 'views' for each product\n",
    "df_links_groups['N_products'] = df_links_groups['product2'].apply(lambda x: len(x))"
   ]
  },
  {
   "cell_type": "code",
   "execution_count": 58,
   "metadata": {},
   "outputs": [
    {
     "data": {
      "text/html": [
       "<div>\n",
       "<style scoped>\n",
       "    .dataframe tbody tr th:only-of-type {\n",
       "        vertical-align: middle;\n",
       "    }\n",
       "\n",
       "    .dataframe tbody tr th {\n",
       "        vertical-align: top;\n",
       "    }\n",
       "\n",
       "    .dataframe thead th {\n",
       "        text-align: right;\n",
       "    }\n",
       "</style>\n",
       "<table border=\"1\" class=\"dataframe\">\n",
       "  <thead>\n",
       "    <tr style=\"text-align: right;\">\n",
       "      <th></th>\n",
       "      <th>product1</th>\n",
       "      <th>subcategory_p1</th>\n",
       "      <th>category_p1</th>\n",
       "      <th>product2</th>\n",
       "      <th>subcategory_p2</th>\n",
       "      <th>category_p2</th>\n",
       "      <th>N_products</th>\n",
       "    </tr>\n",
       "  </thead>\n",
       "  <tbody>\n",
       "    <tr>\n",
       "      <td>0</td>\n",
       "      <td>3</td>\n",
       "      <td>1171.0</td>\n",
       "      <td>938.0</td>\n",
       "      <td>[336863, 86962]</td>\n",
       "      <td>[1171.0, 1171.0]</td>\n",
       "      <td>[938.0, 938.0]</td>\n",
       "      <td>2</td>\n",
       "    </tr>\n",
       "    <tr>\n",
       "      <td>1</td>\n",
       "      <td>6</td>\n",
       "      <td>1091.0</td>\n",
       "      <td>573.0</td>\n",
       "      <td>[318406, 118177, 384758, 6, 236992, 397335, 413179, 182745, 174778, 453043, 446534, 411580, 25123]</td>\n",
       "      <td>[1091.0, 1091.0, 1091.0, 1091.0, 535.0, 1091.0, 1666.0, 1091.0, 406.0, 1091.0, 1090.0, 1091.0, 1091.0]</td>\n",
       "      <td>[573.0, 573.0, 573.0, 573.0, 426.0, 573.0, 1684.0, 573.0, 872.0, 573.0, 648.0, 573.0, 573.0]</td>\n",
       "      <td>13</td>\n",
       "    </tr>\n",
       "  </tbody>\n",
       "</table>\n",
       "</div>"
      ],
      "text/plain": [
       "   product1  subcategory_p1  category_p1  \\\n",
       "0  3         1171.0          938.0         \n",
       "1  6         1091.0          573.0         \n",
       "\n",
       "                                                                                             product2  \\\n",
       "0  [336863, 86962]                                                                                      \n",
       "1  [318406, 118177, 384758, 6, 236992, 397335, 413179, 182745, 174778, 453043, 446534, 411580, 25123]   \n",
       "\n",
       "                                                                                           subcategory_p2  \\\n",
       "0  [1171.0, 1171.0]                                                                                         \n",
       "1  [1091.0, 1091.0, 1091.0, 1091.0, 535.0, 1091.0, 1666.0, 1091.0, 406.0, 1091.0, 1090.0, 1091.0, 1091.0]   \n",
       "\n",
       "                                                                                    category_p2  \\\n",
       "0  [938.0, 938.0]                                                                                 \n",
       "1  [573.0, 573.0, 573.0, 573.0, 426.0, 573.0, 1684.0, 573.0, 872.0, 573.0, 648.0, 573.0, 573.0]   \n",
       "\n",
       "   N_products  \n",
       "0  2           \n",
       "1  13          "
      ]
     },
     "execution_count": 58,
     "metadata": {},
     "output_type": "execute_result"
    }
   ],
   "source": [
    "df_links_groups.head(2)"
   ]
  },
  {
   "cell_type": "code",
   "execution_count": 59,
   "metadata": {},
   "outputs": [
    {
     "data": {
      "text/html": [
       "<div>\n",
       "<style scoped>\n",
       "    .dataframe tbody tr th:only-of-type {\n",
       "        vertical-align: middle;\n",
       "    }\n",
       "\n",
       "    .dataframe tbody tr th {\n",
       "        vertical-align: top;\n",
       "    }\n",
       "\n",
       "    .dataframe thead th {\n",
       "        text-align: right;\n",
       "    }\n",
       "</style>\n",
       "<table border=\"1\" class=\"dataframe\">\n",
       "  <thead>\n",
       "    <tr style=\"text-align: right;\">\n",
       "      <th></th>\n",
       "      <th>product1</th>\n",
       "      <th>subcategory_p1</th>\n",
       "      <th>category_p1</th>\n",
       "      <th>N_products</th>\n",
       "    </tr>\n",
       "  </thead>\n",
       "  <tbody>\n",
       "    <tr>\n",
       "      <td>count</td>\n",
       "      <td>124366.000000</td>\n",
       "      <td>124366.000000</td>\n",
       "      <td>124366.000000</td>\n",
       "      <td>124366.000000</td>\n",
       "    </tr>\n",
       "    <tr>\n",
       "      <td>mean</td>\n",
       "      <td>233290.915250</td>\n",
       "      <td>887.814419</td>\n",
       "      <td>847.997692</td>\n",
       "      <td>7.582571</td>\n",
       "    </tr>\n",
       "    <tr>\n",
       "      <td>std</td>\n",
       "      <td>134638.373328</td>\n",
       "      <td>480.619926</td>\n",
       "      <td>499.240926</td>\n",
       "      <td>13.901208</td>\n",
       "    </tr>\n",
       "    <tr>\n",
       "      <td>min</td>\n",
       "      <td>3.000000</td>\n",
       "      <td>0.000000</td>\n",
       "      <td>8.000000</td>\n",
       "      <td>1.000000</td>\n",
       "    </tr>\n",
       "    <tr>\n",
       "      <td>25%</td>\n",
       "      <td>116262.500000</td>\n",
       "      <td>478.000000</td>\n",
       "      <td>440.000000</td>\n",
       "      <td>1.000000</td>\n",
       "    </tr>\n",
       "    <tr>\n",
       "      <td>50%</td>\n",
       "      <td>233513.500000</td>\n",
       "      <td>936.000000</td>\n",
       "      <td>854.000000</td>\n",
       "      <td>3.000000</td>\n",
       "    </tr>\n",
       "    <tr>\n",
       "      <td>75%</td>\n",
       "      <td>349797.500000</td>\n",
       "      <td>1277.000000</td>\n",
       "      <td>1308.000000</td>\n",
       "      <td>8.000000</td>\n",
       "    </tr>\n",
       "    <tr>\n",
       "      <td>max</td>\n",
       "      <td>466864.000000</td>\n",
       "      <td>1697.000000</td>\n",
       "      <td>1698.000000</td>\n",
       "      <td>743.000000</td>\n",
       "    </tr>\n",
       "  </tbody>\n",
       "</table>\n",
       "</div>"
      ],
      "text/plain": [
       "            product1  subcategory_p1    category_p1     N_products\n",
       "count  124366.000000  124366.000000   124366.000000  124366.000000\n",
       "mean   233290.915250  887.814419      847.997692     7.582571     \n",
       "std    134638.373328  480.619926      499.240926     13.901208    \n",
       "min    3.000000       0.000000        8.000000       1.000000     \n",
       "25%    116262.500000  478.000000      440.000000     1.000000     \n",
       "50%    233513.500000  936.000000      854.000000     3.000000     \n",
       "75%    349797.500000  1277.000000     1308.000000    8.000000     \n",
       "max    466864.000000  1697.000000     1698.000000    743.000000   "
      ]
     },
     "execution_count": 59,
     "metadata": {},
     "output_type": "execute_result"
    }
   ],
   "source": [
    "df_links_groups.describe()"
   ]
  },
  {
   "cell_type": "code",
   "execution_count": 60,
   "metadata": {},
   "outputs": [],
   "source": [
    "df_links_groups.to_pickle('data/final/df_links_window_size_'+str(window_size)+'new.pkl')"
   ]
  },
  {
   "cell_type": "code",
   "execution_count": 61,
   "metadata": {},
   "outputs": [],
   "source": [
    "df_links_groups = pd.read_pickle('data/final/df_links_window_size_'+str(window_size)+'new.pkl')"
   ]
  },
  {
   "cell_type": "markdown",
   "metadata": {},
   "source": [
    "## -- Product details"
   ]
  },
  {
   "cell_type": "code",
   "execution_count": 62,
   "metadata": {},
   "outputs": [
    {
     "data": {
      "text/html": [
       "<div>\n",
       "<style scoped>\n",
       "    .dataframe tbody tr th:only-of-type {\n",
       "        vertical-align: middle;\n",
       "    }\n",
       "\n",
       "    .dataframe tbody tr th {\n",
       "        vertical-align: top;\n",
       "    }\n",
       "\n",
       "    .dataframe thead th {\n",
       "        text-align: right;\n",
       "    }\n",
       "</style>\n",
       "<table border=\"1\" class=\"dataframe\">\n",
       "  <thead>\n",
       "    <tr style=\"text-align: right;\">\n",
       "      <th></th>\n",
       "      <th>timestamp</th>\n",
       "      <th>itemid</th>\n",
       "      <th>property</th>\n",
       "      <th>value</th>\n",
       "    </tr>\n",
       "  </thead>\n",
       "  <tbody>\n",
       "    <tr>\n",
       "      <td>0</td>\n",
       "      <td>1435460400000</td>\n",
       "      <td>460429</td>\n",
       "      <td>categoryid</td>\n",
       "      <td>1338</td>\n",
       "    </tr>\n",
       "    <tr>\n",
       "      <td>1</td>\n",
       "      <td>1441508400000</td>\n",
       "      <td>206783</td>\n",
       "      <td>888</td>\n",
       "      <td>1116713 960601 n277.200</td>\n",
       "    </tr>\n",
       "    <tr>\n",
       "      <td>2</td>\n",
       "      <td>1439089200000</td>\n",
       "      <td>395014</td>\n",
       "      <td>400</td>\n",
       "      <td>n552.000 639502 n720.000 424566</td>\n",
       "    </tr>\n",
       "    <tr>\n",
       "      <td>3</td>\n",
       "      <td>1431226800000</td>\n",
       "      <td>59481</td>\n",
       "      <td>790</td>\n",
       "      <td>n15360.000</td>\n",
       "    </tr>\n",
       "    <tr>\n",
       "      <td>4</td>\n",
       "      <td>1431831600000</td>\n",
       "      <td>156781</td>\n",
       "      <td>917</td>\n",
       "      <td>828513</td>\n",
       "    </tr>\n",
       "  </tbody>\n",
       "</table>\n",
       "</div>"
      ],
      "text/plain": [
       "       timestamp  itemid    property                            value\n",
       "0  1435460400000  460429  categoryid  1338                           \n",
       "1  1441508400000  206783  888         1116713 960601 n277.200        \n",
       "2  1439089200000  395014  400         n552.000 639502 n720.000 424566\n",
       "3  1431226800000  59481   790         n15360.000                     \n",
       "4  1431831600000  156781  917         828513                         "
      ]
     },
     "execution_count": 62,
     "metadata": {},
     "output_type": "execute_result"
    }
   ],
   "source": [
    "df_item_properties.head()"
   ]
  },
  {
   "cell_type": "code",
   "execution_count": 63,
   "metadata": {},
   "outputs": [
    {
     "data": {
      "text/plain": [
       "(20275902, 4)"
      ]
     },
     "execution_count": 63,
     "metadata": {},
     "output_type": "execute_result"
    }
   ],
   "source": [
    "df_item_properties.shape"
   ]
  },
  {
   "cell_type": "code",
   "execution_count": 64,
   "metadata": {},
   "outputs": [
    {
     "data": {
      "text/plain": [
       "417053"
      ]
     },
     "execution_count": 64,
     "metadata": {},
     "output_type": "execute_result"
    }
   ],
   "source": [
    "df_item_properties.itemid.nunique()"
   ]
  },
  {
   "cell_type": "markdown",
   "metadata": {},
   "source": [
    "### --- Keep only 6 main categories"
   ]
  },
  {
   "cell_type": "markdown",
   "metadata": {},
   "source": [
    "I will keep products of 6 main categories. This 6 main categories will have around 30.000 products splitted in many subcategories. These 6 categories should also be in the 'df_links_groups' dataset that I created above."
   ]
  },
  {
   "cell_type": "markdown",
   "metadata": {},
   "source": [
    "- First find categories for which I have many products in the 'df_links_groups' dataset. And these products have many 'links'"
   ]
  },
  {
   "cell_type": "code",
   "execution_count": 65,
   "metadata": {},
   "outputs": [
    {
     "data": {
      "text/html": [
       "<div>\n",
       "<style scoped>\n",
       "    .dataframe tbody tr th:only-of-type {\n",
       "        vertical-align: middle;\n",
       "    }\n",
       "\n",
       "    .dataframe tbody tr th {\n",
       "        vertical-align: top;\n",
       "    }\n",
       "\n",
       "    .dataframe thead th {\n",
       "        text-align: right;\n",
       "    }\n",
       "</style>\n",
       "<table border=\"1\" class=\"dataframe\">\n",
       "  <thead>\n",
       "    <tr style=\"text-align: right;\">\n",
       "      <th></th>\n",
       "      <th>product1</th>\n",
       "      <th>subcategory_p1</th>\n",
       "      <th>category_p1</th>\n",
       "      <th>product2</th>\n",
       "      <th>subcategory_p2</th>\n",
       "      <th>category_p2</th>\n",
       "      <th>N_products</th>\n",
       "    </tr>\n",
       "  </thead>\n",
       "  <tbody>\n",
       "    <tr>\n",
       "      <td>0</td>\n",
       "      <td>3</td>\n",
       "      <td>1171.0</td>\n",
       "      <td>938.0</td>\n",
       "      <td>[336863, 86962]</td>\n",
       "      <td>[1171.0, 1171.0]</td>\n",
       "      <td>[938.0, 938.0]</td>\n",
       "      <td>2</td>\n",
       "    </tr>\n",
       "    <tr>\n",
       "      <td>1</td>\n",
       "      <td>6</td>\n",
       "      <td>1091.0</td>\n",
       "      <td>573.0</td>\n",
       "      <td>[318406, 118177, 384758, 6, 236992, 397335, 413179, 182745, 174778, 453043, 446534, 411580, 25123]</td>\n",
       "      <td>[1091.0, 1091.0, 1091.0, 1091.0, 535.0, 1091.0, 1666.0, 1091.0, 406.0, 1091.0, 1090.0, 1091.0, 1091.0]</td>\n",
       "      <td>[573.0, 573.0, 573.0, 573.0, 426.0, 573.0, 1684.0, 573.0, 872.0, 573.0, 648.0, 573.0, 573.0]</td>\n",
       "      <td>13</td>\n",
       "    </tr>\n",
       "  </tbody>\n",
       "</table>\n",
       "</div>"
      ],
      "text/plain": [
       "   product1  subcategory_p1  category_p1  \\\n",
       "0  3         1171.0          938.0         \n",
       "1  6         1091.0          573.0         \n",
       "\n",
       "                                                                                             product2  \\\n",
       "0  [336863, 86962]                                                                                      \n",
       "1  [318406, 118177, 384758, 6, 236992, 397335, 413179, 182745, 174778, 453043, 446534, 411580, 25123]   \n",
       "\n",
       "                                                                                           subcategory_p2  \\\n",
       "0  [1171.0, 1171.0]                                                                                         \n",
       "1  [1091.0, 1091.0, 1091.0, 1091.0, 535.0, 1091.0, 1666.0, 1091.0, 406.0, 1091.0, 1090.0, 1091.0, 1091.0]   \n",
       "\n",
       "                                                                                    category_p2  \\\n",
       "0  [938.0, 938.0]                                                                                 \n",
       "1  [573.0, 573.0, 573.0, 573.0, 426.0, 573.0, 1684.0, 573.0, 872.0, 573.0, 648.0, 573.0, 573.0]   \n",
       "\n",
       "   N_products  \n",
       "0  2           \n",
       "1  13          "
      ]
     },
     "execution_count": 65,
     "metadata": {},
     "output_type": "execute_result"
    }
   ],
   "source": [
    "df_links_groups.head(2)"
   ]
  },
  {
   "cell_type": "code",
   "execution_count": 66,
   "metadata": {},
   "outputs": [],
   "source": [
    "# 594.,  561.,  986., 1531., 1181., 1426."
   ]
  },
  {
   "cell_type": "code",
   "execution_count": 67,
   "metadata": {},
   "outputs": [
    {
     "data": {
      "text/html": [
       "<div>\n",
       "<style scoped>\n",
       "    .dataframe tbody tr th:only-of-type {\n",
       "        vertical-align: middle;\n",
       "    }\n",
       "\n",
       "    .dataframe tbody tr th {\n",
       "        vertical-align: top;\n",
       "    }\n",
       "\n",
       "    .dataframe thead th {\n",
       "        text-align: right;\n",
       "    }\n",
       "</style>\n",
       "<table border=\"1\" class=\"dataframe\">\n",
       "  <thead>\n",
       "    <tr style=\"text-align: right;\">\n",
       "      <th></th>\n",
       "      <th>category_p1</th>\n",
       "      <th>product1</th>\n",
       "      <th>N_products</th>\n",
       "    </tr>\n",
       "  </thead>\n",
       "  <tbody>\n",
       "    <tr>\n",
       "      <td>97</td>\n",
       "      <td>587.0</td>\n",
       "      <td>5033</td>\n",
       "      <td>3.110471</td>\n",
       "    </tr>\n",
       "    <tr>\n",
       "      <td>84</td>\n",
       "      <td>500.0</td>\n",
       "      <td>4112</td>\n",
       "      <td>7.633998</td>\n",
       "    </tr>\n",
       "    <tr>\n",
       "      <td>46</td>\n",
       "      <td>250.0</td>\n",
       "      <td>3518</td>\n",
       "      <td>6.978113</td>\n",
       "    </tr>\n",
       "    <tr>\n",
       "      <td>90</td>\n",
       "      <td>561.0</td>\n",
       "      <td>2967</td>\n",
       "      <td>10.496124</td>\n",
       "    </tr>\n",
       "    <tr>\n",
       "      <td>265</td>\n",
       "      <td>1606.0</td>\n",
       "      <td>2615</td>\n",
       "      <td>16.487954</td>\n",
       "    </tr>\n",
       "  </tbody>\n",
       "</table>\n",
       "</div>"
      ],
      "text/plain": [
       "     category_p1  product1  N_products\n",
       "97   587.0        5033      3.110471  \n",
       "84   500.0        4112      7.633998  \n",
       "46   250.0        3518      6.978113  \n",
       "90   561.0        2967      10.496124 \n",
       "265  1606.0       2615      16.487954 "
      ]
     },
     "execution_count": 67,
     "metadata": {},
     "output_type": "execute_result"
    }
   ],
   "source": [
    "# count the number of products for which we have views and the average number of views\n",
    "df_links_categs1 = df_links_groups.groupby('category_p1', as_index=False).agg({'product1':'count', 'N_products':'mean'})\n",
    "df_links_categs1 = df_links_categs1.sort_values(by='product1', ascending=False)\n",
    "df_links_categs1.head()"
   ]
  },
  {
   "cell_type": "code",
   "execution_count": 68,
   "metadata": {},
   "outputs": [
    {
     "data": {
      "text/html": [
       "<div>\n",
       "<style scoped>\n",
       "    .dataframe tbody tr th:only-of-type {\n",
       "        vertical-align: middle;\n",
       "    }\n",
       "\n",
       "    .dataframe tbody tr th {\n",
       "        vertical-align: top;\n",
       "    }\n",
       "\n",
       "    .dataframe thead th {\n",
       "        text-align: right;\n",
       "    }\n",
       "</style>\n",
       "<table border=\"1\" class=\"dataframe\">\n",
       "  <thead>\n",
       "    <tr style=\"text-align: right;\">\n",
       "      <th></th>\n",
       "      <th>parentid</th>\n",
       "      <th>itemid</th>\n",
       "    </tr>\n",
       "  </thead>\n",
       "  <tbody>\n",
       "    <tr>\n",
       "      <td>0</td>\n",
       "      <td>8</td>\n",
       "      <td>1115</td>\n",
       "    </tr>\n",
       "    <tr>\n",
       "      <td>1</td>\n",
       "      <td>9</td>\n",
       "      <td>284</td>\n",
       "    </tr>\n",
       "    <tr>\n",
       "      <td>2</td>\n",
       "      <td>14</td>\n",
       "      <td>1793</td>\n",
       "    </tr>\n",
       "    <tr>\n",
       "      <td>3</td>\n",
       "      <td>19</td>\n",
       "      <td>3</td>\n",
       "    </tr>\n",
       "    <tr>\n",
       "      <td>4</td>\n",
       "      <td>20</td>\n",
       "      <td>1803</td>\n",
       "    </tr>\n",
       "  </tbody>\n",
       "</table>\n",
       "</div>"
      ],
      "text/plain": [
       "   parentid  itemid\n",
       "0  8         1115  \n",
       "1  9         284   \n",
       "2  14        1793  \n",
       "3  19        3     \n",
       "4  20        1803  "
      ]
     },
     "execution_count": 68,
     "metadata": {},
     "output_type": "execute_result"
    }
   ],
   "source": [
    "# count the number of all products in each main category\n",
    "df_categs_groups = df_categs.groupby('parentid', as_index=False).itemid.count()\n",
    "#df_top6_categs = df_categs_groups.sort_values(by='itemid', ascending=False)\n",
    "df_categs_groups.head()"
   ]
  },
  {
   "cell_type": "code",
   "execution_count": 69,
   "metadata": {},
   "outputs": [
    {
     "data": {
      "text/html": [
       "<div>\n",
       "<style scoped>\n",
       "    .dataframe tbody tr th:only-of-type {\n",
       "        vertical-align: middle;\n",
       "    }\n",
       "\n",
       "    .dataframe tbody tr th {\n",
       "        vertical-align: top;\n",
       "    }\n",
       "\n",
       "    .dataframe thead th {\n",
       "        text-align: right;\n",
       "    }\n",
       "</style>\n",
       "<table border=\"1\" class=\"dataframe\">\n",
       "  <thead>\n",
       "    <tr style=\"text-align: right;\">\n",
       "      <th></th>\n",
       "      <th>category</th>\n",
       "      <th>N_products</th>\n",
       "      <th>Avg_links</th>\n",
       "      <th>All_products</th>\n",
       "    </tr>\n",
       "  </thead>\n",
       "  <tbody>\n",
       "    <tr>\n",
       "      <td>0</td>\n",
       "      <td>587.0</td>\n",
       "      <td>5033</td>\n",
       "      <td>3.110471</td>\n",
       "      <td>21128</td>\n",
       "    </tr>\n",
       "    <tr>\n",
       "      <td>1</td>\n",
       "      <td>500.0</td>\n",
       "      <td>4112</td>\n",
       "      <td>7.633998</td>\n",
       "      <td>20887</td>\n",
       "    </tr>\n",
       "    <tr>\n",
       "      <td>2</td>\n",
       "      <td>250.0</td>\n",
       "      <td>3518</td>\n",
       "      <td>6.978113</td>\n",
       "      <td>9163</td>\n",
       "    </tr>\n",
       "    <tr>\n",
       "      <td>3</td>\n",
       "      <td>561.0</td>\n",
       "      <td>2967</td>\n",
       "      <td>10.496124</td>\n",
       "      <td>5631</td>\n",
       "    </tr>\n",
       "    <tr>\n",
       "      <td>4</td>\n",
       "      <td>1606.0</td>\n",
       "      <td>2615</td>\n",
       "      <td>16.487954</td>\n",
       "      <td>6374</td>\n",
       "    </tr>\n",
       "  </tbody>\n",
       "</table>\n",
       "</div>"
      ],
      "text/plain": [
       "   category  N_products  Avg_links  All_products\n",
       "0  587.0     5033        3.110471   21128       \n",
       "1  500.0     4112        7.633998   20887       \n",
       "2  250.0     3518        6.978113   9163        \n",
       "3  561.0     2967        10.496124  5631        \n",
       "4  1606.0    2615        16.487954  6374        "
      ]
     },
     "execution_count": 69,
     "metadata": {},
     "output_type": "execute_result"
    }
   ],
   "source": [
    "# merge the above dfs\n",
    "df_links_categs1 = df_links_categs1.merge(df_categs_groups, left_on='category_p1', right_on='parentid', how='left')\n",
    "df_links_categs1 = df_links_categs1.drop(['parentid'], axis=1)\n",
    "df_links_categs1.columns = ['category', 'N_products', 'Avg_links', 'All_products']\n",
    "df_links_categs1.head()"
   ]
  },
  {
   "cell_type": "code",
   "execution_count": 70,
   "metadata": {},
   "outputs": [],
   "source": [
    "# 594.,  561.,  986., 1531., 1181., 1426."
   ]
  },
  {
   "cell_type": "code",
   "execution_count": 71,
   "metadata": {},
   "outputs": [],
   "source": [
    "category_ids = [955.0, 1606.0, 561.0, 105.0, 1426.0, 1308.0]"
   ]
  },
  {
   "cell_type": "code",
   "execution_count": 72,
   "metadata": {},
   "outputs": [
    {
     "data": {
      "text/html": [
       "<div>\n",
       "<style scoped>\n",
       "    .dataframe tbody tr th:only-of-type {\n",
       "        vertical-align: middle;\n",
       "    }\n",
       "\n",
       "    .dataframe tbody tr th {\n",
       "        vertical-align: top;\n",
       "    }\n",
       "\n",
       "    .dataframe thead th {\n",
       "        text-align: right;\n",
       "    }\n",
       "</style>\n",
       "<table border=\"1\" class=\"dataframe\">\n",
       "  <thead>\n",
       "    <tr style=\"text-align: right;\">\n",
       "      <th></th>\n",
       "      <th>category</th>\n",
       "      <th>N_products</th>\n",
       "      <th>Avg_links</th>\n",
       "      <th>All_products</th>\n",
       "    </tr>\n",
       "  </thead>\n",
       "  <tbody>\n",
       "    <tr>\n",
       "      <td>3</td>\n",
       "      <td>561.0</td>\n",
       "      <td>2967</td>\n",
       "      <td>10.496124</td>\n",
       "      <td>5631</td>\n",
       "    </tr>\n",
       "    <tr>\n",
       "      <td>4</td>\n",
       "      <td>1606.0</td>\n",
       "      <td>2615</td>\n",
       "      <td>16.487954</td>\n",
       "      <td>6374</td>\n",
       "    </tr>\n",
       "    <tr>\n",
       "      <td>5</td>\n",
       "      <td>105.0</td>\n",
       "      <td>2511</td>\n",
       "      <td>6.968538</td>\n",
       "      <td>4573</td>\n",
       "    </tr>\n",
       "    <tr>\n",
       "      <td>7</td>\n",
       "      <td>1426.0</td>\n",
       "      <td>2470</td>\n",
       "      <td>9.769636</td>\n",
       "      <td>4678</td>\n",
       "    </tr>\n",
       "    <tr>\n",
       "      <td>8</td>\n",
       "      <td>955.0</td>\n",
       "      <td>2443</td>\n",
       "      <td>17.102743</td>\n",
       "      <td>4131</td>\n",
       "    </tr>\n",
       "    <tr>\n",
       "      <td>12</td>\n",
       "      <td>1308.0</td>\n",
       "      <td>1849</td>\n",
       "      <td>12.497025</td>\n",
       "      <td>2854</td>\n",
       "    </tr>\n",
       "  </tbody>\n",
       "</table>\n",
       "</div>"
      ],
      "text/plain": [
       "    category  N_products  Avg_links  All_products\n",
       "3   561.0     2967        10.496124  5631        \n",
       "4   1606.0    2615        16.487954  6374        \n",
       "5   105.0     2511        6.968538   4573        \n",
       "7   1426.0    2470        9.769636   4678        \n",
       "8   955.0     2443        17.102743  4131        \n",
       "12  1308.0    1849        12.497025  2854        "
      ]
     },
     "execution_count": 72,
     "metadata": {},
     "output_type": "execute_result"
    }
   ],
   "source": [
    "df_links_categs1[df_links_categs1.category.isin(category_ids)]"
   ]
  },
  {
   "cell_type": "code",
   "execution_count": 73,
   "metadata": {},
   "outputs": [
    {
     "data": {
      "text/plain": [
       "28241"
      ]
     },
     "execution_count": 73,
     "metadata": {},
     "output_type": "execute_result"
    }
   ],
   "source": [
    "df_links_categs1[df_links_categs1.category.isin(category_ids)].All_products.sum()"
   ]
  },
  {
   "cell_type": "code",
   "execution_count": 74,
   "metadata": {},
   "outputs": [
    {
     "data": {
      "text/plain": [
       "28241"
      ]
     },
     "execution_count": 74,
     "metadata": {},
     "output_type": "execute_result"
    }
   ],
   "source": [
    "# create a list with the item ids that belong in the 6 selected categories\n",
    "item_ids = df_categs[df_categs.parentid.isin(category_ids)].itemid.tolist()\n",
    "len(item_ids)"
   ]
  },
  {
   "cell_type": "markdown",
   "metadata": {},
   "source": [
    "### --- Keep sessions for products that belong to the 6 selected categories"
   ]
  },
  {
   "cell_type": "code",
   "execution_count": 75,
   "metadata": {},
   "outputs": [],
   "source": [
    "# keep only products of the selected main categories\n",
    "df_links_groups2 = df_links_groups[df_links_groups.category_p1.isin(category_ids)]"
   ]
  },
  {
   "cell_type": "code",
   "execution_count": 76,
   "metadata": {},
   "outputs": [
    {
     "data": {
      "text/plain": [
       "14855"
      ]
     },
     "execution_count": 76,
     "metadata": {},
     "output_type": "execute_result"
    }
   ],
   "source": [
    "df_links_groups2.product1.nunique()"
   ]
  },
  {
   "cell_type": "code",
   "execution_count": 77,
   "metadata": {},
   "outputs": [
    {
     "data": {
      "text/html": [
       "<div>\n",
       "<style scoped>\n",
       "    .dataframe tbody tr th:only-of-type {\n",
       "        vertical-align: middle;\n",
       "    }\n",
       "\n",
       "    .dataframe tbody tr th {\n",
       "        vertical-align: top;\n",
       "    }\n",
       "\n",
       "    .dataframe thead th {\n",
       "        text-align: right;\n",
       "    }\n",
       "</style>\n",
       "<table border=\"1\" class=\"dataframe\">\n",
       "  <thead>\n",
       "    <tr style=\"text-align: right;\">\n",
       "      <th></th>\n",
       "      <th>category_p1</th>\n",
       "      <th>product1</th>\n",
       "    </tr>\n",
       "  </thead>\n",
       "  <tbody>\n",
       "    <tr>\n",
       "      <td>1</td>\n",
       "      <td>561.0</td>\n",
       "      <td>2967</td>\n",
       "    </tr>\n",
       "    <tr>\n",
       "      <td>5</td>\n",
       "      <td>1606.0</td>\n",
       "      <td>2615</td>\n",
       "    </tr>\n",
       "    <tr>\n",
       "      <td>0</td>\n",
       "      <td>105.0</td>\n",
       "      <td>2511</td>\n",
       "    </tr>\n",
       "    <tr>\n",
       "      <td>4</td>\n",
       "      <td>1426.0</td>\n",
       "      <td>2470</td>\n",
       "    </tr>\n",
       "    <tr>\n",
       "      <td>2</td>\n",
       "      <td>955.0</td>\n",
       "      <td>2443</td>\n",
       "    </tr>\n",
       "    <tr>\n",
       "      <td>3</td>\n",
       "      <td>1308.0</td>\n",
       "      <td>1849</td>\n",
       "    </tr>\n",
       "  </tbody>\n",
       "</table>\n",
       "</div>"
      ],
      "text/plain": [
       "   category_p1  product1\n",
       "1  561.0        2967    \n",
       "5  1606.0       2615    \n",
       "0  105.0        2511    \n",
       "4  1426.0       2470    \n",
       "2  955.0        2443    \n",
       "3  1308.0       1849    "
      ]
     },
     "execution_count": 77,
     "metadata": {},
     "output_type": "execute_result"
    }
   ],
   "source": [
    "# count number of products per main category\n",
    "df_links_groups3 = df_links_groups2.groupby('category_p1', as_index=False).product1.count()\n",
    "df_links_groups3 = df_links_groups3.sort_values(by='product1', ascending=False).head(20)\n",
    "df_links_groups3"
   ]
  },
  {
   "cell_type": "code",
   "execution_count": 78,
   "metadata": {},
   "outputs": [],
   "source": [
    "# save the sessions of the products that belong to the 6 selected categories\n",
    "df_links_groups2.to_pickle('data/final/sessions/df_sessions_retailrocket_window_size_'+str(window_size)+'new.pkl')"
   ]
  },
  {
   "cell_type": "markdown",
   "metadata": {},
   "source": [
    "### --- Keep details only of the products that belong in the 6 selected categories"
   ]
  },
  {
   "cell_type": "code",
   "execution_count": 106,
   "metadata": {},
   "outputs": [
    {
     "data": {
      "text/html": [
       "<div>\n",
       "<style scoped>\n",
       "    .dataframe tbody tr th:only-of-type {\n",
       "        vertical-align: middle;\n",
       "    }\n",
       "\n",
       "    .dataframe tbody tr th {\n",
       "        vertical-align: top;\n",
       "    }\n",
       "\n",
       "    .dataframe thead th {\n",
       "        text-align: right;\n",
       "    }\n",
       "</style>\n",
       "<table border=\"1\" class=\"dataframe\">\n",
       "  <thead>\n",
       "    <tr style=\"text-align: right;\">\n",
       "      <th></th>\n",
       "      <th>timestamp</th>\n",
       "      <th>itemid</th>\n",
       "      <th>property</th>\n",
       "      <th>value</th>\n",
       "    </tr>\n",
       "  </thead>\n",
       "  <tbody>\n",
       "    <tr>\n",
       "      <td>0</td>\n",
       "      <td>1435460400000</td>\n",
       "      <td>460429</td>\n",
       "      <td>categoryid</td>\n",
       "      <td>1338</td>\n",
       "    </tr>\n",
       "    <tr>\n",
       "      <td>1</td>\n",
       "      <td>1441508400000</td>\n",
       "      <td>206783</td>\n",
       "      <td>888</td>\n",
       "      <td>1116713 960601 n277.200</td>\n",
       "    </tr>\n",
       "  </tbody>\n",
       "</table>\n",
       "</div>"
      ],
      "text/plain": [
       "       timestamp  itemid    property                    value\n",
       "0  1435460400000  460429  categoryid  1338                   \n",
       "1  1441508400000  206783  888         1116713 960601 n277.200"
      ]
     },
     "execution_count": 106,
     "metadata": {},
     "output_type": "execute_result"
    }
   ],
   "source": [
    "df_item_properties.head(2)"
   ]
  },
  {
   "cell_type": "code",
   "execution_count": 107,
   "metadata": {},
   "outputs": [],
   "source": [
    "# keep only details of products that belong to the 6 categories\n",
    "df_selected_items = df_item_properties[df_item_properties.itemid.isin(item_ids)]"
   ]
  },
  {
   "cell_type": "code",
   "execution_count": 108,
   "metadata": {},
   "outputs": [],
   "source": [
    "# keep only one row for each pair (itemid, property)\n",
    "df_selected_items = df_selected_items.drop_duplicates(subset=['itemid', 'property'], keep='first')"
   ]
  },
  {
   "cell_type": "code",
   "execution_count": 109,
   "metadata": {},
   "outputs": [],
   "source": [
    "# create a df with the category property\n",
    "df_item_categ = df_selected_items[df_selected_items.property=='categoryid'][['itemid', 'value']]\n",
    "df_item_categ.columns = ['itemid', 'categoryid']\n",
    "\n",
    "# create a df with the title property\n",
    "df_item_titles = df_selected_items[df_selected_items.property=='283'][['itemid', 'value']]\n",
    "df_item_titles.columns = ['itemid', 'title']\n",
    "\n",
    "# merge the above dataframes\n",
    "df_item_details = df_item_titles.merge(df_item_categ, left_on='itemid', right_on='itemid', how='left')"
   ]
  },
  {
   "cell_type": "code",
   "execution_count": 110,
   "metadata": {},
   "outputs": [
    {
     "data": {
      "text/html": [
       "<div>\n",
       "<style scoped>\n",
       "    .dataframe tbody tr th:only-of-type {\n",
       "        vertical-align: middle;\n",
       "    }\n",
       "\n",
       "    .dataframe tbody tr th {\n",
       "        vertical-align: top;\n",
       "    }\n",
       "\n",
       "    .dataframe thead th {\n",
       "        text-align: right;\n",
       "    }\n",
       "</style>\n",
       "<table border=\"1\" class=\"dataframe\">\n",
       "  <thead>\n",
       "    <tr style=\"text-align: right;\">\n",
       "      <th></th>\n",
       "      <th>itemid</th>\n",
       "      <th>title</th>\n",
       "      <th>categoryid</th>\n",
       "    </tr>\n",
       "  </thead>\n",
       "  <tbody>\n",
       "    <tr>\n",
       "      <td>0</td>\n",
       "      <td>291285</td>\n",
       "      <td>942411 177151 64816 133116 1128577 227976 1196328 603188 1128577 227976 1196328 177151 64816 737007 992688 727274 1273256 574225 567967 269926 348137 786181 709553 901561 1080764 824998 111677 675499 113294 610517 398124 280445</td>\n",
       "      <td>1589</td>\n",
       "    </tr>\n",
       "    <tr>\n",
       "      <td>1</td>\n",
       "      <td>103012</td>\n",
       "      <td>1249027 820477 72034 912996 1128577 404632 30603 1009622 1128577 780582 904144 716033 820477 375545 n72000.000 590873 611917 606886 1128577 954367 631756 7681 353870 1324984 145012 568015 737771 237874 1249027 1271914 1058996 836265</td>\n",
       "      <td>1483</td>\n",
       "    </tr>\n",
       "  </tbody>\n",
       "</table>\n",
       "</div>"
      ],
      "text/plain": [
       "   itemid  \\\n",
       "0  291285   \n",
       "1  103012   \n",
       "\n",
       "                                                                                                                                                                                                                                      title  \\\n",
       "0  942411 177151 64816 133116 1128577 227976 1196328 603188 1128577 227976 1196328 177151 64816 737007 992688 727274 1273256 574225 567967 269926 348137 786181 709553 901561 1080764 824998 111677 675499 113294 610517 398124 280445        \n",
       "1  1249027 820477 72034 912996 1128577 404632 30603 1009622 1128577 780582 904144 716033 820477 375545 n72000.000 590873 611917 606886 1128577 954367 631756 7681 353870 1324984 145012 568015 737771 237874 1249027 1271914 1058996 836265   \n",
       "\n",
       "  categoryid  \n",
       "0  1589       \n",
       "1  1483       "
      ]
     },
     "execution_count": 110,
     "metadata": {},
     "output_type": "execute_result"
    }
   ],
   "source": [
    "df_item_details.head(2)"
   ]
  },
  {
   "cell_type": "code",
   "execution_count": 111,
   "metadata": {},
   "outputs": [
    {
     "name": "stderr",
     "output_type": "stream",
     "text": [
      "C:\\Users\\Dimos\\Anaconda3\\lib\\site-packages\\ipykernel_launcher.py:3: SettingWithCopyWarning: \n",
      "A value is trying to be set on a copy of a slice from a DataFrame.\n",
      "Try using .loc[row_indexer,col_indexer] = value instead\n",
      "\n",
      "See the caveats in the documentation: http://pandas.pydata.org/pandas-docs/stable/user_guide/indexing.html#returning-a-view-versus-a-copy\n",
      "  This is separate from the ipykernel package so we can avoid doing imports until\n"
     ]
    }
   ],
   "source": [
    "# convert column to int\n",
    "df_item_details['categoryid'] = df_item_details['categoryid'].astype('int')\n",
    "df_cat_tree['categoryid'] = df_cat_tree['categoryid'].astype('int')\n",
    "df_cat_tree = df_cat_tree.dropna(subset=['parentid'])\n",
    "df_cat_tree['parentid'] = df_cat_tree['parentid'].astype('int')\n",
    "# parentid\n",
    "\n",
    "\n",
    "# add the main category\n",
    "df_item_details = df_item_details.merge(df_cat_tree, left_on='categoryid', right_on='categoryid', how='left')"
   ]
  },
  {
   "cell_type": "code",
   "execution_count": 112,
   "metadata": {},
   "outputs": [
    {
     "data": {
      "text/html": [
       "<div>\n",
       "<style scoped>\n",
       "    .dataframe tbody tr th:only-of-type {\n",
       "        vertical-align: middle;\n",
       "    }\n",
       "\n",
       "    .dataframe tbody tr th {\n",
       "        vertical-align: top;\n",
       "    }\n",
       "\n",
       "    .dataframe thead th {\n",
       "        text-align: right;\n",
       "    }\n",
       "</style>\n",
       "<table border=\"1\" class=\"dataframe\">\n",
       "  <thead>\n",
       "    <tr style=\"text-align: right;\">\n",
       "      <th></th>\n",
       "      <th>itemid</th>\n",
       "      <th>title</th>\n",
       "      <th>categoryid</th>\n",
       "      <th>parentid</th>\n",
       "    </tr>\n",
       "  </thead>\n",
       "  <tbody>\n",
       "    <tr>\n",
       "      <td>0</td>\n",
       "      <td>291285</td>\n",
       "      <td>942411 177151 64816 133116 1128577 227976 1196328 603188 1128577 227976 1196328 177151 64816 737007 992688 727274 1273256 574225 567967 269926 348137 786181 709553 901561 1080764 824998 111677 675499 113294 610517 398124 280445</td>\n",
       "      <td>1589</td>\n",
       "      <td>1426</td>\n",
       "    </tr>\n",
       "    <tr>\n",
       "      <td>1</td>\n",
       "      <td>103012</td>\n",
       "      <td>1249027 820477 72034 912996 1128577 404632 30603 1009622 1128577 780582 904144 716033 820477 375545 n72000.000 590873 611917 606886 1128577 954367 631756 7681 353870 1324984 145012 568015 737771 237874 1249027 1271914 1058996 836265</td>\n",
       "      <td>1483</td>\n",
       "      <td>561</td>\n",
       "    </tr>\n",
       "  </tbody>\n",
       "</table>\n",
       "</div>"
      ],
      "text/plain": [
       "   itemid  \\\n",
       "0  291285   \n",
       "1  103012   \n",
       "\n",
       "                                                                                                                                                                                                                                      title  \\\n",
       "0  942411 177151 64816 133116 1128577 227976 1196328 603188 1128577 227976 1196328 177151 64816 737007 992688 727274 1273256 574225 567967 269926 348137 786181 709553 901561 1080764 824998 111677 675499 113294 610517 398124 280445        \n",
       "1  1249027 820477 72034 912996 1128577 404632 30603 1009622 1128577 780582 904144 716033 820477 375545 n72000.000 590873 611917 606886 1128577 954367 631756 7681 353870 1324984 145012 568015 737771 237874 1249027 1271914 1058996 836265   \n",
       "\n",
       "   categoryid  parentid  \n",
       "0  1589        1426      \n",
       "1  1483        561       "
      ]
     },
     "execution_count": 112,
     "metadata": {},
     "output_type": "execute_result"
    }
   ],
   "source": [
    "df_item_details.head(2)"
   ]
  },
  {
   "cell_type": "code",
   "execution_count": 113,
   "metadata": {},
   "outputs": [],
   "source": [
    "# rename columns\n",
    "df_item_details.columns = ['itemid', 'Title', 'SubCategory', 'Category']"
   ]
  },
  {
   "cell_type": "code",
   "execution_count": 114,
   "metadata": {},
   "outputs": [],
   "source": [
    "# convert columns to str\n",
    "df_item_details['SubCategory'] = df_item_details['SubCategory'].astype('int')\n",
    "df_item_details['Category'] = df_item_details['Category'].astype('int')"
   ]
  },
  {
   "cell_type": "code",
   "execution_count": 115,
   "metadata": {},
   "outputs": [],
   "source": [
    "# create a column with Category+'_cat'\n",
    "df_item_details['Category2'] = df_item_details['Category'].apply(lambda x: str(x)+'_cat')\n",
    "\n",
    "# create a column with SubCategory+'_subcat'\n",
    "df_item_details['SubCategory2'] = df_item_details['SubCategory'].apply(lambda x: str(x)+'_subcat')"
   ]
  },
  {
   "cell_type": "code",
   "execution_count": 116,
   "metadata": {},
   "outputs": [],
   "source": [
    "# create a column with the text: Title+Category2+SubCategory2\n",
    "df_item_details['Title_lc2'] = df_item_details.apply(lambda x: x['Title']+' '+x['Category2']+' '+x['SubCategory2'], axis=1)"
   ]
  },
  {
   "cell_type": "code",
   "execution_count": 117,
   "metadata": {},
   "outputs": [
    {
     "data": {
      "text/html": [
       "<div>\n",
       "<style scoped>\n",
       "    .dataframe tbody tr th:only-of-type {\n",
       "        vertical-align: middle;\n",
       "    }\n",
       "\n",
       "    .dataframe tbody tr th {\n",
       "        vertical-align: top;\n",
       "    }\n",
       "\n",
       "    .dataframe thead th {\n",
       "        text-align: right;\n",
       "    }\n",
       "</style>\n",
       "<table border=\"1\" class=\"dataframe\">\n",
       "  <thead>\n",
       "    <tr style=\"text-align: right;\">\n",
       "      <th></th>\n",
       "      <th>itemid</th>\n",
       "      <th>Title</th>\n",
       "      <th>SubCategory</th>\n",
       "      <th>Category</th>\n",
       "      <th>Category2</th>\n",
       "      <th>SubCategory2</th>\n",
       "      <th>Title_lc2</th>\n",
       "    </tr>\n",
       "  </thead>\n",
       "  <tbody>\n",
       "    <tr>\n",
       "      <td>0</td>\n",
       "      <td>291285</td>\n",
       "      <td>942411 177151 64816 133116 1128577 227976 1196328 603188 1128577 227976 1196328 177151 64816 737007 992688 727274 1273256 574225 567967 269926 348137 786181 709553 901561 1080764 824998 111677 675499 113294 610517 398124 280445</td>\n",
       "      <td>1589</td>\n",
       "      <td>1426</td>\n",
       "      <td>1426_cat</td>\n",
       "      <td>1589_subcat</td>\n",
       "      <td>942411 177151 64816 133116 1128577 227976 1196328 603188 1128577 227976 1196328 177151 64816 737007 992688 727274 1273256 574225 567967 269926 348137 786181 709553 901561 1080764 824998 111677 675499 113294 610517 398124 280445 1426_cat 1589_subcat</td>\n",
       "    </tr>\n",
       "    <tr>\n",
       "      <td>1</td>\n",
       "      <td>103012</td>\n",
       "      <td>1249027 820477 72034 912996 1128577 404632 30603 1009622 1128577 780582 904144 716033 820477 375545 n72000.000 590873 611917 606886 1128577 954367 631756 7681 353870 1324984 145012 568015 737771 237874 1249027 1271914 1058996 836265</td>\n",
       "      <td>1483</td>\n",
       "      <td>561</td>\n",
       "      <td>561_cat</td>\n",
       "      <td>1483_subcat</td>\n",
       "      <td>1249027 820477 72034 912996 1128577 404632 30603 1009622 1128577 780582 904144 716033 820477 375545 n72000.000 590873 611917 606886 1128577 954367 631756 7681 353870 1324984 145012 568015 737771 237874 1249027 1271914 1058996 836265 561_cat 1483_subcat</td>\n",
       "    </tr>\n",
       "  </tbody>\n",
       "</table>\n",
       "</div>"
      ],
      "text/plain": [
       "   itemid  \\\n",
       "0  291285   \n",
       "1  103012   \n",
       "\n",
       "                                                                                                                                                                                                                                      Title  \\\n",
       "0  942411 177151 64816 133116 1128577 227976 1196328 603188 1128577 227976 1196328 177151 64816 737007 992688 727274 1273256 574225 567967 269926 348137 786181 709553 901561 1080764 824998 111677 675499 113294 610517 398124 280445        \n",
       "1  1249027 820477 72034 912996 1128577 404632 30603 1009622 1128577 780582 904144 716033 820477 375545 n72000.000 590873 611917 606886 1128577 954367 631756 7681 353870 1324984 145012 568015 737771 237874 1249027 1271914 1058996 836265   \n",
       "\n",
       "   SubCategory  Category Category2 SubCategory2  \\\n",
       "0  1589         1426      1426_cat  1589_subcat   \n",
       "1  1483         561       561_cat   1483_subcat   \n",
       "\n",
       "                                                                                                                                                                                                                                                      Title_lc2  \n",
       "0  942411 177151 64816 133116 1128577 227976 1196328 603188 1128577 227976 1196328 177151 64816 737007 992688 727274 1273256 574225 567967 269926 348137 786181 709553 901561 1080764 824998 111677 675499 113294 610517 398124 280445 1426_cat 1589_subcat      \n",
       "1  1249027 820477 72034 912996 1128577 404632 30603 1009622 1128577 780582 904144 716033 820477 375545 n72000.000 590873 611917 606886 1128577 954367 631756 7681 353870 1324984 145012 568015 737771 237874 1249027 1271914 1058996 836265 561_cat 1483_subcat  "
      ]
     },
     "execution_count": 117,
     "metadata": {},
     "output_type": "execute_result"
    }
   ],
   "source": [
    "df_item_details.head(2)"
   ]
  },
  {
   "cell_type": "code",
   "execution_count": 118,
   "metadata": {},
   "outputs": [
    {
     "data": {
      "text/plain": [
       "(28241, 7)"
      ]
     },
     "execution_count": 118,
     "metadata": {},
     "output_type": "execute_result"
    }
   ],
   "source": [
    "df_item_details.shape"
   ]
  },
  {
   "cell_type": "code",
   "execution_count": 119,
   "metadata": {},
   "outputs": [
    {
     "data": {
      "text/plain": [
       "6"
      ]
     },
     "execution_count": 119,
     "metadata": {},
     "output_type": "execute_result"
    }
   ],
   "source": [
    "df_item_details.Category2.nunique()"
   ]
  },
  {
   "cell_type": "code",
   "execution_count": 120,
   "metadata": {},
   "outputs": [
    {
     "data": {
      "text/plain": [
       "37"
      ]
     },
     "execution_count": 120,
     "metadata": {},
     "output_type": "execute_result"
    }
   ],
   "source": [
    "df_item_details.SubCategory.nunique()"
   ]
  },
  {
   "cell_type": "code",
   "execution_count": 121,
   "metadata": {},
   "outputs": [],
   "source": [
    "df_item_details.to_pickle('data/final/product_details/df_product_details_retailrocket.pkl')"
   ]
  },
  {
   "cell_type": "code",
   "execution_count": null,
   "metadata": {},
   "outputs": [],
   "source": []
  },
  {
   "cell_type": "code",
   "execution_count": 3,
   "metadata": {},
   "outputs": [],
   "source": [
    "df_item_details = pd.read_pickle('data/final/product_details/df_product_details_retailrocket.pkl')"
   ]
  },
  {
   "cell_type": "code",
   "execution_count": 4,
   "metadata": {},
   "outputs": [
    {
     "data": {
      "text/html": [
       "<div>\n",
       "<style scoped>\n",
       "    .dataframe tbody tr th:only-of-type {\n",
       "        vertical-align: middle;\n",
       "    }\n",
       "\n",
       "    .dataframe tbody tr th {\n",
       "        vertical-align: top;\n",
       "    }\n",
       "\n",
       "    .dataframe thead th {\n",
       "        text-align: right;\n",
       "    }\n",
       "</style>\n",
       "<table border=\"1\" class=\"dataframe\">\n",
       "  <thead>\n",
       "    <tr style=\"text-align: right;\">\n",
       "      <th></th>\n",
       "      <th>itemid</th>\n",
       "      <th>Title</th>\n",
       "      <th>SubCategory</th>\n",
       "      <th>Category</th>\n",
       "      <th>Category2</th>\n",
       "      <th>SubCategory2</th>\n",
       "      <th>Title_lc2</th>\n",
       "    </tr>\n",
       "  </thead>\n",
       "  <tbody>\n",
       "    <tr>\n",
       "      <td>0</td>\n",
       "      <td>291285</td>\n",
       "      <td>942411 177151 64816 133116 1128577 227976 1196328 603188 1128577 227976 1196328 177151 64816 737007 992688 727274 1273256 574225 567967 269926 348137 786181 709553 901561 1080764 824998 111677 675499 113294 610517 398124 280445</td>\n",
       "      <td>1589</td>\n",
       "      <td>1426</td>\n",
       "      <td>1426_cat</td>\n",
       "      <td>1589_subcat</td>\n",
       "      <td>942411 177151 64816 133116 1128577 227976 1196328 603188 1128577 227976 1196328 177151 64816 737007 992688 727274 1273256 574225 567967 269926 348137 786181 709553 901561 1080764 824998 111677 675499 113294 610517 398124 280445 1426_cat 1589_subcat</td>\n",
       "    </tr>\n",
       "  </tbody>\n",
       "</table>\n",
       "</div>"
      ],
      "text/plain": [
       "   itemid  \\\n",
       "0  291285   \n",
       "\n",
       "                                                                                                                                                                                                                                 Title  \\\n",
       "0  942411 177151 64816 133116 1128577 227976 1196328 603188 1128577 227976 1196328 177151 64816 737007 992688 727274 1273256 574225 567967 269926 348137 786181 709553 901561 1080764 824998 111677 675499 113294 610517 398124 280445   \n",
       "\n",
       "   SubCategory  Category Category2 SubCategory2  \\\n",
       "0  1589         1426      1426_cat  1589_subcat   \n",
       "\n",
       "                                                                                                                                                                                                                                                  Title_lc2  \n",
       "0  942411 177151 64816 133116 1128577 227976 1196328 603188 1128577 227976 1196328 177151 64816 737007 992688 727274 1273256 574225 567967 269926 348137 786181 709553 901561 1080764 824998 111677 675499 113294 610517 398124 280445 1426_cat 1589_subcat  "
      ]
     },
     "execution_count": 4,
     "metadata": {},
     "output_type": "execute_result"
    }
   ],
   "source": [
    "df_item_details.head(1)"
   ]
  },
  {
   "cell_type": "code",
   "execution_count": 6,
   "metadata": {},
   "outputs": [
    {
     "data": {
      "text/plain": [
       "37"
      ]
     },
     "execution_count": 6,
     "metadata": {},
     "output_type": "execute_result"
    }
   ],
   "source": [
    "df_item_details.SubCategory.nunique()"
   ]
  },
  {
   "cell_type": "code",
   "execution_count": null,
   "metadata": {},
   "outputs": [],
   "source": []
  }
 ],
 "metadata": {
  "kernelspec": {
   "display_name": "Python 3",
   "language": "python",
   "name": "python3"
  },
  "language_info": {
   "codemirror_mode": {
    "name": "ipython",
    "version": 3
   },
   "file_extension": ".py",
   "mimetype": "text/x-python",
   "name": "python",
   "nbconvert_exporter": "python",
   "pygments_lexer": "ipython3",
   "version": "3.6.3"
  }
 },
 "nbformat": 4,
 "nbformat_minor": 2
}
